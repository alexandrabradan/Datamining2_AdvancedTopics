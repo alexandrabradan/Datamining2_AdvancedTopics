{
 "cells": [
  {
   "cell_type": "markdown",
   "metadata": {},
   "source": [
    "<b>Data mining project - 2020/21</b><br>\n",
    "<b>Authors</b>: [Alexandra Bradan](https://github.com/alexandrabradan), [Alice Graziani](https://github.com/alicegraziani25) and [Eleonora Cocciu](https://github.com/eleonoracocciu)<br>\n",
    "<b>Python version</b>: 3.x<br>\n",
    "<b>Last update: 21/05/2021<b>"
   ]
  },
  {
   "cell_type": "code",
   "execution_count": 1,
   "metadata": {},
   "outputs": [],
   "source": [
    "import os\n",
    "import sys\n",
    "import json\n",
    "\n",
    "import statistics\n",
    "import collections\n",
    "import operator\n",
    "import itertools\n",
    "import pandas as pd\n",
    "import numpy as np\n",
    "import seaborn as sns\n",
    "import missingno as msno\n",
    "import matplotlib.pyplot as plt\n",
    "\n",
    "from matplotlib import colors\n",
    "import matplotlib.patches as mpatches\n",
    "\n",
    "from collections import Counter\n",
    "from collections import OrderedDict\n",
    "\n",
    "from mpl_toolkits.mplot3d import Axes3D\n",
    "from matplotlib.colors import ListedColormap\n",
    "from  matplotlib.ticker import FuncFormatter\n",
    "\n",
    "from sklearn.preprocessing import RobustScaler\n",
    "from sklearn.preprocessing import MinMaxScaler\n",
    "from sklearn.preprocessing import MaxAbsScaler\n",
    "from sklearn.preprocessing import StandardScaler\n",
    "\n",
    "\n",
    "\n",
    "plt.rcParams[\"patch.force_edgecolor\"] = True\n",
    "%matplotlib inline"
   ]
  },
  {
   "cell_type": "markdown",
   "metadata": {},
   "source": [
    "<h2> Librosa features </h2> \n",
    "\n",
    "For each 106,572 tracks, we have 518 Librosa features, having the following cardinalities:\n",
    "\n",
    "1. **chroma_cens** = 12\n",
    "2. **chroma_cqt** = 12\n",
    "3. **chroma_stft** = 12\n",
    "4. **mfcc** = 20\n",
    "5. **rmse** = 1\n",
    "6. **spectral_bandwidth** = 1\n",
    "7. **spectral_centroid** = 1\n",
    "8. **spectral_contrast** = 7\n",
    "9. **spectral_rolloff** = 1\n",
    "10. **tonnetz** = 6\n",
    "11. **zcr** = 1\n",
    "\n",
    "and for each cardinality feature we have the following information:\n",
    "1. **min** = min feature's value;\n",
    "2. **max** = max feature's value;\n",
    "3. **median** = median feature's value;\n",
    "4. **mean** = avg feature's values;\n",
    "5. **std** = std feature's values;\n",
    "6. **skew** = feature's values asymmetry distribution\n",
    "7. **kurtosis** = feature's values tailedness distribution"
   ]
  },
  {
   "cell_type": "code",
   "execution_count": 2,
   "metadata": {},
   "outputs": [
    {
     "data": {
      "text/plain": [
       "(106574, 518)"
      ]
     },
     "execution_count": 2,
     "metadata": {},
     "output_type": "execute_result"
    }
   ],
   "source": [
    "librosaFeatures = pd.read_csv('../../data/fma_metadata/features.csv', index_col=0, header=[0, 1, 2])\n",
    "librosaFeatures.shape"
   ]
  },
  {
   "cell_type": "code",
   "execution_count": 4,
   "metadata": {},
   "outputs": [
    {
     "data": {
      "text/html": [
       "<div>\n",
       "<style scoped>\n",
       "    .dataframe tbody tr th:only-of-type {\n",
       "        vertical-align: middle;\n",
       "    }\n",
       "\n",
       "    .dataframe tbody tr th {\n",
       "        vertical-align: top;\n",
       "    }\n",
       "\n",
       "    .dataframe thead th {\n",
       "        text-align: right;\n",
       "    }\n",
       "</style>\n",
       "<table border=\"1\" class=\"dataframe\">\n",
       "  <thead>\n",
       "    <tr style=\"text-align: right;\">\n",
       "      <th></th>\n",
       "      <th></th>\n",
       "      <th>track_id</th>\n",
       "      <th>2</th>\n",
       "      <th>3</th>\n",
       "    </tr>\n",
       "    <tr>\n",
       "      <th>feature</th>\n",
       "      <th>statistics</th>\n",
       "      <th>number</th>\n",
       "      <th></th>\n",
       "      <th></th>\n",
       "    </tr>\n",
       "  </thead>\n",
       "  <tbody>\n",
       "    <tr>\n",
       "      <th rowspan=\"5\" valign=\"top\">chroma_cens</th>\n",
       "      <th rowspan=\"5\" valign=\"top\">kurtosis</th>\n",
       "      <th>01</th>\n",
       "      <td>7.180653</td>\n",
       "      <td>1.888963</td>\n",
       "    </tr>\n",
       "    <tr>\n",
       "      <th>02</th>\n",
       "      <td>5.230309</td>\n",
       "      <td>0.760539</td>\n",
       "    </tr>\n",
       "    <tr>\n",
       "      <th>03</th>\n",
       "      <td>0.249321</td>\n",
       "      <td>0.345297</td>\n",
       "    </tr>\n",
       "    <tr>\n",
       "      <th>04</th>\n",
       "      <td>1.347620</td>\n",
       "      <td>2.295201</td>\n",
       "    </tr>\n",
       "    <tr>\n",
       "      <th>05</th>\n",
       "      <td>1.482478</td>\n",
       "      <td>1.654031</td>\n",
       "    </tr>\n",
       "    <tr>\n",
       "      <th>...</th>\n",
       "      <th>...</th>\n",
       "      <th>...</th>\n",
       "      <td>...</td>\n",
       "      <td>...</td>\n",
       "    </tr>\n",
       "    <tr>\n",
       "      <th rowspan=\"5\" valign=\"top\">zcr</th>\n",
       "      <th>mean</th>\n",
       "      <th>01</th>\n",
       "      <td>0.085629</td>\n",
       "      <td>0.084578</td>\n",
       "    </tr>\n",
       "    <tr>\n",
       "      <th>median</th>\n",
       "      <th>01</th>\n",
       "      <td>0.071289</td>\n",
       "      <td>0.063965</td>\n",
       "    </tr>\n",
       "    <tr>\n",
       "      <th>min</th>\n",
       "      <th>01</th>\n",
       "      <td>0.000000</td>\n",
       "      <td>0.000000</td>\n",
       "    </tr>\n",
       "    <tr>\n",
       "      <th>skew</th>\n",
       "      <th>01</th>\n",
       "      <td>2.089872</td>\n",
       "      <td>1.716724</td>\n",
       "    </tr>\n",
       "    <tr>\n",
       "      <th>std</th>\n",
       "      <th>01</th>\n",
       "      <td>0.061448</td>\n",
       "      <td>0.069330</td>\n",
       "    </tr>\n",
       "  </tbody>\n",
       "</table>\n",
       "<p>518 rows × 2 columns</p>\n",
       "</div>"
      ],
      "text/plain": [
       "track_id                              2         3\n",
       "feature     statistics number                    \n",
       "chroma_cens kurtosis   01      7.180653  1.888963\n",
       "                       02      5.230309  0.760539\n",
       "                       03      0.249321  0.345297\n",
       "                       04      1.347620  2.295201\n",
       "                       05      1.482478  1.654031\n",
       "...                                 ...       ...\n",
       "zcr         mean       01      0.085629  0.084578\n",
       "            median     01      0.071289  0.063965\n",
       "            min        01      0.000000  0.000000\n",
       "            skew       01      2.089872  1.716724\n",
       "            std        01      0.061448  0.069330\n",
       "\n",
       "[518 rows x 2 columns]"
      ]
     },
     "execution_count": 4,
     "metadata": {},
     "output_type": "execute_result"
    }
   ],
   "source": [
    "librosaFeatures.head(2).T"
   ]
  },
  {
   "cell_type": "code",
   "execution_count": 5,
   "metadata": {},
   "outputs": [
    {
     "name": "stdout",
     "output_type": "stream",
     "text": [
      "Librosa columns: {'chroma_cens': '12', 'chroma_cqt': '12', 'chroma_stft': '12', 'mfcc': '20', 'rmse': '01', 'spectral_bandwidth': '01', 'spectral_centroid': '01', 'spectral_contrast': '07', 'spectral_rolloff': '01', 'tonnetz': '06', 'zcr': '01'}\n",
      "Librosa columns info: {'mean', 'skew', 'min', 'median', 'std', 'max', 'kurtosis'}\n"
     ]
    }
   ],
   "source": [
    "librosa_columns = {}\n",
    "librosa_columns_info = set()\n",
    "for c in librosaFeatures.columns:\n",
    "    librosa_columns_info.add(c[1])\n",
    "    try:\n",
    "        if librosa_columns[str(c[0])] < c[2]:\n",
    "            librosa_columns[str(c[0])] = c[2]\n",
    "    except KeyError:\n",
    "        librosa_columns[str(c[0])] = c[2]\n",
    "print(\"Librosa columns:\", librosa_columns)\n",
    "print(\"Librosa columns info:\", librosa_columns_info)"
   ]
  },
  {
   "cell_type": "markdown",
   "metadata": {},
   "source": [
    "<h6>Keeping only 'mean' columns</h6> "
   ]
  },
  {
   "cell_type": "code",
   "execution_count": 33,
   "metadata": {},
   "outputs": [
    {
     "data": {
      "text/plain": [
       "(106574, 74)"
      ]
     },
     "execution_count": 33,
     "metadata": {},
     "output_type": "execute_result"
    }
   ],
   "source": [
    "mean_columns = []\n",
    "mean_features = []\n",
    "one_nine_numbers = list(range(1, 10))\n",
    "for key, value in librosa_columns.items():\n",
    "    for n in range(1, int(value) + 1):\n",
    "        n = str(n)\n",
    "        if int(n) in one_nine_numbers:\n",
    "            n = \"0\" + n\n",
    "        column_name = key + \"_\" + n\n",
    "        mean_columns.append(column_name)\n",
    "        tmp_serie = librosaFeatures[key]['mean'][n]\n",
    "        mean_features.append(tmp_serie)\n",
    "\n",
    "librosaMeanFeatures = pd.concat(mean_features, axis=1,)\n",
    "librosaMeanFeatures.shape"
   ]
  },
  {
   "cell_type": "code",
   "execution_count": 34,
   "metadata": {},
   "outputs": [],
   "source": [
    "# rename concatenated DataFrame's columns\n",
    "librosaMeanFeatures.columns = list(mean_columns)"
   ]
  },
  {
   "cell_type": "code",
   "execution_count": 59,
   "metadata": {},
   "outputs": [],
   "source": [
    "# librosaMeanFeatures.info()"
   ]
  },
  {
   "cell_type": "markdown",
   "metadata": {},
   "source": [
    "<h2> Pearson correlation before row filtering</h2>"
   ]
  },
  {
   "cell_type": "code",
   "execution_count": 37,
   "metadata": {},
   "outputs": [],
   "source": [
    "def normalize_df(df, scaler_flag):\n",
    "    # for column_name in columns_to_normalize:\n",
    "    column_names = list(df.columns)\n",
    "    for column_name in column_names:\n",
    "        data = df[column_name]\n",
    "        scaler = None\n",
    "        if scaler_flag == \"min_max\":\n",
    "            scaler = MinMaxScaler()\n",
    "        elif scaler_flag == \"standard\":\n",
    "            scaler = StandardScaler()\n",
    "        elif scaler_flag == \"maxabs\":\n",
    "            scaler = MaxAbsScaler()\n",
    "        elif scaler_flag == \"robust\":\n",
    "            scaler = RobustScaler()\n",
    "        else:\n",
    "            print(\"scaler_flag error\")\n",
    "            sys.exit(-1)\n",
    "        # fit the model on the feature to normale its values and transform it\n",
    "        df[column_name] = scaler.fit_transform(df[column_name].values.reshape(-1,1))[:, 0]\n",
    "    return df"
   ]
  },
  {
   "cell_type": "code",
   "execution_count": 99,
   "metadata": {},
   "outputs": [],
   "source": [
    "def corrX_orig(df, cut = 0.9) :\n",
    "    \"\"\"\n",
    "    https://towardsdatascience.com/are-you-dropping-too-many-correlated-features-d1c96654abe6\n",
    "    \"\"\"\n",
    "        \n",
    "    # Get correlation matrix and upper triagle\n",
    "    corr_mtx = df.corr().abs()\n",
    "    avg_corr = corr_mtx.mean(axis = 1)\n",
    "    up = corr_mtx.where(np.triu(np.ones(corr_mtx.shape), k=1).astype(np.bool))\n",
    "    \n",
    "    drop = list()\n",
    "\n",
    "        \n",
    "    # For loop implements this pseudocode\n",
    "    # For every cell in the upper triangle: \n",
    "        # If cell.value > 0.6: \n",
    "                # If mean(row_correlation) > mean(column_correlation):drop(column)\n",
    "    # Else: drop(row)\n",
    "    for row in range(len(up)-1):\n",
    "        col_idx = row + 1\n",
    "        for col in range (col_idx, len(up)):\n",
    "            if(corr_mtx.iloc[row, col] > cut):\n",
    "                if(avg_corr.iloc[row] > avg_corr.iloc[col]): \n",
    "                    drop.append(row)\n",
    "                else: \n",
    "                    drop.append(col)\n",
    "    \n",
    "    drop_set = list(set(drop))\n",
    "    # dropcols_idx = drop_set\n",
    "    dropcols_names = list(df.columns[[item for item in drop_set]])\n",
    "    \n",
    "    return(dropcols_names)"
   ]
  },
  {
   "cell_type": "code",
   "execution_count": 130,
   "metadata": {},
   "outputs": [],
   "source": [
    "def calcDrop(res):\n",
    "    # All variables with correlation > cutoff\n",
    "    all_corr_vars = list(set(res['v1'].tolist() + res['v2'].tolist()))\n",
    "    \n",
    "    # All unique variables in drop column\n",
    "    poss_drop = list(set(res['drop'].tolist()))\n",
    "\n",
    "    # Keep any variable not in drop column\n",
    "    keep = list(set(all_corr_vars).difference(set(poss_drop)))\n",
    "     \n",
    "    # Drop any variables in same row as a keep variable\n",
    "    p = res[ res['v1'].isin(keep)  | res['v2'].isin(keep) ][['v1', 'v2']]\n",
    "    q = list(set(p['v1'].tolist() + p['v2'].tolist()))\n",
    "    drop = (list(set(q).difference(set(keep))))\n",
    "\n",
    "    # Remove drop variables from possible drop \n",
    "    poss_drop = list(set(poss_drop).difference(set(drop)))\n",
    "    \n",
    "    # subset res dataframe to include possible drop pairs\n",
    "    m = res[ res['v1'].isin(poss_drop)  | res['v2'].isin(poss_drop) ][['v1', 'v2','drop']]\n",
    "        \n",
    "    # remove rows that are decided (drop), take set and add to drops\n",
    "    more_drop = set(list(m[~m['v1'].isin(drop) & ~m['v2'].isin(drop)]['drop']))\n",
    "    for item in more_drop:\n",
    "        drop.append(item)\n",
    "         \n",
    "    return drop"
   ]
  },
  {
   "cell_type": "code",
   "execution_count": 131,
   "metadata": {},
   "outputs": [],
   "source": [
    "def corrX_new(df, cut = 0.9) :\n",
    "       \n",
    "    # Get correlation matrix and upper triagle\n",
    "    corr_mtx = df.corr().abs()\n",
    "    avg_corr = corr_mtx.mean(axis = 1)\n",
    "    up = corr_mtx.where(np.triu(np.ones(corr_mtx.shape), k=1).astype(np.bool))\n",
    "    \n",
    "    dropcols = list()\n",
    "    \n",
    "    res = pd.DataFrame(columns=(['v1', 'v2', 'v1.target', \n",
    "                                 'v2.target','corr', 'drop' ]))\n",
    "    \n",
    "    for row in range(len(up)-1):\n",
    "        col_idx = row + 1\n",
    "        for col in range (col_idx, len(up)):\n",
    "            if(corr_mtx.iloc[row, col] > cut):\n",
    "                if(avg_corr.iloc[row] > avg_corr.iloc[col]): \n",
    "                    dropcols.append(row)\n",
    "                    drop = corr_mtx.columns[row]\n",
    "                else: \n",
    "                    dropcols.append(col)\n",
    "                    drop = corr_mtx.columns[col]\n",
    "                \n",
    "                s = pd.Series([ corr_mtx.index[row],\n",
    "                up.columns[col],\n",
    "                avg_corr[row],\n",
    "                avg_corr[col],\n",
    "                up.iloc[row,col],\n",
    "                drop],\n",
    "                index = res.columns)\n",
    "        \n",
    "                res = res.append(s, ignore_index = True)\n",
    "    \n",
    "    dropcols_names = calcDrop(res)\n",
    "    \n",
    "    return(dropcols_names)"
   ]
  },
  {
   "cell_type": "code",
   "execution_count": 71,
   "metadata": {},
   "outputs": [
    {
     "data": {
      "image/png": "[encoded data removed]",
      "text/plain": [
       "<Figure size 720x576 with 2 Axes>"
      ]
     },
     "metadata": {
      "needs_background": "light"
     },
     "output_type": "display_data"
    }
   ],
   "source": [
    "norm_librosaMeanFeatures = normalize_df(librosaMeanFeatures, \"min_max\")\n",
    "corr = norm_librosaMeanFeatures.corr()\n",
    "\n",
    "f, ax = plt.subplots(figsize=(10, 8))\n",
    "cmap = sns.diverging_palette(255, 30, 255, as_cmap=True)\n",
    "mask = np.zeros_like(corr, dtype=np.bool)\n",
    "mask[np.triu_indices_from(mask)] = False\n",
    "heatmap = sns.heatmap(corr, mask=mask, cmap=cmap, center=0.0, vmax = 1, vmin = -1, \n",
    "                                                                              square=True, linewidths=1, ax=ax)\n",
    "\n",
    "plt.xlabel(\"\")\n",
    "plt.ylabel(\"\")\n",
    "plt.title(\"Librosa' Pearson correlation coefficient\")\n",
    "plt.show()"
   ]
  },
  {
   "cell_type": "code",
   "execution_count": 87,
   "metadata": {},
   "outputs": [
    {
     "name": "stdout",
     "output_type": "stream",
     "text": [
      "spectral_bandwidth_01\tmfcc_02\t-0.76\n",
      "spectral_centroid_01\tmfcc_02\t-0.78\n",
      "spectral_rolloff_01\tmfcc_02\t-0.77\n"
     ]
    }
   ],
   "source": [
    "# investigating negative correlation\n",
    "threshold = -0.6\n",
    "for i in range(len(corr.columns)):\n",
    "    for j in range(i):\n",
    "        if (corr.iloc[i, j] <= threshold):\n",
    "            print(corr.columns[i], corr.columns[j], round(corr.iloc[i, j], 2), sep=\"\\t\")"
   ]
  },
  {
   "cell_type": "code",
   "execution_count": 83,
   "metadata": {},
   "outputs": [
    {
     "data": {
      "text/plain": [
       "-0.58"
      ]
     },
     "execution_count": 83,
     "metadata": {},
     "output_type": "execute_result"
    }
   ],
   "source": [
    "round(corr['mfcc_02']['zcr_01'], 2)"
   ]
  },
  {
   "cell_type": "markdown",
   "metadata": {},
   "source": [
    "**mfcc_02 is negative correlated with spectral_bandwidth_01 (-0.76), spectral_centroid_01 (-0.78) and spectral_rolloff_01 (-0.77)**, since:\n",
    "\n",
    "- spectral_bandwidth_01 is positive correlated with spectral_centroid_01 (+0.89) and spectral_rolloff_01 (+0.93);\n",
    "- spectral_centroid_01 is positive correlated with spectral_bandwidth_01 (+0.89), spectral_rolloff_01 (+0.98) and zcr_01 (+0.85);\n",
    "- spectral_rolloff_01 is positive correlated with spectral_bandwidth_01 (+0.93), spectral_centroid_01 (+0.98) and zcr_01 (+0.75).\n",
    "\n",
    "<b><font color=\"green\">\n",
    "KEEP: mfcc_02\n",
    "    \n",
    "REMOVE: spectral_bandwidth_01, spectral_centroid_01, spectral_rolloff_01\n",
    "</font></b>"
   ]
  },
  {
   "cell_type": "code",
   "execution_count": 123,
   "metadata": {},
   "outputs": [
    {
     "name": "stdout",
     "output_type": "stream",
     "text": [
      "not_mentioned_columns 20\n"
     ]
    }
   ],
   "source": [
    "# investigating positive correlation\n",
    "threshold = 0.6\n",
    "not_mentioned_columns = set(librosaMeanFeatures.columns)\n",
    "for i in range(len(corr.columns)):\n",
    "    for j in range(i):\n",
    "        if (corr.iloc[i, j] >= threshold):\n",
    "            try:\n",
    "                not_mentioned_columns.remove(corr.columns[i])\n",
    "            except KeyError:\n",
    "                pass\n",
    "            try:\n",
    "                not_mentioned_columns.remove(corr.columns[j])\n",
    "            except KeyError:\n",
    "                pass\n",
    "print(\"not_mentioned_columns\", len(not_mentioned_columns))"
   ]
  },
  {
   "cell_type": "code",
   "execution_count": 124,
   "metadata": {},
   "outputs": [
    {
     "name": "stdout",
     "output_type": "stream",
     "text": [
      "chroma_cens_03\tchroma_cens_02\t+0.61\n",
      "chroma_cens_06\tchroma_cens_05\t+0.67\n",
      "chroma_cens_08\tchroma_cens_07\t+0.64\n",
      "chroma_cens_11\tchroma_cens_10\t+0.64\n",
      "chroma_cqt_01\tchroma_cens_01\t+0.93\n",
      "chroma_cqt_02\tchroma_cens_02\t+0.89\n",
      "chroma_cqt_02\tchroma_cqt_01\t+0.68\n",
      "chroma_cqt_03\tchroma_cens_03\t+0.93\n",
      "chroma_cqt_03\tchroma_cqt_02\t+0.71\n",
      "chroma_cqt_04\tchroma_cens_04\t+0.9\n",
      "chroma_cqt_04\tchroma_cqt_03\t+0.7\n",
      "chroma_cqt_05\tchroma_cens_05\t+0.93\n",
      "chroma_cqt_05\tchroma_cens_06\t+0.65\n",
      "chroma_cqt_05\tchroma_cqt_04\t+0.69\n",
      "chroma_cqt_06\tchroma_cens_05\t+0.62\n",
      "chroma_cqt_06\tchroma_cens_06\t+0.91\n",
      "chroma_cqt_06\tchroma_cqt_05\t+0.73\n",
      "chroma_cqt_07\tchroma_cens_07\t+0.9\n",
      "chroma_cqt_07\tchroma_cqt_06\t+0.68\n",
      "chroma_cqt_08\tchroma_cens_07\t+0.63\n",
      "chroma_cqt_08\tchroma_cens_08\t+0.92\n",
      "chroma_cqt_08\tchroma_cqt_07\t+0.7\n",
      "chroma_cqt_09\tchroma_cens_09\t+0.89\n",
      "chroma_cqt_09\tchroma_cqt_08\t+0.69\n",
      "chroma_cqt_10\tchroma_cens_10\t+0.92\n",
      "chroma_cqt_10\tchroma_cens_11\t+0.62\n",
      "chroma_cqt_10\tchroma_cqt_09\t+0.68\n",
      "chroma_cqt_11\tchroma_cens_11\t+0.9\n",
      "chroma_cqt_11\tchroma_cqt_10\t+0.7\n",
      "chroma_cqt_12\tchroma_cens_12\t+0.91\n",
      "chroma_cqt_12\tchroma_cqt_11\t+0.67\n",
      "chroma_stft_02\tchroma_stft_01\t+0.73\n",
      "chroma_stft_03\tchroma_stft_02\t+0.74\n",
      "chroma_stft_04\tchroma_stft_02\t+0.64\n",
      "chroma_stft_04\tchroma_stft_03\t+0.78\n",
      "chroma_stft_05\tchroma_stft_04\t+0.74\n",
      "chroma_stft_06\tchroma_stft_04\t+0.62\n",
      "chroma_stft_06\tchroma_stft_05\t+0.78\n",
      "chroma_stft_07\tchroma_stft_06\t+0.75\n",
      "chroma_stft_08\tchroma_stft_07\t+0.72\n",
      "chroma_stft_09\tchroma_stft_08\t+0.71\n",
      "chroma_stft_10\tchroma_stft_09\t+0.74\n",
      "chroma_stft_11\tchroma_stft_09\t+0.61\n",
      "chroma_stft_11\tchroma_stft_10\t+0.72\n",
      "chroma_stft_12\tchroma_stft_01\t+0.74\n",
      "chroma_stft_12\tchroma_stft_11\t+0.73\n",
      "mfcc_08\tmfcc_06\t+0.6\n",
      "mfcc_10\tmfcc_08\t+0.64\n",
      "mfcc_12\tmfcc_10\t+0.62\n",
      "mfcc_14\tmfcc_12\t+0.62\n",
      "mfcc_20\tmfcc_18\t+0.61\n",
      "rmse_01\tmfcc_01\t+0.74\n",
      "spectral_centroid_01\tspectral_bandwidth_01\t+0.89\n",
      "spectral_contrast_03\tspectral_contrast_02\t+0.83\n",
      "spectral_contrast_04\tspectral_contrast_02\t+0.7\n",
      "spectral_contrast_04\tspectral_contrast_03\t+0.84\n",
      "spectral_contrast_05\tspectral_contrast_04\t+0.66\n",
      "spectral_contrast_07\tmfcc_01\t+0.62\n",
      "spectral_rolloff_01\tspectral_bandwidth_01\t+0.93\n",
      "spectral_rolloff_01\tspectral_centroid_01\t+0.98\n",
      "zcr_01\tspectral_centroid_01\t+0.85\n",
      "zcr_01\tspectral_rolloff_01\t+0.75\n"
     ]
    }
   ],
   "source": [
    "# investigating positive correlation\n",
    "already_lookup_columns = []\n",
    "\n",
    "\n",
    "threshold = 0.6\n",
    "for i in range(len(corr.columns)):\n",
    "    for j in range(i):\n",
    "        if (corr.iloc[i, j] >= threshold):\n",
    "            if corr.columns[i] and corr.columns[j] in already_lookup_columns:\n",
    "                continue\n",
    "            print(corr.columns[i], corr.columns[j], \"+\" + str(round(corr.iloc[i, j], 2)), sep=\"\\t\")"
   ]
  },
  {
   "cell_type": "code",
   "execution_count": 134,
   "metadata": {},
   "outputs": [],
   "source": [
    "# old_drop = corrX_orig(norm_librosaMeanFeatures, cut = 0.6)\n",
    "# remanining_columns = sorted(list(set(librosaMeanFeatures).difference(set(old_drop))))\n",
    "# print(\"remanining_columns\", len(remanining_columns))\n",
    "# remanining_columns"
   ]
  },
  {
   "cell_type": "code",
   "execution_count": 132,
   "metadata": {},
   "outputs": [
    {
     "name": "stdout",
     "output_type": "stream",
     "text": [
      "remanining_columns 43\n"
     ]
    },
    {
     "data": {
      "text/plain": [
       "['chroma_cens_01',\n",
       " 'chroma_cens_03',\n",
       " 'chroma_cens_04',\n",
       " 'chroma_cens_06',\n",
       " 'chroma_cens_07',\n",
       " 'chroma_cens_09',\n",
       " 'chroma_cens_11',\n",
       " 'chroma_cens_12',\n",
       " 'chroma_cqt_02',\n",
       " 'chroma_stft_03',\n",
       " 'chroma_stft_05',\n",
       " 'chroma_stft_08',\n",
       " 'chroma_stft_10',\n",
       " 'chroma_stft_12',\n",
       " 'mfcc_02',\n",
       " 'mfcc_03',\n",
       " 'mfcc_04',\n",
       " 'mfcc_05',\n",
       " 'mfcc_06',\n",
       " 'mfcc_07',\n",
       " 'mfcc_09',\n",
       " 'mfcc_10',\n",
       " 'mfcc_11',\n",
       " 'mfcc_13',\n",
       " 'mfcc_14',\n",
       " 'mfcc_15',\n",
       " 'mfcc_16',\n",
       " 'mfcc_17',\n",
       " 'mfcc_19',\n",
       " 'mfcc_20',\n",
       " 'rmse_01',\n",
       " 'spectral_contrast_01',\n",
       " 'spectral_contrast_03',\n",
       " 'spectral_contrast_05',\n",
       " 'spectral_contrast_06',\n",
       " 'spectral_contrast_07',\n",
       " 'tonnetz_01',\n",
       " 'tonnetz_02',\n",
       " 'tonnetz_03',\n",
       " 'tonnetz_04',\n",
       " 'tonnetz_05',\n",
       " 'tonnetz_06',\n",
       " 'zcr_01']"
      ]
     },
     "execution_count": 132,
     "metadata": {},
     "output_type": "execute_result"
    }
   ],
   "source": [
    "new_drop = corrX_new(norm_librosaMeanFeatures, cut = 0.6)\n",
    "remanining_columns = sorted(list(set(librosaMeanFeatures).difference(set(new_drop))))\n",
    "print(\"remanining_columns\", len(remanining_columns))\n",
    "remanining_columns"
   ]
  }
 ],
 "metadata": {
  "kernelspec": {
   "display_name": "Python 3",
   "language": "python",
   "name": "python3"
  },
  "language_info": {
   "codemirror_mode": {
    "name": "ipython",
    "version": 3
   },
   "file_extension": ".py",
   "mimetype": "text/x-python",
   "name": "python",
   "nbconvert_exporter": "python",
   "pygments_lexer": "ipython3",
   "version": "3.8.3"
  }
 },
 "nbformat": 4,
 "nbformat_minor": 4
}
