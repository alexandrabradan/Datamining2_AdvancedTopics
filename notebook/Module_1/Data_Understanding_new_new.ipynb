{
 "cells": [
  {
   "cell_type": "markdown",
   "metadata": {},
   "source": [
    "<b>Data mining project - 2020/21</b><br>\n",
    "<b>Authors</b>: [Alexandra Bradan](https://github.com/alexandrabradan), [Alice Graziani](https://github.com/alicegraziani25) and [Eleonora Cocciu](https://github.com/eleonoracocciu)<br>\n",
    "<b>Python version</b>: 3.x<br>\n",
    "<b>Last update: 21/05/2021<b>"
   ]
  },
  {
   "cell_type": "code",
   "execution_count": 2141,
   "metadata": {},
   "outputs": [],
   "source": [
    "import os\n",
    "import sys\n",
    "\n",
    "import operator\n",
    "import pandas as pd\n",
    "import numpy as np\n",
    "import seaborn as sns\n",
    "import missingno as msno\n",
    "import matplotlib.pyplot as plt\n",
    "\n",
    "from collections import Counter\n",
    "from collections import OrderedDict\n",
    "\n",
    "from mpl_toolkits.mplot3d import Axes3D\n",
    "from matplotlib.colors import ListedColormap\n",
    "from  matplotlib.ticker import FuncFormatter\n",
    "\n",
    "from sklearn.preprocessing import RobustScaler\n",
    "from sklearn.preprocessing import MinMaxScaler\n",
    "from sklearn.preprocessing import MaxAbsScaler\n",
    "from sklearn.preprocessing import StandardScaler\n",
    "\n",
    "\n",
    "\n",
    "plt.rcParams[\"patch.force_edgecolor\"] = True\n",
    "%matplotlib inline"
   ]
  },
  {
   "cell_type": "code",
   "execution_count": 2142,
   "metadata": {},
   "outputs": [
    {
     "data": {
      "text/plain": [
       "(106574, 52)"
      ]
     },
     "execution_count": 2142,
     "metadata": {},
     "output_type": "execute_result"
    }
   ],
   "source": [
    "tracks = pd.read_csv('../../data/fma_metadata/tracks.csv', index_col=0, header=[0, 1])\n",
    "tracks.shape"
   ]
  },
  {
   "cell_type": "code",
   "execution_count": 2143,
   "metadata": {},
   "outputs": [
    {
     "data": {
      "text/html": [
       "<div>\n",
       "<style scoped>\n",
       "    .dataframe tbody tr th:only-of-type {\n",
       "        vertical-align: middle;\n",
       "    }\n",
       "\n",
       "    .dataframe tbody tr th {\n",
       "        vertical-align: top;\n",
       "    }\n",
       "\n",
       "    .dataframe thead th {\n",
       "        text-align: right;\n",
       "    }\n",
       "</style>\n",
       "<table border=\"1\" class=\"dataframe\">\n",
       "  <thead>\n",
       "    <tr style=\"text-align: right;\">\n",
       "      <th></th>\n",
       "      <th>track_id</th>\n",
       "      <th>2</th>\n",
       "      <th>3</th>\n",
       "      <th>5</th>\n",
       "    </tr>\n",
       "  </thead>\n",
       "  <tbody>\n",
       "    <tr>\n",
       "      <th rowspan=\"13\" valign=\"top\">album</th>\n",
       "      <th>comments</th>\n",
       "      <td>0</td>\n",
       "      <td>0</td>\n",
       "      <td>0</td>\n",
       "    </tr>\n",
       "    <tr>\n",
       "      <th>date_created</th>\n",
       "      <td>2008-11-26 01:44:45</td>\n",
       "      <td>2008-11-26 01:44:45</td>\n",
       "      <td>2008-11-26 01:44:45</td>\n",
       "    </tr>\n",
       "    <tr>\n",
       "      <th>date_released</th>\n",
       "      <td>2009-01-05 00:00:00</td>\n",
       "      <td>2009-01-05 00:00:00</td>\n",
       "      <td>2009-01-05 00:00:00</td>\n",
       "    </tr>\n",
       "    <tr>\n",
       "      <th>engineer</th>\n",
       "      <td>NaN</td>\n",
       "      <td>NaN</td>\n",
       "      <td>NaN</td>\n",
       "    </tr>\n",
       "    <tr>\n",
       "      <th>favorites</th>\n",
       "      <td>4</td>\n",
       "      <td>4</td>\n",
       "      <td>4</td>\n",
       "    </tr>\n",
       "    <tr>\n",
       "      <th>id</th>\n",
       "      <td>1</td>\n",
       "      <td>1</td>\n",
       "      <td>1</td>\n",
       "    </tr>\n",
       "    <tr>\n",
       "      <th>information</th>\n",
       "      <td>&lt;p&gt;&lt;/p&gt;</td>\n",
       "      <td>&lt;p&gt;&lt;/p&gt;</td>\n",
       "      <td>&lt;p&gt;&lt;/p&gt;</td>\n",
       "    </tr>\n",
       "    <tr>\n",
       "      <th>listens</th>\n",
       "      <td>6073</td>\n",
       "      <td>6073</td>\n",
       "      <td>6073</td>\n",
       "    </tr>\n",
       "    <tr>\n",
       "      <th>producer</th>\n",
       "      <td>NaN</td>\n",
       "      <td>NaN</td>\n",
       "      <td>NaN</td>\n",
       "    </tr>\n",
       "    <tr>\n",
       "      <th>tags</th>\n",
       "      <td>[]</td>\n",
       "      <td>[]</td>\n",
       "      <td>[]</td>\n",
       "    </tr>\n",
       "    <tr>\n",
       "      <th>title</th>\n",
       "      <td>AWOL - A Way Of Life</td>\n",
       "      <td>AWOL - A Way Of Life</td>\n",
       "      <td>AWOL - A Way Of Life</td>\n",
       "    </tr>\n",
       "    <tr>\n",
       "      <th>tracks</th>\n",
       "      <td>7</td>\n",
       "      <td>7</td>\n",
       "      <td>7</td>\n",
       "    </tr>\n",
       "    <tr>\n",
       "      <th>type</th>\n",
       "      <td>Album</td>\n",
       "      <td>Album</td>\n",
       "      <td>Album</td>\n",
       "    </tr>\n",
       "    <tr>\n",
       "      <th rowspan=\"17\" valign=\"top\">artist</th>\n",
       "      <th>active_year_begin</th>\n",
       "      <td>2006-01-01 00:00:00</td>\n",
       "      <td>2006-01-01 00:00:00</td>\n",
       "      <td>2006-01-01 00:00:00</td>\n",
       "    </tr>\n",
       "    <tr>\n",
       "      <th>active_year_end</th>\n",
       "      <td>NaN</td>\n",
       "      <td>NaN</td>\n",
       "      <td>NaN</td>\n",
       "    </tr>\n",
       "    <tr>\n",
       "      <th>associated_labels</th>\n",
       "      <td>NaN</td>\n",
       "      <td>NaN</td>\n",
       "      <td>NaN</td>\n",
       "    </tr>\n",
       "    <tr>\n",
       "      <th>bio</th>\n",
       "      <td>&lt;p&gt;A Way Of Life, A Collective of Hip-Hop from...</td>\n",
       "      <td>&lt;p&gt;A Way Of Life, A Collective of Hip-Hop from...</td>\n",
       "      <td>&lt;p&gt;A Way Of Life, A Collective of Hip-Hop from...</td>\n",
       "    </tr>\n",
       "    <tr>\n",
       "      <th>comments</th>\n",
       "      <td>0</td>\n",
       "      <td>0</td>\n",
       "      <td>0</td>\n",
       "    </tr>\n",
       "    <tr>\n",
       "      <th>date_created</th>\n",
       "      <td>2008-11-26 01:42:32</td>\n",
       "      <td>2008-11-26 01:42:32</td>\n",
       "      <td>2008-11-26 01:42:32</td>\n",
       "    </tr>\n",
       "    <tr>\n",
       "      <th>favorites</th>\n",
       "      <td>9</td>\n",
       "      <td>9</td>\n",
       "      <td>9</td>\n",
       "    </tr>\n",
       "    <tr>\n",
       "      <th>id</th>\n",
       "      <td>1</td>\n",
       "      <td>1</td>\n",
       "      <td>1</td>\n",
       "    </tr>\n",
       "    <tr>\n",
       "      <th>latitude</th>\n",
       "      <td>40.0583</td>\n",
       "      <td>40.0583</td>\n",
       "      <td>40.0583</td>\n",
       "    </tr>\n",
       "    <tr>\n",
       "      <th>location</th>\n",
       "      <td>New Jersey</td>\n",
       "      <td>New Jersey</td>\n",
       "      <td>New Jersey</td>\n",
       "    </tr>\n",
       "    <tr>\n",
       "      <th>longitude</th>\n",
       "      <td>-74.4057</td>\n",
       "      <td>-74.4057</td>\n",
       "      <td>-74.4057</td>\n",
       "    </tr>\n",
       "    <tr>\n",
       "      <th>members</th>\n",
       "      <td>Sajje Morocco,Brownbum,ZawidaGod,Custodian of ...</td>\n",
       "      <td>Sajje Morocco,Brownbum,ZawidaGod,Custodian of ...</td>\n",
       "      <td>Sajje Morocco,Brownbum,ZawidaGod,Custodian of ...</td>\n",
       "    </tr>\n",
       "    <tr>\n",
       "      <th>name</th>\n",
       "      <td>AWOL</td>\n",
       "      <td>AWOL</td>\n",
       "      <td>AWOL</td>\n",
       "    </tr>\n",
       "    <tr>\n",
       "      <th>related_projects</th>\n",
       "      <td>The list of past projects is 2 long but every1...</td>\n",
       "      <td>The list of past projects is 2 long but every1...</td>\n",
       "      <td>The list of past projects is 2 long but every1...</td>\n",
       "    </tr>\n",
       "    <tr>\n",
       "      <th>tags</th>\n",
       "      <td>['awol']</td>\n",
       "      <td>['awol']</td>\n",
       "      <td>['awol']</td>\n",
       "    </tr>\n",
       "    <tr>\n",
       "      <th>website</th>\n",
       "      <td>http://www.AzillionRecords.blogspot.com</td>\n",
       "      <td>http://www.AzillionRecords.blogspot.com</td>\n",
       "      <td>http://www.AzillionRecords.blogspot.com</td>\n",
       "    </tr>\n",
       "    <tr>\n",
       "      <th>wikipedia_page</th>\n",
       "      <td>NaN</td>\n",
       "      <td>NaN</td>\n",
       "      <td>NaN</td>\n",
       "    </tr>\n",
       "    <tr>\n",
       "      <th rowspan=\"2\" valign=\"top\">set</th>\n",
       "      <th>split</th>\n",
       "      <td>training</td>\n",
       "      <td>training</td>\n",
       "      <td>training</td>\n",
       "    </tr>\n",
       "    <tr>\n",
       "      <th>subset</th>\n",
       "      <td>small</td>\n",
       "      <td>medium</td>\n",
       "      <td>small</td>\n",
       "    </tr>\n",
       "    <tr>\n",
       "      <th rowspan=\"20\" valign=\"top\">track</th>\n",
       "      <th>bit_rate</th>\n",
       "      <td>256000</td>\n",
       "      <td>256000</td>\n",
       "      <td>256000</td>\n",
       "    </tr>\n",
       "    <tr>\n",
       "      <th>comments</th>\n",
       "      <td>0</td>\n",
       "      <td>0</td>\n",
       "      <td>0</td>\n",
       "    </tr>\n",
       "    <tr>\n",
       "      <th>composer</th>\n",
       "      <td>NaN</td>\n",
       "      <td>NaN</td>\n",
       "      <td>NaN</td>\n",
       "    </tr>\n",
       "    <tr>\n",
       "      <th>date_created</th>\n",
       "      <td>2008-11-26 01:48:12</td>\n",
       "      <td>2008-11-26 01:48:14</td>\n",
       "      <td>2008-11-26 01:48:20</td>\n",
       "    </tr>\n",
       "    <tr>\n",
       "      <th>date_recorded</th>\n",
       "      <td>2008-11-26 00:00:00</td>\n",
       "      <td>2008-11-26 00:00:00</td>\n",
       "      <td>2008-11-26 00:00:00</td>\n",
       "    </tr>\n",
       "    <tr>\n",
       "      <th>duration</th>\n",
       "      <td>168</td>\n",
       "      <td>237</td>\n",
       "      <td>206</td>\n",
       "    </tr>\n",
       "    <tr>\n",
       "      <th>favorites</th>\n",
       "      <td>2</td>\n",
       "      <td>1</td>\n",
       "      <td>6</td>\n",
       "    </tr>\n",
       "    <tr>\n",
       "      <th>genre_top</th>\n",
       "      <td>Hip-Hop</td>\n",
       "      <td>Hip-Hop</td>\n",
       "      <td>Hip-Hop</td>\n",
       "    </tr>\n",
       "    <tr>\n",
       "      <th>genres</th>\n",
       "      <td>[21]</td>\n",
       "      <td>[21]</td>\n",
       "      <td>[21]</td>\n",
       "    </tr>\n",
       "    <tr>\n",
       "      <th>genres_all</th>\n",
       "      <td>[21]</td>\n",
       "      <td>[21]</td>\n",
       "      <td>[21]</td>\n",
       "    </tr>\n",
       "    <tr>\n",
       "      <th>information</th>\n",
       "      <td>NaN</td>\n",
       "      <td>NaN</td>\n",
       "      <td>NaN</td>\n",
       "    </tr>\n",
       "    <tr>\n",
       "      <th>interest</th>\n",
       "      <td>4656</td>\n",
       "      <td>1470</td>\n",
       "      <td>1933</td>\n",
       "    </tr>\n",
       "    <tr>\n",
       "      <th>language_code</th>\n",
       "      <td>en</td>\n",
       "      <td>en</td>\n",
       "      <td>en</td>\n",
       "    </tr>\n",
       "    <tr>\n",
       "      <th>license</th>\n",
       "      <td>Attribution-NonCommercial-ShareAlike 3.0 Inter...</td>\n",
       "      <td>Attribution-NonCommercial-ShareAlike 3.0 Inter...</td>\n",
       "      <td>Attribution-NonCommercial-ShareAlike 3.0 Inter...</td>\n",
       "    </tr>\n",
       "    <tr>\n",
       "      <th>listens</th>\n",
       "      <td>1293</td>\n",
       "      <td>514</td>\n",
       "      <td>1151</td>\n",
       "    </tr>\n",
       "    <tr>\n",
       "      <th>lyricist</th>\n",
       "      <td>NaN</td>\n",
       "      <td>NaN</td>\n",
       "      <td>NaN</td>\n",
       "    </tr>\n",
       "    <tr>\n",
       "      <th>number</th>\n",
       "      <td>3</td>\n",
       "      <td>4</td>\n",
       "      <td>6</td>\n",
       "    </tr>\n",
       "    <tr>\n",
       "      <th>publisher</th>\n",
       "      <td>NaN</td>\n",
       "      <td>NaN</td>\n",
       "      <td>NaN</td>\n",
       "    </tr>\n",
       "    <tr>\n",
       "      <th>tags</th>\n",
       "      <td>[]</td>\n",
       "      <td>[]</td>\n",
       "      <td>[]</td>\n",
       "    </tr>\n",
       "    <tr>\n",
       "      <th>title</th>\n",
       "      <td>Food</td>\n",
       "      <td>Electric Ave</td>\n",
       "      <td>This World</td>\n",
       "    </tr>\n",
       "  </tbody>\n",
       "</table>\n",
       "</div>"
      ],
      "text/plain": [
       "track_id                                                                  2  \\\n",
       "album  comments                                                           0   \n",
       "       date_created                                     2008-11-26 01:44:45   \n",
       "       date_released                                    2009-01-05 00:00:00   \n",
       "       engineer                                                         NaN   \n",
       "       favorites                                                          4   \n",
       "       id                                                                 1   \n",
       "       information                                                  <p></p>   \n",
       "       listens                                                         6073   \n",
       "       producer                                                         NaN   \n",
       "       tags                                                              []   \n",
       "       title                                           AWOL - A Way Of Life   \n",
       "       tracks                                                             7   \n",
       "       type                                                           Album   \n",
       "artist active_year_begin                                2006-01-01 00:00:00   \n",
       "       active_year_end                                                  NaN   \n",
       "       associated_labels                                                NaN   \n",
       "       bio                <p>A Way Of Life, A Collective of Hip-Hop from...   \n",
       "       comments                                                           0   \n",
       "       date_created                                     2008-11-26 01:42:32   \n",
       "       favorites                                                          9   \n",
       "       id                                                                 1   \n",
       "       latitude                                                     40.0583   \n",
       "       location                                                  New Jersey   \n",
       "       longitude                                                   -74.4057   \n",
       "       members            Sajje Morocco,Brownbum,ZawidaGod,Custodian of ...   \n",
       "       name                                                            AWOL   \n",
       "       related_projects   The list of past projects is 2 long but every1...   \n",
       "       tags                                                        ['awol']   \n",
       "       website                      http://www.AzillionRecords.blogspot.com   \n",
       "       wikipedia_page                                                   NaN   \n",
       "set    split                                                       training   \n",
       "       subset                                                         small   \n",
       "track  bit_rate                                                      256000   \n",
       "       comments                                                           0   \n",
       "       composer                                                         NaN   \n",
       "       date_created                                     2008-11-26 01:48:12   \n",
       "       date_recorded                                    2008-11-26 00:00:00   \n",
       "       duration                                                         168   \n",
       "       favorites                                                          2   \n",
       "       genre_top                                                    Hip-Hop   \n",
       "       genres                                                          [21]   \n",
       "       genres_all                                                      [21]   \n",
       "       information                                                      NaN   \n",
       "       interest                                                        4656   \n",
       "       language_code                                                     en   \n",
       "       license            Attribution-NonCommercial-ShareAlike 3.0 Inter...   \n",
       "       listens                                                         1293   \n",
       "       lyricist                                                         NaN   \n",
       "       number                                                             3   \n",
       "       publisher                                                        NaN   \n",
       "       tags                                                              []   \n",
       "       title                                                           Food   \n",
       "\n",
       "track_id                                                                  3  \\\n",
       "album  comments                                                           0   \n",
       "       date_created                                     2008-11-26 01:44:45   \n",
       "       date_released                                    2009-01-05 00:00:00   \n",
       "       engineer                                                         NaN   \n",
       "       favorites                                                          4   \n",
       "       id                                                                 1   \n",
       "       information                                                  <p></p>   \n",
       "       listens                                                         6073   \n",
       "       producer                                                         NaN   \n",
       "       tags                                                              []   \n",
       "       title                                           AWOL - A Way Of Life   \n",
       "       tracks                                                             7   \n",
       "       type                                                           Album   \n",
       "artist active_year_begin                                2006-01-01 00:00:00   \n",
       "       active_year_end                                                  NaN   \n",
       "       associated_labels                                                NaN   \n",
       "       bio                <p>A Way Of Life, A Collective of Hip-Hop from...   \n",
       "       comments                                                           0   \n",
       "       date_created                                     2008-11-26 01:42:32   \n",
       "       favorites                                                          9   \n",
       "       id                                                                 1   \n",
       "       latitude                                                     40.0583   \n",
       "       location                                                  New Jersey   \n",
       "       longitude                                                   -74.4057   \n",
       "       members            Sajje Morocco,Brownbum,ZawidaGod,Custodian of ...   \n",
       "       name                                                            AWOL   \n",
       "       related_projects   The list of past projects is 2 long but every1...   \n",
       "       tags                                                        ['awol']   \n",
       "       website                      http://www.AzillionRecords.blogspot.com   \n",
       "       wikipedia_page                                                   NaN   \n",
       "set    split                                                       training   \n",
       "       subset                                                        medium   \n",
       "track  bit_rate                                                      256000   \n",
       "       comments                                                           0   \n",
       "       composer                                                         NaN   \n",
       "       date_created                                     2008-11-26 01:48:14   \n",
       "       date_recorded                                    2008-11-26 00:00:00   \n",
       "       duration                                                         237   \n",
       "       favorites                                                          1   \n",
       "       genre_top                                                    Hip-Hop   \n",
       "       genres                                                          [21]   \n",
       "       genres_all                                                      [21]   \n",
       "       information                                                      NaN   \n",
       "       interest                                                        1470   \n",
       "       language_code                                                     en   \n",
       "       license            Attribution-NonCommercial-ShareAlike 3.0 Inter...   \n",
       "       listens                                                          514   \n",
       "       lyricist                                                         NaN   \n",
       "       number                                                             4   \n",
       "       publisher                                                        NaN   \n",
       "       tags                                                              []   \n",
       "       title                                                   Electric Ave   \n",
       "\n",
       "track_id                                                                  5  \n",
       "album  comments                                                           0  \n",
       "       date_created                                     2008-11-26 01:44:45  \n",
       "       date_released                                    2009-01-05 00:00:00  \n",
       "       engineer                                                         NaN  \n",
       "       favorites                                                          4  \n",
       "       id                                                                 1  \n",
       "       information                                                  <p></p>  \n",
       "       listens                                                         6073  \n",
       "       producer                                                         NaN  \n",
       "       tags                                                              []  \n",
       "       title                                           AWOL - A Way Of Life  \n",
       "       tracks                                                             7  \n",
       "       type                                                           Album  \n",
       "artist active_year_begin                                2006-01-01 00:00:00  \n",
       "       active_year_end                                                  NaN  \n",
       "       associated_labels                                                NaN  \n",
       "       bio                <p>A Way Of Life, A Collective of Hip-Hop from...  \n",
       "       comments                                                           0  \n",
       "       date_created                                     2008-11-26 01:42:32  \n",
       "       favorites                                                          9  \n",
       "       id                                                                 1  \n",
       "       latitude                                                     40.0583  \n",
       "       location                                                  New Jersey  \n",
       "       longitude                                                   -74.4057  \n",
       "       members            Sajje Morocco,Brownbum,ZawidaGod,Custodian of ...  \n",
       "       name                                                            AWOL  \n",
       "       related_projects   The list of past projects is 2 long but every1...  \n",
       "       tags                                                        ['awol']  \n",
       "       website                      http://www.AzillionRecords.blogspot.com  \n",
       "       wikipedia_page                                                   NaN  \n",
       "set    split                                                       training  \n",
       "       subset                                                         small  \n",
       "track  bit_rate                                                      256000  \n",
       "       comments                                                           0  \n",
       "       composer                                                         NaN  \n",
       "       date_created                                     2008-11-26 01:48:20  \n",
       "       date_recorded                                    2008-11-26 00:00:00  \n",
       "       duration                                                         206  \n",
       "       favorites                                                          6  \n",
       "       genre_top                                                    Hip-Hop  \n",
       "       genres                                                          [21]  \n",
       "       genres_all                                                      [21]  \n",
       "       information                                                      NaN  \n",
       "       interest                                                        1933  \n",
       "       language_code                                                     en  \n",
       "       license            Attribution-NonCommercial-ShareAlike 3.0 Inter...  \n",
       "       listens                                                         1151  \n",
       "       lyricist                                                         NaN  \n",
       "       number                                                             6  \n",
       "       publisher                                                        NaN  \n",
       "       tags                                                              []  \n",
       "       title                                                     This World  "
      ]
     },
     "execution_count": 2143,
     "metadata": {},
     "output_type": "execute_result"
    }
   ],
   "source": [
    "tracks.head(3).T"
   ]
  },
  {
   "cell_type": "markdown",
   "metadata": {},
   "source": [
    "<h1>DataFrame's headers </h1>"
   ]
  },
  {
   "cell_type": "code",
   "execution_count": 2144,
   "metadata": {},
   "outputs": [
    {
     "name": "stdout",
     "output_type": "stream",
     "text": [
      "<class 'pandas.core.frame.DataFrame'>\n",
      "Int64Index: 106574 entries, 2 to 155320\n",
      "Data columns (total 52 columns):\n",
      " #   Column                       Non-Null Count   Dtype  \n",
      "---  ------                       --------------   -----  \n",
      " 0   (album, comments)            106574 non-null  int64  \n",
      " 1   (album, date_created)        103045 non-null  object \n",
      " 2   (album, date_released)       70294 non-null   object \n",
      " 3   (album, engineer)            15295 non-null   object \n",
      " 4   (album, favorites)           106574 non-null  int64  \n",
      " 5   (album, id)                  106574 non-null  int64  \n",
      " 6   (album, information)         83149 non-null   object \n",
      " 7   (album, listens)             106574 non-null  int64  \n",
      " 8   (album, producer)            18060 non-null   object \n",
      " 9   (album, tags)                106574 non-null  object \n",
      " 10  (album, title)               105549 non-null  object \n",
      " 11  (album, tracks)              106574 non-null  int64  \n",
      " 12  (album, type)                100066 non-null  object \n",
      " 13  (artist, active_year_begin)  22711 non-null   object \n",
      " 14  (artist, active_year_end)    5375 non-null    object \n",
      " 15  (artist, associated_labels)  14271 non-null   object \n",
      " 16  (artist, bio)                71156 non-null   object \n",
      " 17  (artist, comments)           106574 non-null  int64  \n",
      " 18  (artist, date_created)       105718 non-null  object \n",
      " 19  (artist, favorites)          106574 non-null  int64  \n",
      " 20  (artist, id)                 106574 non-null  int64  \n",
      " 21  (artist, latitude)           44544 non-null   float64\n",
      " 22  (artist, location)           70210 non-null   object \n",
      " 23  (artist, longitude)          44544 non-null   float64\n",
      " 24  (artist, members)            46849 non-null   object \n",
      " 25  (artist, name)               106574 non-null  object \n",
      " 26  (artist, related_projects)   13152 non-null   object \n",
      " 27  (artist, tags)               106574 non-null  object \n",
      " 28  (artist, website)            79256 non-null   object \n",
      " 29  (artist, wikipedia_page)     5581 non-null    object \n",
      " 30  (set, split)                 106574 non-null  object \n",
      " 31  (set, subset)                106574 non-null  object \n",
      " 32  (track, bit_rate)            106574 non-null  int64  \n",
      " 33  (track, comments)            106574 non-null  int64  \n",
      " 34  (track, composer)            3670 non-null    object \n",
      " 35  (track, date_created)        106574 non-null  object \n",
      " 36  (track, date_recorded)       6159 non-null    object \n",
      " 37  (track, duration)            106574 non-null  int64  \n",
      " 38  (track, favorites)           106574 non-null  int64  \n",
      " 39  (track, genre_top)           49598 non-null   object \n",
      " 40  (track, genres)              106574 non-null  object \n",
      " 41  (track, genres_all)          106574 non-null  object \n",
      " 42  (track, information)         2349 non-null    object \n",
      " 43  (track, interest)            106574 non-null  int64  \n",
      " 44  (track, language_code)       15024 non-null   object \n",
      " 45  (track, license)             106487 non-null  object \n",
      " 46  (track, listens)             106574 non-null  int64  \n",
      " 47  (track, lyricist)            311 non-null     object \n",
      " 48  (track, number)              106574 non-null  int64  \n",
      " 49  (track, publisher)           1263 non-null    object \n",
      " 50  (track, tags)                106574 non-null  object \n",
      " 51  (track, title)               106573 non-null  object \n",
      "dtypes: float64(2), int64(15), object(35)\n",
      "memory usage: 43.1+ MB\n"
     ]
    }
   ],
   "source": [
    "tracks.info()"
   ]
  },
  {
   "cell_type": "markdown",
   "metadata": {},
   "source": [
    "<h1>DataFrame's ids consistencies</h1>"
   ]
  },
  {
   "cell_type": "markdown",
   "metadata": {},
   "source": [
    "<font color=\"fuchsia\"><h6>('album', 'id') consistency </h6></font>"
   ]
  },
  {
   "cell_type": "code",
   "execution_count": 2145,
   "metadata": {},
   "outputs": [],
   "source": [
    "def check_id_consistency_in_dataset(artist_or_album_flag):\n",
    "    consistent_column_among_ids = []\n",
    "    if artist_or_album_flag == 'album':\n",
    "        for column_name in tracks.columns:\n",
    "            if column_name[0] != 'track' and column_name[0] != 'set' and column_name[1] != 'id':\n",
    "                consistent_column_among_ids.append(column_name)\n",
    "    elif artist_or_album_flag == 'artist':\n",
    "        for column_name in tracks.columns:\n",
    "            if column_name[0] != 'track' and column_name[0] != 'set' and column_name[0] != 'album'and \\\n",
    "                                                                                        column_name[1] != 'id':\n",
    "                consistent_column_among_ids.append(column_name)\n",
    "    else:\n",
    "        print(\"wrong artist_or_album_flag\")\n",
    "        sys.exit(-1)\n",
    "    \n",
    "    unique_ids = tracks[(artist_or_album_flag, 'id')].unique()\n",
    "    print(\"TOTAL NUMBER OF UNIQUE %s=%s\" % (artist_or_album_flag.upper(),len(unique_ids)))\n",
    "    print()\n",
    "\n",
    "    consistency_flag = True\n",
    "    for aid in unique_ids:\n",
    "        tmp_df = tracks[tracks[(artist_or_album_flag, 'id')] == aid][consistent_column_among_ids].dropna()\n",
    "        dups = tmp_df.duplicated()\n",
    "        for value, count in dups.value_counts().iteritems():\n",
    "            # number of duplicate rows must be equal to N - 1, since the first row isn't a duplicate of itself,\n",
    "            # the other 2,..., N are, insteaded, duplicates of the first in order to have an ID consistency\n",
    "            if value:\n",
    "                if count != tmp_df.shape[0] - 1: \n",
    "                    print(tmp_df)\n",
    "                    print(\"inconsistent rows for id = %s\" % aid)\n",
    "                    consistency_flag = False\n",
    "                    break\n",
    "    if consistency_flag:\n",
    "        print(\"Dataset is consistent for all %ss\" % artist_or_album_flag)"
   ]
  },
  {
   "cell_type": "code",
   "execution_count": 2146,
   "metadata": {},
   "outputs": [
    {
     "name": "stdout",
     "output_type": "stream",
     "text": [
      "TOTAL NUMBER OF UNIQUE ALBUM=14854\n",
      "\n",
      "Dataset is consistent for all albums\n"
     ]
    }
   ],
   "source": [
    "check_id_consistency_in_dataset('album')"
   ]
  },
  {
   "cell_type": "markdown",
   "metadata": {},
   "source": [
    "<font color=\"fuchsia\"><h6>('artist', 'id') consistency</h6></font>"
   ]
  },
  {
   "cell_type": "code",
   "execution_count": 2147,
   "metadata": {},
   "outputs": [
    {
     "name": "stdout",
     "output_type": "stream",
     "text": [
      "TOTAL NUMBER OF UNIQUE ARTIST=16341\n",
      "\n",
      "Dataset is consistent for all artists\n"
     ]
    }
   ],
   "source": [
    "check_id_consistency_in_dataset('artist')"
   ]
  },
  {
   "cell_type": "markdown",
   "metadata": {},
   "source": [
    "<font color=\"fuchsia\"><h6>('track', 'id') consistency (duplicate rows) </h6></font>\n",
    "Checking if exist duplicated rows (tracks with different ids, but related to same track)"
   ]
  },
  {
   "cell_type": "code",
   "execution_count": 2148,
   "metadata": {},
   "outputs": [
    {
     "name": "stdout",
     "output_type": "stream",
     "text": [
      "Dataset is consistent for all tracks\n"
     ]
    }
   ],
   "source": [
    "dups = tracks.duplicated()\n",
    "if dups.any() == False:\n",
    "    print(\"Dataset is consistent for all tracks\")\n",
    "\n",
    "# delete duplicate rows\n",
    "# df.drop_duplicates(inplace=True)"
   ]
  },
  {
   "cell_type": "markdown",
   "metadata": {},
   "source": [
    "<font color=\"fuchsia\"><h6>('track', 'title') consistency </h6></font>\n",
    "Checking if exists tracks having the same title.  \n",
    "If a track have the same title, than we investigate if it belongs:\n",
    "- to the same artist (a song can have the same name but be sung by different singers); \n",
    "- to the same album (multiple songs can be the same one, belonging to the same album, sung by the same artist, but having different intrinsic, characteristics, i.e. duration or listens);\n",
    "- both."
   ]
  },
  {
   "cell_type": "code",
   "execution_count": 2149,
   "metadata": {},
   "outputs": [
    {
     "name": "stdout",
     "output_type": "stream",
     "text": [
      "tracks with same title 17860 6273\n",
      "tracks with same title and artist id 1020\n",
      "tracks with same title and album id 228\n",
      "tracks with same title, artist id and album id 183\n"
     ]
    }
   ],
   "source": [
    "check0 = tracks[tracks[[('track', 'title')]].duplicated(keep=False)]\n",
    "print(\"tracks with same title\", check0.shape[0], len(check0[('track', 'title')].unique()))\n",
    "check1 = tracks[tracks[[('artist', 'id'), ('track', 'title')]].duplicated(keep=False)]\n",
    "print(\"tracks with same title and artist id\", len(check1[('artist', 'id')].unique()))\n",
    "check2 = tracks[tracks[[('album', 'id'), ('track', 'title')]].duplicated(keep=False)]\n",
    "print(\"tracks with same title and album id\", len(check2[('album', 'id')].unique()))\n",
    "check3 = tracks[tracks[[('album', 'id'),('artist', 'id'), ('track', 'title')]].duplicated(keep=False)]\n",
    "print(\"tracks with same title, artist id and album id\", len(check3[('track', 'title')].unique()))"
   ]
  },
  {
   "cell_type": "markdown",
   "metadata": {},
   "source": [
    "17.860 tracks are involved in 6.273 duplicated titles (belonging the same artist/album or not).\n",
    "Bellow, we try to get more insight in this phenomena."
   ]
  },
  {
   "cell_type": "code",
   "execution_count": 2150,
   "metadata": {},
   "outputs": [],
   "source": [
    "def sns_barplot_x_and_y(param_dict, x_label, title, log_flag, rotation_flag):\n",
    "    sns.barplot(x=list(param_dict.keys()), y=list(param_dict.values()), color=\"#4C72B0\")\n",
    "    if log_flag:\n",
    "        plt.yscale('log')\n",
    "    if rotation_flag:\n",
    "        plt.xticks(rotation=90)\n",
    "    plt.xlabel(x_label)\n",
    "    plt.ylabel(\"count\")\n",
    "    plt.title(title)\n",
    "    plt.show()"
   ]
  },
  {
   "cell_type": "code",
   "execution_count": 2151,
   "metadata": {},
   "outputs": [
    {
     "name": "stdout",
     "output_type": "stream",
     "text": [
      "{1: 2317, 2: 2666, 3: 607, 4: 270, 5: 131, 6: 83, 7: 48, 8: 31, 9: 23, 10: 18, 11: 8, 12: 10, 13: 3, 14: 8, 15: 8, 16: 6, 17: 8, 18: 3, 19: 1, 20: 4, 22: 3, 23: 5, 24: 1, 25: 1, 26: 2, 27: 1, 28: 1, 36: 1, 48: 1, 59: 1, 90: 1, 110: 1, 127: 1}\n",
      "number of artists with at least one duplicate track title 5422\n"
     ]
    },
    {
     "data": {
      "image/png": "[encoded data removed]",
      "text/plain": [
       "<Figure size 432x288 with 1 Axes>"
      ]
     },
     "metadata": {
      "needs_background": "light"
     },
     "output_type": "display_data"
    }
   ],
   "source": [
    "artists = set()\n",
    "duplicate_titles_artists = {}  # key=# duplicate tracks title, value=# artists\n",
    "unique_duplicate_titles = list(check0[('track', 'title')].unique())\n",
    "for title in unique_duplicate_titles:\n",
    "    tmp_list = tracks[(tracks[('track', 'title')] == title)][('artist', 'id')].values\n",
    "    # retrieving duplicate title's artists (if there more than one)\n",
    "    key = len(set(tmp_list))\n",
    "    if key > 0:\n",
    "        try:\n",
    "            count = duplicate_titles_artists[key]\n",
    "            count += 1\n",
    "            duplicate_titles_artists[key] = count\n",
    "        except KeyError:\n",
    "            duplicate_titles_artists[key] = 1\n",
    "        artists.update(set(tmp_list))\n",
    "sorted_duplicate_titles_artists = dict(OrderedDict(sorted(duplicate_titles_artists.items())))\n",
    "print(sorted_duplicate_titles_artists)\n",
    "print(\"number of artists with at least one duplicate track title\", len(artists))\n",
    "sns_barplot_x_and_y(duplicate_titles_artists, \"# of artists sharing same title\", \"Artists per duplicate track title distribution\", True, True)"
   ]
  },
  {
   "cell_type": "markdown",
   "metadata": {},
   "source": [
    "**1020 artists have at least one duplicate track**, while **4402 artists share at least one track title with another artist in this same pool**. \n",
    "\n",
    "The majority of artists having the same track title are two and this phenomenon is more accentuated than a single artist having a duplicate song. Acctually, we detected that 127 artiststs shared the same 'Untitle' track title, which uncover **missing values in the ('track', 'title') column**."
   ]
  },
  {
   "cell_type": "code",
   "execution_count": 2152,
   "metadata": {},
   "outputs": [],
   "source": [
    "missing_title_values = set()\n",
    "for title in tracks[('track', 'title')].unique():\n",
    "    if str(title) != \"nan\":\n",
    "        if \"Untitled\" in title or \"unknown\" in title.lower():\n",
    "            missing_title_values.add(title)\n",
    "# print(missing_title_values)"
   ]
  },
  {
   "cell_type": "code",
   "execution_count": 2153,
   "metadata": {},
   "outputs": [
    {
     "name": "stdout",
     "output_type": "stream",
     "text": [
      "num_missing_title_values 825\n"
     ]
    }
   ],
   "source": [
    "num_missing_title_values = 0\n",
    "for title in tracks[('track', 'title')]:\n",
    "    if str(title) != \"nan\":\n",
    "        if \"untitled\" in title.lower() or \"unknown\" in title.lower():\n",
    "            num_missing_title_values += 1\n",
    "print(\"num_missing_title_values\", num_missing_title_values)"
   ]
  },
  {
   "cell_type": "code",
   "execution_count": 2154,
   "metadata": {},
   "outputs": [
    {
     "data": {
      "text/plain": [
       "track_id\n",
       "26620    NaN\n",
       "Name: (track, title), dtype: object"
      ]
     },
     "execution_count": 2154,
     "metadata": {},
     "output_type": "execute_result"
    }
   ],
   "source": [
    "# checking tracks with explicit missing values (NaN)\n",
    "tracks[tracks[('track', 'title')].isna()][('track', 'title')]"
   ]
  },
  {
   "cell_type": "code",
   "execution_count": 2155,
   "metadata": {},
   "outputs": [
    {
     "data": {
      "text/plain": [
       "track_id\n",
       "26620    NaN\n",
       "Name: (track, title), dtype: object"
      ]
     },
     "execution_count": 2155,
     "metadata": {},
     "output_type": "execute_result"
    }
   ],
   "source": [
    "# checking\n",
    "tracks[tracks[('track', 'title')].isna()][('track', 'title')]"
   ]
  },
  {
   "cell_type": "markdown",
   "metadata": {},
   "source": [
    "<b><font color=\"green\">RECAP:\n",
    "We detect that among many shared tracks' titles, 127 artists display 'Untitled' as songs' name(<font color=\"red\">Missing title value</font>). Other missing values in the ('track', 'title') column are '(Untitled), (Title Unknown)', 'Title Unknown', '(title unknown)', 'title unknown', '(Untitled number)', 'Untitled #number', ... and other combinations.\n",
    "\n",
    "The total number of **missing tracks' titles is 826**, among which 1 title set to NaN, which we imputed as 'Untitled'.\n",
    "</font></b>\n",
    "\n",
    "PREPROCESSING: imputing missing ('track', 'title') with 'Unknown'\n",
    "\n",
    "% checking tracks with explicit missing values (NaN)\n",
    "tracks[tracks[('track', 'title')].isna()][('track', 'title')]\n",
    "\n",
    "% imputing track's missing value with 'Unknown'\n",
    "tracks.at[26620, ('track', 'title')] = 'Unknown'\n",
    "\n",
    "% checking\n",
    "tracks[tracks[('track', 'title')].isna()][('track', 'title')]"
   ]
  },
  {
   "cell_type": "code",
   "execution_count": 2156,
   "metadata": {},
   "outputs": [
    {
     "name": "stdout",
     "output_type": "stream",
     "text": [
      "{1: 655, 2: 128, 3: 75, 4: 45, 5: 23, 6: 17, 7: 13, 8: 9, 9: 9, 10: 4, 11: 8, 12: 4, 13: 3, 14: 1, 15: 5, 16: 1, 18: 2, 19: 2, 20: 2, 21: 1, 24: 1, 25: 3, 26: 1, 27: 1, 29: 1, 36: 1, 37: 1, 38: 1, 49: 1, 56: 1, 126: 1}\n",
      "number of artists with at least one duplicate track in them 1020\n"
     ]
    },
    {
     "data": {
      "image/png": "[encoded data removed]",
      "text/plain": [
       "<Figure size 432x288 with 1 Axes>"
      ]
     },
     "metadata": {
      "needs_background": "light"
     },
     "output_type": "display_data"
    }
   ],
   "source": [
    "artists = set()\n",
    "duplicate_titles_for_same_artist = {}  # key=# duplicate tracks title, value=# artists\n",
    "artist_ids = tracks[('artist', 'id')].unique()\n",
    "for aid in artist_ids:\n",
    "    tmp_list = tracks[(tracks[('artist', 'id')] == aid)][('track', 'title')].values\n",
    "    # retrieving duplicate tracks' title in current album (if there are some)\n",
    "    duplicate_titles = [item for item, count in Counter(tmp_list).items() if count > 1]\n",
    "    key = len(set(duplicate_titles))\n",
    "    if key > 0:\n",
    "        try:\n",
    "            count = duplicate_titles_for_same_artist[key]\n",
    "            count += 1\n",
    "            duplicate_titles_for_same_artist[key] = count\n",
    "        except KeyError:\n",
    "            duplicate_titles_for_same_artist[key] = 1\n",
    "        artists.add(aid)\n",
    "sorted_duplicate_titles_for_same_artist = dict(OrderedDict(sorted(duplicate_titles_for_same_artist.items())))\n",
    "print(sorted_duplicate_titles_for_same_artist)\n",
    "print(\"number of artists with at least one duplicate track in them\", len(artists))\n",
    "sns_barplot_x_and_y(sorted_duplicate_titles_for_same_artist, \"# of duplicated titles\", \"Artist's duplicate track titles distribution\", True, True)"
   ]
  },
  {
   "cell_type": "markdown",
   "metadata": {},
   "source": [
    "**1020 artists have at least one duplicate title track**. Usually the number of duplicate songs is set to two. The exception is represented by the artist having ID 15891, which has a total of 745 tracks among which 126 duplicate tracks are present, displaying a different number of listens, favorites, interest, number and date_created. \n",
    "\n",
    "Finally, we notice that since the number of albums having duplicate track titles in them are less numerous than artists performing duplicate track titles, we can state how among artists' duplicate songs, these songs are present in different albums (since albums and artists are consistent in the dataset, we can approximate an album with its artist and viceversa)."
   ]
  },
  {
   "cell_type": "code",
   "execution_count": 2157,
   "metadata": {},
   "outputs": [
    {
     "name": "stdout",
     "output_type": "stream",
     "text": [
      "{1: 202, 2: 11, 3: 2, 4: 2, 5: 4, 6: 3, 7: 1, 8: 1, 9: 1, 10: 1}\n",
      "number of albums with at least one duplicate track in them 228\n"
     ]
    },
    {
     "data": {
      "image/png": "[encoded data removed]",
      "text/plain": [
       "<Figure size 432x288 with 1 Axes>"
      ]
     },
     "metadata": {
      "needs_background": "light"
     },
     "output_type": "display_data"
    }
   ],
   "source": [
    "duplicate_titles_in_same_album = {}  # key=# duplicate tracks title, value=# albums\n",
    "album_ids = tracks[('album', 'id')].unique()\n",
    "for aid in album_ids:\n",
    "    tmp_list = tracks[(tracks[('album', 'id')] == aid)][('track', 'title')].values\n",
    "    # retrieving duplicate tracks' title in current album (if there are some)\n",
    "    duplicate_titles = [item for item, count in Counter(tmp_list).items() if count > 1]\n",
    "    key = len(set(duplicate_titles))\n",
    "    if key > 0:\n",
    "        try:\n",
    "            count = duplicate_titles_in_same_album[key]\n",
    "            count += 1\n",
    "            duplicate_titles_in_same_album[key] = count\n",
    "        except KeyError:\n",
    "            duplicate_titles_in_same_album[key] = 1\n",
    "sorted_duplicate_titles_in_same_album = dict(OrderedDict(sorted(duplicate_titles_in_same_album.items())))\n",
    "print(sorted_duplicate_titles_in_same_album)\n",
    "print(\"number of albums with at least one duplicate track in them\", sum(sorted_duplicate_titles_in_same_album.values()))\n",
    "sns_barplot_x_and_y(sorted_duplicate_titles_in_same_album, \"# of duplicated titles\", \"Album's duplicate track titles distribution\", True, True)"
   ]
  },
  {
   "cell_type": "markdown",
   "metadata": {},
   "source": [
    "**228 albums have at least one duplicate track's title in them**. The most redundant album is the one with ID 20280, which has a total of 24 tracks, each one present at least one other time in it and displaying a different number of listens, favorites, interest, number and date_created.\n",
    "\n",
    "Most of the times, songs sharing the same title in the same album are two. For the tracks sharing the same title and album id and, as a consequence, artist id, we found that they actually are the same track, repeated multiple times in the same album (this is a quite strange behaviour that needs further investigation)."
   ]
  },
  {
   "cell_type": "code",
   "execution_count": 2158,
   "metadata": {},
   "outputs": [],
   "source": [
    "# tracks[tracks[('track','title')] == \"La Météo\"].T"
   ]
  },
  {
   "cell_type": "code",
   "execution_count": 2159,
   "metadata": {},
   "outputs": [],
   "source": [
    "# tracks[tracks[('track','title')] == \"Mi Corazon Zone\"].T"
   ]
  },
  {
   "cell_type": "markdown",
   "metadata": {},
   "source": [
    "It seems the **tracks sharing the same album id, artist id and track title** differ only for track's metadata:\n",
    "- date_created;\n",
    "- duration;\n",
    "- favorites;\n",
    "- interest;\n",
    "- listens;\n",
    "- number.\n",
    "\n",
    "In particulr having a different track number means that they belong to the same album, but in it they occupy a different track position. For this reason we can consider them as **not being duplicates**. Actually we can hypotize they are **extensions of tracks** itself (like addign a longuer intro, chorus or ending)."
   ]
  },
  {
   "cell_type": "markdown",
   "metadata": {},
   "source": [
    "<h1> DataFrame's numerical statistics</h1>"
   ]
  },
  {
   "cell_type": "code",
   "execution_count": 2160,
   "metadata": {},
   "outputs": [
    {
     "data": {
      "text/html": [
       "<div>\n",
       "<style scoped>\n",
       "    .dataframe tbody tr th:only-of-type {\n",
       "        vertical-align: middle;\n",
       "    }\n",
       "\n",
       "    .dataframe tbody tr th {\n",
       "        vertical-align: top;\n",
       "    }\n",
       "\n",
       "    .dataframe thead th {\n",
       "        text-align: right;\n",
       "    }\n",
       "</style>\n",
       "<table border=\"1\" class=\"dataframe\">\n",
       "  <thead>\n",
       "    <tr style=\"text-align: right;\">\n",
       "      <th></th>\n",
       "      <th></th>\n",
       "      <th>count</th>\n",
       "      <th>mean</th>\n",
       "      <th>std</th>\n",
       "      <th>min</th>\n",
       "      <th>25%</th>\n",
       "      <th>50%</th>\n",
       "      <th>75%</th>\n",
       "      <th>max</th>\n",
       "    </tr>\n",
       "  </thead>\n",
       "  <tbody>\n",
       "    <tr>\n",
       "      <th rowspan=\"5\" valign=\"top\">album</th>\n",
       "      <th>comments</th>\n",
       "      <td>106574.0</td>\n",
       "      <td>0.394946</td>\n",
       "      <td>2.268915</td>\n",
       "      <td>-1.000000</td>\n",
       "      <td>0.000000</td>\n",
       "      <td>0.000000</td>\n",
       "      <td>0.00000</td>\n",
       "      <td>5.300000e+01</td>\n",
       "    </tr>\n",
       "    <tr>\n",
       "      <th>favorites</th>\n",
       "      <td>106574.0</td>\n",
       "      <td>1.286927</td>\n",
       "      <td>3.133035</td>\n",
       "      <td>-1.000000</td>\n",
       "      <td>0.000000</td>\n",
       "      <td>0.000000</td>\n",
       "      <td>1.00000</td>\n",
       "      <td>6.100000e+01</td>\n",
       "    </tr>\n",
       "    <tr>\n",
       "      <th>id</th>\n",
       "      <td>106574.0</td>\n",
       "      <td>12826.933914</td>\n",
       "      <td>6290.261805</td>\n",
       "      <td>-1.000000</td>\n",
       "      <td>7793.000000</td>\n",
       "      <td>13374.000000</td>\n",
       "      <td>18203.00000</td>\n",
       "      <td>2.294000e+04</td>\n",
       "    </tr>\n",
       "    <tr>\n",
       "      <th>listens</th>\n",
       "      <td>106574.0</td>\n",
       "      <td>32120.306182</td>\n",
       "      <td>147853.178406</td>\n",
       "      <td>-1.000000</td>\n",
       "      <td>3361.000000</td>\n",
       "      <td>8982.000000</td>\n",
       "      <td>23635.00000</td>\n",
       "      <td>3.564243e+06</td>\n",
       "    </tr>\n",
       "    <tr>\n",
       "      <th>tracks</th>\n",
       "      <td>106574.0</td>\n",
       "      <td>19.721452</td>\n",
       "      <td>39.943673</td>\n",
       "      <td>-1.000000</td>\n",
       "      <td>7.000000</td>\n",
       "      <td>11.000000</td>\n",
       "      <td>17.00000</td>\n",
       "      <td>6.520000e+02</td>\n",
       "    </tr>\n",
       "    <tr>\n",
       "      <th rowspan=\"5\" valign=\"top\">artist</th>\n",
       "      <th>comments</th>\n",
       "      <td>106574.0</td>\n",
       "      <td>1.894702</td>\n",
       "      <td>6.297679</td>\n",
       "      <td>-1.000000</td>\n",
       "      <td>0.000000</td>\n",
       "      <td>0.000000</td>\n",
       "      <td>1.00000</td>\n",
       "      <td>7.900000e+01</td>\n",
       "    </tr>\n",
       "    <tr>\n",
       "      <th>favorites</th>\n",
       "      <td>106574.0</td>\n",
       "      <td>30.041915</td>\n",
       "      <td>100.511408</td>\n",
       "      <td>-1.000000</td>\n",
       "      <td>1.000000</td>\n",
       "      <td>5.000000</td>\n",
       "      <td>16.00000</td>\n",
       "      <td>9.630000e+02</td>\n",
       "    </tr>\n",
       "    <tr>\n",
       "      <th>id</th>\n",
       "      <td>106574.0</td>\n",
       "      <td>12036.770404</td>\n",
       "      <td>6881.420867</td>\n",
       "      <td>1.000000</td>\n",
       "      <td>6443.000000</td>\n",
       "      <td>12029.500000</td>\n",
       "      <td>18011.00000</td>\n",
       "      <td>2.435700e+04</td>\n",
       "    </tr>\n",
       "    <tr>\n",
       "      <th>latitude</th>\n",
       "      <td>44544.0</td>\n",
       "      <td>39.901626</td>\n",
       "      <td>18.240860</td>\n",
       "      <td>-45.878760</td>\n",
       "      <td>39.271398</td>\n",
       "      <td>41.387917</td>\n",
       "      <td>48.85693</td>\n",
       "      <td>6.728601e+01</td>\n",
       "    </tr>\n",
       "    <tr>\n",
       "      <th>longitude</th>\n",
       "      <td>44544.0</td>\n",
       "      <td>-38.668642</td>\n",
       "      <td>65.237220</td>\n",
       "      <td>-157.526855</td>\n",
       "      <td>-79.997459</td>\n",
       "      <td>-73.554431</td>\n",
       "      <td>4.35171</td>\n",
       "      <td>1.752770e+02</td>\n",
       "    </tr>\n",
       "    <tr>\n",
       "      <th rowspan=\"7\" valign=\"top\">track</th>\n",
       "      <th>bit_rate</th>\n",
       "      <td>106574.0</td>\n",
       "      <td>263274.695048</td>\n",
       "      <td>67623.443584</td>\n",
       "      <td>-1.000000</td>\n",
       "      <td>192000.000000</td>\n",
       "      <td>299914.000000</td>\n",
       "      <td>320000.00000</td>\n",
       "      <td>4.480000e+05</td>\n",
       "    </tr>\n",
       "    <tr>\n",
       "      <th>comments</th>\n",
       "      <td>106574.0</td>\n",
       "      <td>0.031621</td>\n",
       "      <td>0.321993</td>\n",
       "      <td>0.000000</td>\n",
       "      <td>0.000000</td>\n",
       "      <td>0.000000</td>\n",
       "      <td>0.00000</td>\n",
       "      <td>3.700000e+01</td>\n",
       "    </tr>\n",
       "    <tr>\n",
       "      <th>duration</th>\n",
       "      <td>106574.0</td>\n",
       "      <td>277.849100</td>\n",
       "      <td>305.518553</td>\n",
       "      <td>0.000000</td>\n",
       "      <td>149.000000</td>\n",
       "      <td>216.000000</td>\n",
       "      <td>305.00000</td>\n",
       "      <td>1.835000e+04</td>\n",
       "    </tr>\n",
       "    <tr>\n",
       "      <th>favorites</th>\n",
       "      <td>106574.0</td>\n",
       "      <td>3.182521</td>\n",
       "      <td>13.513820</td>\n",
       "      <td>0.000000</td>\n",
       "      <td>0.000000</td>\n",
       "      <td>1.000000</td>\n",
       "      <td>3.00000</td>\n",
       "      <td>1.482000e+03</td>\n",
       "    </tr>\n",
       "    <tr>\n",
       "      <th>interest</th>\n",
       "      <td>106574.0</td>\n",
       "      <td>3541.310207</td>\n",
       "      <td>19017.430891</td>\n",
       "      <td>2.000000</td>\n",
       "      <td>599.000000</td>\n",
       "      <td>1314.000000</td>\n",
       "      <td>3059.00000</td>\n",
       "      <td>3.293557e+06</td>\n",
       "    </tr>\n",
       "    <tr>\n",
       "      <th>listens</th>\n",
       "      <td>106574.0</td>\n",
       "      <td>2329.353548</td>\n",
       "      <td>8028.070647</td>\n",
       "      <td>0.000000</td>\n",
       "      <td>292.000000</td>\n",
       "      <td>764.000000</td>\n",
       "      <td>2018.00000</td>\n",
       "      <td>5.432520e+05</td>\n",
       "    </tr>\n",
       "    <tr>\n",
       "      <th>number</th>\n",
       "      <td>106574.0</td>\n",
       "      <td>8.260945</td>\n",
       "      <td>15.243271</td>\n",
       "      <td>0.000000</td>\n",
       "      <td>2.000000</td>\n",
       "      <td>5.000000</td>\n",
       "      <td>9.00000</td>\n",
       "      <td>2.550000e+02</td>\n",
       "    </tr>\n",
       "  </tbody>\n",
       "</table>\n",
       "</div>"
      ],
      "text/plain": [
       "                     count           mean            std         min  \\\n",
       "album  comments   106574.0       0.394946       2.268915   -1.000000   \n",
       "       favorites  106574.0       1.286927       3.133035   -1.000000   \n",
       "       id         106574.0   12826.933914    6290.261805   -1.000000   \n",
       "       listens    106574.0   32120.306182  147853.178406   -1.000000   \n",
       "       tracks     106574.0      19.721452      39.943673   -1.000000   \n",
       "artist comments   106574.0       1.894702       6.297679   -1.000000   \n",
       "       favorites  106574.0      30.041915     100.511408   -1.000000   \n",
       "       id         106574.0   12036.770404    6881.420867    1.000000   \n",
       "       latitude    44544.0      39.901626      18.240860  -45.878760   \n",
       "       longitude   44544.0     -38.668642      65.237220 -157.526855   \n",
       "track  bit_rate   106574.0  263274.695048   67623.443584   -1.000000   \n",
       "       comments   106574.0       0.031621       0.321993    0.000000   \n",
       "       duration   106574.0     277.849100     305.518553    0.000000   \n",
       "       favorites  106574.0       3.182521      13.513820    0.000000   \n",
       "       interest   106574.0    3541.310207   19017.430891    2.000000   \n",
       "       listens    106574.0    2329.353548    8028.070647    0.000000   \n",
       "       number     106574.0       8.260945      15.243271    0.000000   \n",
       "\n",
       "                            25%            50%           75%           max  \n",
       "album  comments        0.000000       0.000000       0.00000  5.300000e+01  \n",
       "       favorites       0.000000       0.000000       1.00000  6.100000e+01  \n",
       "       id           7793.000000   13374.000000   18203.00000  2.294000e+04  \n",
       "       listens      3361.000000    8982.000000   23635.00000  3.564243e+06  \n",
       "       tracks          7.000000      11.000000      17.00000  6.520000e+02  \n",
       "artist comments        0.000000       0.000000       1.00000  7.900000e+01  \n",
       "       favorites       1.000000       5.000000      16.00000  9.630000e+02  \n",
       "       id           6443.000000   12029.500000   18011.00000  2.435700e+04  \n",
       "       latitude       39.271398      41.387917      48.85693  6.728601e+01  \n",
       "       longitude     -79.997459     -73.554431       4.35171  1.752770e+02  \n",
       "track  bit_rate   192000.000000  299914.000000  320000.00000  4.480000e+05  \n",
       "       comments        0.000000       0.000000       0.00000  3.700000e+01  \n",
       "       duration      149.000000     216.000000     305.00000  1.835000e+04  \n",
       "       favorites       0.000000       1.000000       3.00000  1.482000e+03  \n",
       "       interest      599.000000    1314.000000    3059.00000  3.293557e+06  \n",
       "       listens       292.000000     764.000000    2018.00000  5.432520e+05  \n",
       "       number          2.000000       5.000000       9.00000  2.550000e+02  "
      ]
     },
     "execution_count": 2160,
     "metadata": {},
     "output_type": "execute_result"
    }
   ],
   "source": [
    "tracks.describe().T"
   ]
  },
  {
   "cell_type": "code",
   "execution_count": 2161,
   "metadata": {},
   "outputs": [
    {
     "data": {
      "text/plain": [
       "(106574, 17)"
      ]
     },
     "execution_count": 2161,
     "metadata": {},
     "output_type": "execute_result"
    }
   ],
   "source": [
    "numerics = ['int16', 'int32', 'int64', 'float16', 'float32', 'float64']\n",
    "numeric_tracks = tracks.select_dtypes(include=numerics)\n",
    "numeric_tracks.shape"
   ]
  },
  {
   "cell_type": "code",
   "execution_count": 2162,
   "metadata": {},
   "outputs": [
    {
     "name": "stdout",
     "output_type": "stream",
     "text": [
      "3529 ('album', 'comments')\n",
      "3529 ('album', 'favorites')\n",
      "1025 ('album', 'id')\n",
      "3529 ('album', 'listens')\n",
      "3529 ('album', 'tracks')\n",
      "856 ('artist', 'comments')\n",
      "856 ('artist', 'favorites')\n",
      "105 ('track', 'bit_rate')\n"
     ]
    }
   ],
   "source": [
    "for column_name in numeric_tracks.columns:\n",
    "    minus_one_values = sum(numeric_tracks[column_name] == -1)\n",
    "    if minus_one_values > 0:\n",
    "        print(minus_one_values, column_name)"
   ]
  },
  {
   "cell_type": "markdown",
   "metadata": {},
   "source": [
    "Regarding the numerical features, the dataset has:\n",
    "- **62030 NaN records for ('artist', 'latitude')**;\n",
    "- **62030 NaN records for ('artist', 'longitude')**.\n",
    "\n",
    "In the Data Cleaning stage we will descarded the highly missing record columns.\n",
    "\n",
    "We can notice some more **subtle missing values**, expressed as **-1**:\n",
    "- 3529 ('album', 'comments');\n",
    "- 3529 ('album', 'favorites');\n",
    "- 1025 ('album', 'id');\n",
    "- 3529 ('album', 'listens');\n",
    "- 3529 ('album', 'tracks');\n",
    "- 856 ('artist', 'comments');\n",
    "- 856 ('artist', 'favorites');\n",
    "- 105 ('track', 'bit_rate')."
   ]
  },
  {
   "cell_type": "code",
   "execution_count": 2163,
   "metadata": {},
   "outputs": [],
   "source": [
    "def check_consistence_of_minus_one_attribute(minus_one_colum_name):\n",
    "    if minus_one_colum_name[0] == \"track\":\n",
    "        id_flag = 'title'\n",
    "        ids_list = list(tracks[(tracks[minus_one_colum_name] == -1)][(minus_one_colum_name[0], 'title')])\n",
    "        art_list = list(tracks[(tracks[minus_one_colum_name] == -1)][('artist', 'id')])\n",
    "        alb_list = list(tracks[(tracks[minus_one_colum_name] == -1)][('album', 'id')])\n",
    "        print(minus_one_colum_name)\n",
    "        for adi, art, alb in zip(ids_list, art_list, alb_list):\n",
    "            tmp_list = list(tracks[(tracks[(minus_one_colum_name[0], 'title')] == adi) & \\\n",
    "                                   (tracks[('artist', 'id')] == art) & \\\n",
    "                                   (tracks[('album', 'id')] == alb)\n",
    "                                  ][minus_one_colum_name].unique())\n",
    "            if len(tmp_list) > 1:\n",
    "                print(adi, tmp_list)\n",
    "    else:\n",
    "        ids_list = list(tracks[(tracks[minus_one_colum_name] == -1)][(minus_one_colum_name[0], 'id')].unique())\n",
    "        print(minus_one_colum_name)\n",
    "        for adi in ids_list:\n",
    "            tmp_list = list(tracks[(tracks[(minus_one_colum_name[0], 'id')] == adi)][minus_one_colum_name].unique())\n",
    "            if len(tmp_list) > 1:\n",
    "                print(adi, tmp_list)"
   ]
  },
  {
   "cell_type": "code",
   "execution_count": 2164,
   "metadata": {
    "scrolled": false
   },
   "outputs": [
    {
     "name": "stdout",
     "output_type": "stream",
     "text": [
      "('album', 'comments')\n",
      "('album', 'favorites')\n",
      "('album', 'id')\n",
      "('album', 'listens')\n",
      "('album', 'tracks')\n",
      "('artist', 'comments')\n",
      "('artist', 'favorites')\n",
      "('track', 'bit_rate')\n"
     ]
    }
   ],
   "source": [
    "minus_ones_columns = [('album', 'comments'), ('album', 'favorites'), ('album', 'id'), ('album', 'listens'),\n",
    "                      ('album', 'tracks'), ('artist', 'comments'), ('artist', 'favorites'), \n",
    "                      ('track', 'bit_rate')]\n",
    "for column_name in minus_ones_columns:\n",
    "    check_consistence_of_minus_one_attribute(column_name)"
   ]
  },
  {
   "cell_type": "markdown",
   "metadata": {},
   "source": [
    "Investigating, we found out that each album, artist and track having a -1 as numeric missing value is unique in its kind (it doesn't figure in the dataset with the same id/title and a value different than -1). "
   ]
  },
  {
   "cell_type": "code",
   "execution_count": 2165,
   "metadata": {},
   "outputs": [
    {
     "data": {
      "text/plain": [
       "1025"
      ]
     },
     "execution_count": 2165,
     "metadata": {},
     "output_type": "execute_result"
    }
   ],
   "source": [
    "tracks[(tracks[('album', 'comments')] == -1) &\n",
    "       (tracks[('album', 'favorites')] == -1) &\n",
    "       (tracks[('album', 'id')] == -1) &\n",
    "       (tracks[('album', 'listens')] == -1) &\n",
    "       (tracks[('album', 'tracks')] == -1)].shape[0]"
   ]
  },
  {
   "cell_type": "code",
   "execution_count": 2166,
   "metadata": {},
   "outputs": [],
   "source": [
    "artist_ids = tracks[(tracks[('album', 'comments')] == -1) &\n",
    "       (tracks[('album', 'favorites')] == -1) &\n",
    "       (tracks[('album', 'id')] == -1) &\n",
    "       (tracks[('album', 'listens')] == -1) &\n",
    "       (tracks[('album', 'tracks')] == -1)][('artist', 'id')].values"
   ]
  },
  {
   "cell_type": "markdown",
   "metadata": {},
   "source": [
    "We also find out that the 1025 albums without ids have also comments, favorites, listens and tracks set to -1, so we can hypotize they are part of track whose album information are missing (they don't belong to any known album)."
   ]
  },
  {
   "cell_type": "markdown",
   "metadata": {},
   "source": [
    "1. <h6>Replacing -1 missing values with 0 </h6>"
   ]
  },
  {
   "cell_type": "code",
   "execution_count": 2167,
   "metadata": {},
   "outputs": [
    {
     "name": "stdout",
     "output_type": "stream",
     "text": [
      "('album', 'comments') 0\n",
      "('album', 'favorites') 0\n",
      "('album', 'listens') 0\n",
      "('artist', 'comments') 0\n",
      "('artist', 'favorites') 0\n"
     ]
    }
   ],
   "source": [
    "imputing_columns = [('album', 'comments'), ('album', 'favorites'), ('album', 'listens'),\n",
    "                    ('artist', 'comments'), ('artist', 'favorites')]\n",
    "for column_name in imputing_columns: \n",
    "    tracks[column_name] = tracks[column_name].replace([-1], [0])\n",
    "# checking\n",
    "for column_name in imputing_columns: \n",
    "    print(column_name, tracks[tracks[column_name] == -1].shape[0])"
   ]
  },
  {
   "cell_type": "markdown",
   "metadata": {},
   "source": [
    "PREPROCESSING: set ('album', 'comments'), ('album', 'favorites'), ('album', 'listens'), ('artist', 'comments'), ('artist', 'favorites') to 0;"
   ]
  },
  {
   "cell_type": "markdown",
   "metadata": {},
   "source": [
    "<h6>2. Imputing missing albums' id, using incrementally value greater than the greatest id prenset in the\n",
    "('album', 'id') column</h6>"
   ]
  },
  {
   "cell_type": "code",
   "execution_count": 2168,
   "metadata": {},
   "outputs": [
    {
     "name": "stdout",
     "output_type": "stream",
     "text": [
      "max_album_id 22940\n",
      "('album', 'id') 0\n"
     ]
    }
   ],
   "source": [
    "max_album_id = tracks[('album', 'id')].max()\n",
    "print(\"max_album_id\", max_album_id)\n",
    "missing_album_ids_indeces = tracks[tracks[('album', 'id')] == -1].index\n",
    "i = max_album_id + 1\n",
    "for idx in missing_album_ids_indeces:\n",
    "    tracks.at[idx, ('album', 'id')] = i\n",
    "    i += 1\n",
    "# checking\n",
    "print(\"('album', 'id')\", tracks[tracks[('album', 'id')] == -1].shape[0])"
   ]
  },
  {
   "cell_type": "markdown",
   "metadata": {},
   "source": [
    "PREPROCESSING: craft new ids for ('album', 'id'), incrementally increasing the maximum album ID (22,940) present in the dataset;"
   ]
  },
  {
   "cell_type": "markdown",
   "metadata": {},
   "source": [
    "<font color=\"fuchsia\"><h6>3. ('album', 'tracks') constrain</h6> </font>\n",
    "Every album must have a number of tracks >= associated number of tracks in the dataset."
   ]
  },
  {
   "cell_type": "code",
   "execution_count": 2352,
   "metadata": {},
   "outputs": [
    {
     "name": "stdout",
     "output_type": "stream",
     "text": [
      "tot tracks with frequency gratear than tracks number=4465\n",
      "tot albums with frequency gratear than tracks number=1684\n",
      "tot albums with frequency gratear than tracks number and (album, tracks) not \\in [-1, 0, 1]=32\n",
      "tot albums with frequency gratear than tracks number and at least one (track, number)=0=835\n",
      "tot albums with all tracks in dataset=8864\n",
      "tot albums with all tracks in dataset and at least one (track, number)=0=30\n",
      "tot albums with less than all tracks in dataset=5330\n",
      "tot albums with less than all tracks in dataset and at least one (track, number)=0=1680\n"
     ]
    }
   ],
   "source": [
    "tracks_with_greater_freq = 0\n",
    "count1 = 0\n",
    "count2 = 0\n",
    "count3 = 0\n",
    "t = 0\n",
    "m = 0\n",
    "mm = 0\n",
    "mmm = 0\n",
    "for aid in tracks[('album', 'id')].unique():\n",
    "    tracks_num_list = list(set(tracks[(tracks[('album', 'id')] == aid)][('album', 'tracks')]))\n",
    "    if len(tracks_num_list) == 1:\n",
    "        tracks_num = tracks_num_list[0]\n",
    "    else:\n",
    "        print(\"album with same id have different tracks number=%s\" % aid)\n",
    "        sys.exit(-1)\n",
    "    album_freq = tracks[(tracks[('album', 'id')] == aid)].shape[0]\n",
    "    if album_freq > tracks_num:\n",
    "        if tracks_num not in [-1, 0, 1]:\n",
    "            # print(\"album id=%s\" % aid, \"tracks=%s\" % tracks_num, \"freq=%s\" % album_freq)\n",
    "            t +=1\n",
    "        if tracks[tracks[('album', 'id')] == aid][('track', 'number')].min() == 0:\n",
    "            # print(\"album id=%s\" % aid, \"tracks=%s\" % tracks_num, \"freq=%s\" % album_freq)\n",
    "            m += 1\n",
    "        # print(\"album id=%s\" % aid, \"tracks=%s\" % tracks_num, \"freq=%s\" % album_freq)\n",
    "        count1 += 1\n",
    "        tracks_with_greater_freq += album_freq\n",
    "    else:\n",
    "        if tracks[tracks[('album', 'id')] == aid][('track', 'number')].max() == tracks_num:\n",
    "            # print(\"album id=%s\" % aid, \"tracks=%s\" % tracks_num, \"freq=%s\" % album_freq)\n",
    "            count2 += 1\n",
    "            \n",
    "            if tracks[tracks[('album', 'id')] == aid][('track', 'number')].min() == 0:\n",
    "                    # print(\"album id=%s\" % aid, \"tracks=%s\" % tracks_num, \"freq=%s\" % album_freq)\n",
    "                    mm += 1\n",
    "        else:\n",
    "            if tracks[tracks[('album', 'id')] == aid][('track', 'number')].min() == 0:\n",
    "                # print(\"album id=%s\" % aid, \"tracks=%s\" % tracks_num, \"freq=%s\" % album_freq)\n",
    "                mmm += 1\n",
    "            # print(\"album id=%s\" % aid, \"tracks=%s\" % tracks_num, \"freq=%s\" % album_freq)\n",
    "            count3 += 1\n",
    "print(\"tot tracks with frequency gratear than tracks number=%s\" % tracks_with_greater_freq)  \n",
    "print(\"tot albums with frequency gratear than tracks number=%s\" % count1)  \n",
    "print(\"tot albums with frequency gratear than tracks number and (album, tracks) not \\in [-1, 0, 1]=%s\" % t)\n",
    "print(\"tot albums with frequency gratear than tracks number and at least one (track, number)=0=%s\" % m)\n",
    "print(\"tot albums with all tracks in dataset=%s\" % count2)\n",
    "print(\"tot albums with all tracks in dataset and at least one (track, number)=0=%s\" % mm)\n",
    "print(\"tot albums with less than all tracks in dataset=%s\" % count3)\n",
    "print(\"tot albums with less than all tracks in dataset and at least one (track, number)=0=%s\" % mmm)"
   ]
  },
  {
   "cell_type": "code",
   "execution_count": 2347,
   "metadata": {},
   "outputs": [
    {
     "name": "stdout",
     "output_type": "stream",
     "text": [
      "4053 rows, 3.8% of NaN rows for ('album', 'tracks') \n"
     ]
    }
   ],
   "source": [
    "# missing ('album', 'tracks') values\n",
    "n_miss = tracks[(tracks[('album', 'tracks')] == -1) | (tracks[('album', 'tracks')] == 0)].shape[0] \n",
    "perc = n_miss / tracks.shape[0] * 100\n",
    "if n_miss > 0:\n",
    "    print( '%s rows, %.1f%% of NaN rows for %s ' % (n_miss, perc,  ('album', 'tracks')))"
   ]
  },
  {
   "cell_type": "code",
   "execution_count": 2338,
   "metadata": {},
   "outputs": [
    {
     "name": "stdout",
     "output_type": "stream",
     "text": [
      "7894 rows, 7.4% of NaN rows for ('track', 'number') \n"
     ]
    }
   ],
   "source": [
    "# missing ('track', 'number') values\n",
    "n_miss = tracks[tracks[('track', 'number')] == 0].shape[0] \n",
    "perc = n_miss / tracks.shape[0] * 100\n",
    "if n_miss > 0:\n",
    "    print( '%s rows, %.1f%% of NaN rows for %s ' % (n_miss, perc, ('track', 'number')))"
   ]
  },
  {
   "cell_type": "markdown",
   "metadata": {},
   "source": [
    "At first we thought that the column's meaning was associated with album's number of tracks (not necessarily present in the dataset). However, we discovered that:\n",
    "\n",
    "- **8.864 albums** have all their tracks present in the dataset. However **30 tracks have a number equal to 0**, meaning that their position in the album is unknown. This is easily solved by assigning to track's number album's missing position in the range [1, ('album', 'tracks')];\n",
    "- **1.684 albums** have the frequency in the dataset greater than their track number (<font color=\"red\">Inconsistence</font>, 1.652 times due to -1, 0 and 1 values present in the ('album', 'tracks') column, 32 times due to greater ('track', 'number') values than ('album', 'tracks')). Here, again we have **835 tracks having a number equal to 0**, easily solved by assigning to track's number album's missing position in the range [1, ('album', 'tracks')] and for the **32 cases by upgrading ('album', 'tracks') to tracks frequency in the dataset**;\n",
    "- **5.330 albums** have the frequency lower than their track number. This for 3.650 times is a consistent phenomenon, in the sense that the dataset doesn't show all album's tracks, in 1.680 cases, instead, we detected **1680 tracks having ('track', 'number') = 0**, meaning that their position in the album is unknown.\n",
    "\n",
    "In particulat, the third bulletpoint makes the column ('album', 'tracks') less consistent in its semantic, because even if we decide to imput the 1680 ('track', 'number') missing values with a random position between [1, ('album', 'tracks')], we will, however, have the first two cases which take into account the frequency of each album's tracks in the dataset in the ('album', 'tracks') column, while the last one takes into account albums' real number of tracks (not necessarily all present in the dataset). \n",
    "\n",
    "PREPROCESSING: for consistency reasons and for not modifying the ('artist', 'tracks') column, solving the 29.222 tracks having a frequency greater than the actual ('artist', 'tracks') (27.4% of rows), we discarded ('album', 'tracks') column.\n",
    "We get rid of ('track', 'number column'), too, being moderate correlated with it (+0.53)."
   ]
  },
  {
   "cell_type": "markdown",
   "metadata": {},
   "source": [
    "<h6>4. Imputating ('track', 'bit_rate') </h6> \n",
    "\n",
    "Imputation idea:\n",
    "\n",
    "- **Hyphotesis 1: usually artists perform songs quite similar in the same album**:\n",
    "    Usually an artist performs a narrow set of musical genres in the same album. So, if a given artist has two  songs belonging to the same genre_top, in the same album, the first having a known bit_rate, the second a bit_rate set to -1, we can quite confidently substitue the missing value with the first bit_rate;\n",
    "\n",
    "- **Hyphotesis 2: usually artists perform songs quite similar among them**:\n",
    "  Usually an artist performs a narrow set of musical genres. So, if a given artist has two songs belonging to the   same genre_top, the first having a known bit_rate, the second a bit_rate set to -1, we can quite confidently     substitue the missing value with the first bit_rate;"
   ]
  },
  {
   "cell_type": "code",
   "execution_count": 2170,
   "metadata": {},
   "outputs": [
    {
     "name": "stdout",
     "output_type": "stream",
     "text": [
      "num artists with missing bit_rate 33\n",
      "num albums with missing bit_rate 31\n"
     ]
    }
   ],
   "source": [
    "missing_bit_rate_ids = list(tracks[tracks[('track', 'bit_rate')] == -1].index)\n",
    "missing_bit_rate_artists = tracks[tracks[('track', 'bit_rate')] == -1][('artist', 'id')]\n",
    "missing_bit_rate_albums = tracks[tracks[('track', 'bit_rate')] == -1][('album', 'id')]\n",
    "\n",
    "print(\"num artists with missing bit_rate\", len(set(missing_bit_rate_artists)))\n",
    "print(\"num albums with missing bit_rate\", len(set(missing_bit_rate_albums)))"
   ]
  },
  {
   "cell_type": "code",
   "execution_count": 2171,
   "metadata": {},
   "outputs": [],
   "source": [
    "# bit_rate imputation based upon same genre_top tracks present in same album\n",
    "imputed = 0\n",
    "albums = set()\n",
    "impunted_artists_ids = set()\n",
    "for idx in missing_bit_rate_ids:\n",
    "    album_id = tracks.at[idx, ('album', 'id')]\n",
    "    artist_id = tracks.at[idx, ('artist', 'id')]\n",
    "    genre_top = tracks.at[idx, ('track', 'genre_top')]\n",
    "    album_bit_rate = tracks[(tracks[('album', 'id')] == album_id) & (tracks[('track', 'genre_top')] == genre_top)][('track', 'bit_rate')].values\n",
    "    artist_bit_rate = tracks[(tracks[('artist', 'id')] == artist_id) & (tracks[('track', 'genre_top')] == genre_top)][('track', 'bit_rate')].values\n",
    "    if album_id not in albums:\n",
    "        albums.add(album_id)\n",
    "        if len(set(album_bit_rate)) == 2: # bit_rate's value \\in [-1, bit_rate_to_use]\n",
    "            # print(\"bit_rate_for_genre_top=%s\" % str(set(album_bit_rate)), \"genre_top=%s\" % genre_top, \"album_id=%s\" % album_id, \"artist_id=%s\" % artist_id)\n",
    "            impunted_artists_ids.add(artist_id)\n",
    "            tmp_dict = Counter(album_bit_rate)\n",
    "            imputed += tmp_dict[-1]\n",
    "        elif len(set(album_bit_rate)) > 2: # bit_rate's value \\in [-1, tie1, tie2] \n",
    "            # imputation done using greatest tie value's frequency\n",
    "            tmp_dict = Counter(album_bit_rate)\n",
    "            print(tmp_dict, album_bit_rate)\n",
    "        # else:  # doesn't exist in the album a track having same genre_top or all same genre_top tracks have bit_rate = -1  \n",
    "# print(\"impunted=%s\" % imputed)\n",
    "# print(\"impunted_artists_ids=%s\" % len(impunted_artists_ids))"
   ]
  },
  {
   "cell_type": "code",
   "execution_count": 2172,
   "metadata": {},
   "outputs": [
    {
     "name": "stdout",
     "output_type": "stream",
     "text": [
      "impunted=14\n",
      "impunted_artists_ids=8\n",
      "missing_artists_ids=25\n"
     ]
    }
   ],
   "source": [
    "# bit_rate imputation based upon same genre_top tracks of the same artist\n",
    "artists = set()\n",
    "for idx in missing_bit_rate_ids:\n",
    "    album_id = tracks.at[idx, ('album', 'id')]\n",
    "    artist_id = tracks.at[idx, ('artist', 'id')]\n",
    "    genre_top = tracks.at[idx, ('track', 'genre_top')]\n",
    "    album_bit_rate = tracks[(tracks[('album', 'id')] == album_id) & (tracks[('track', 'genre_top')] == genre_top)][('track', 'bit_rate')].values\n",
    "    artist_bit_rate = tracks[(tracks[('artist', 'id')] == artist_id) & (tracks[('track', 'genre_top')] == genre_top)][('track', 'bit_rate')].values\n",
    "    if artist_id not in artists:\n",
    "        artists.add(artist_id)\n",
    "        if len(set(artist_bit_rate)) == 2:\n",
    "            # print(\"bit_rate_for_genre_top=%s\" % str(set(artist_bit_rate)), \"genre_top=%s\" % genre_top, \"artist_id=%s\" % artist_id)\n",
    "            impunted_artists_ids.add(artist_id)\n",
    "            tmp_dict = Counter(artist_bit_rate)\n",
    "            imputed += tmp_dict[-1]\n",
    "        elif len(set(album_bit_rate)) > 2: \n",
    "            tmp_dict = Counter(album_bit_rate)\n",
    "            print(tmp_dict, album_bit_rate)\n",
    "print(\"impunted=%s\" % imputed)\n",
    "print(\"impunted_artists_ids=%s\" % len(impunted_artists_ids))\n",
    "print(\"missing_artists_ids=%s\" % len(set(missing_bit_rate_artists).difference(set(impunted_artists_ids))))"
   ]
  },
  {
   "cell_type": "markdown",
   "metadata": {},
   "source": [
    "We can impute ('track', 'bit_rate')=-1 with:\n",
    "- bit_rate_for_genre_top={256000, -1} genre_top=Experimental artist_id=2760\n",
    "- bit_rate_for_genre_top={320000, -1} genre_top=Electronic artist_id=4136\n",
    "- bit_rate_for_genre_top={192000, -1} genre_top=International artist_id=4621\n",
    "- bit_rate_for_genre_top={192000, -1} genre_top=Electronic artist_id=4836\n",
    "- bit_rate_for_genre_top={192000, -1} genre_top=Electronic artist_id=4835\n",
    "- bit_rate_for_genre_top={256000, -1} genre_top=Electronic artist_id=3212\n",
    "- bit_rate_for_genre_top={160000, -1} genre_top=Rock artist_id=8583\n",
    "\n",
    "Using this criterion we impute 14 missing bit_rates associated with 8 artists.\n",
    "\n",
    "However, still remains many missing bit_rates associated with 25 artists, among which many have at least one track with genre_top set to NaN, while the other show a tie bit_rate for the same genre_top.\n",
    "\n",
    "In any case, untill genre_top is not imputed, we can't further proceed, since after the imputation the artists with a missing genre_top, may solve by yourself the bit_rate imputation, revealing other matching tracks (or just a single genre_top track can be used to impute the bit_rate). \n",
    "Genre_top imputation could solve our ties, too, since among the artists involved in the ties, we can found artist with missing genre_top, too (the imputation is done using greatest tie value's frequency).\n",
    "\n",
    "PREPROCESSING: first perform ('track', 'genre_top') imputation to unveil which bit_rate to use to substitute this other missing value,  the approximate ('track', 'bit_rate') by other tracks' matching genre_top, artist/album bit_rate."
   ]
  },
  {
   "cell_type": "markdown",
   "metadata": {},
   "source": [
    "<h6>Checking other numerical constrains</h6>"
   ]
  },
  {
   "cell_type": "markdown",
   "metadata": {},
   "source": [
    "<font color=\"fuchsia\"><h6>('album', 'listens') constrains</h6></font>\n",
    "Constrains:\n",
    "1. ('album', 'listens') >= sum{('track', 'listens')}\n",
    "\n",
    "TODO: not sure if this constrain must have this semantic (probably each track's playcount is counted among different album's version, while the current album present in the database shows only the metadata of tracks it officially had when collected)."
   ]
  },
  {
   "cell_type": "code",
   "execution_count": 2394,
   "metadata": {},
   "outputs": [],
   "source": [
    "def check_constrained_columns(column_name1, column_name2):\n",
    "    id_flag = 'id'\n",
    "    if column_name1[0] == 'track':\n",
    "        id_flag = 'title'\n",
    "    lower = tracks[((tracks[column_name1]) < (tracks[column_name2]))].shape[0]\n",
    "    greater = tracks[((tracks[column_name1]) > (tracks[column_name2]))].shape[0]\n",
    "    \n",
    "    print(\"%s < %s=%s\" % (column_name1, column_name2, lower))\n",
    "    print(\"%s > %s=%s\" % (column_name1, column_name2, greater))"
   ]
  },
  {
   "cell_type": "code",
   "execution_count": 2415,
   "metadata": {},
   "outputs": [
    {
     "data": {
      "text/plain": [
       "2973"
      ]
     },
     "execution_count": 2415,
     "metadata": {},
     "output_type": "execute_result"
    }
   ],
   "source": [
    "count = 0\n",
    "for aid in tracks[('album', 'id')].unique():\n",
    "    to_compare = tracks[tracks[('album', 'id')] == aid][('album', 'listens')].values[0]\n",
    "    tmp_sum = tracks[tracks[('album', 'id')] == aid][('track', 'listens')].sum()\n",
    "    if to_compare >= tmp_sum:\n",
    "        count += 1\n",
    "count"
   ]
  },
  {
   "cell_type": "code",
   "execution_count": 2395,
   "metadata": {},
   "outputs": [
    {
     "name": "stdout",
     "output_type": "stream",
     "text": [
      "('album', 'listens') < ('track', 'listens')=4980\n",
      "('album', 'listens') > ('track', 'listens')=100616\n"
     ]
    }
   ],
   "source": [
    "check_constrained_columns(('album', 'listens'), ('track', 'listens'))"
   ]
  },
  {
   "cell_type": "code",
   "execution_count": 2386,
   "metadata": {},
   "outputs": [
    {
     "data": {
      "text/plain": [
       "1483"
      ]
     },
     "execution_count": 2386,
     "metadata": {},
     "output_type": "execute_result"
    }
   ],
   "source": [
    "len(tracks[tracks[('album', 'listens')] == 0][('album', 'id')].unique())"
   ]
  },
  {
   "cell_type": "markdown",
   "metadata": {},
   "source": [
    "PREPROCESSING: We expected that ('album', 'listens') gathered together dataset's tracks' listens sum, adding to the counting also the tracks not present in the dataset. However, we actually found out than only 18.72% of albums shared this characteristic.\n",
    "\n",
    "This means that ('album', 'listens') and ('track', 'listens') assume a different semantic, in the sense they both are releated to album's and track's popularity, but the two likeness aren't correlated. In most cases, ('album', 'listens') is greater or equal to a single ('track', 'listens'), but exist 4.980 tracks representing an excpetion and having a listen number greater than their actual album's listen number.\n",
    "\n",
    "For the reasons mentioned above, we will disregard ('album', 'listens'), prefering to use some other feature to detect albums' audience satisfaction."
   ]
  },
  {
   "cell_type": "markdown",
   "metadata": {},
   "source": [
    "<h6>Checking ('album', 'comments'), ('artist', 'comments') and ('track', 'comments') asymmetry</h6>"
   ]
  },
  {
   "cell_type": "code",
   "execution_count": 2430,
   "metadata": {},
   "outputs": [
    {
     "data": {
      "text/plain": [
       "12684"
      ]
     },
     "execution_count": 2430,
     "metadata": {},
     "output_type": "execute_result"
    }
   ],
   "source": [
    "count = 0\n",
    "for aid in tracks[('artist', 'id')].unique():\n",
    "    to_compare = tracks[tracks[('artist', 'id')] == aid][('artist', 'comments')].values[0]\n",
    "    tmp_sum = 0\n",
    "    for aid2 in tracks[tracks[('artist', 'id')] == aid][('album', 'id')].unique():\n",
    "        tmp_sum += tracks[tracks[('album', 'id')] == aid2][('album', 'comments')].values[0]\n",
    "    if to_compare >= tmp_sum:\n",
    "        count += 1\n",
    "count"
   ]
  },
  {
   "cell_type": "code",
   "execution_count": 2417,
   "metadata": {},
   "outputs": [
    {
     "data": {
      "text/plain": [
       "14728"
      ]
     },
     "execution_count": 2417,
     "metadata": {},
     "output_type": "execute_result"
    }
   ],
   "source": [
    "count = 0\n",
    "for aid in tracks[('album', 'id')].unique():\n",
    "    to_compare = tracks[tracks[('album', 'id')] == aid][('album', 'comments')].values[0]\n",
    "    tmp_sum = tracks[tracks[('album', 'id')] == aid][('track', 'comments')].sum()\n",
    "    if to_compare >= tmp_sum:\n",
    "        count += 1\n",
    "count"
   ]
  },
  {
   "cell_type": "markdown",
   "metadata": {},
   "source": [
    "77.62% of artists and 92.76% of albums have a number of comments greater than their relative albums' and tracks' comments. This means that if usually an artist is popular, he has received a greater number of reviews than its albums. Since this reasoning is true for albums and tracks, he has receive a greater number of comments than its tracks, too.\n",
    "\n",
    "So we can state that the comments features are in the majority of cases incrementally among them. \n",
    "\n",
    "PREPROCESSING: However, since a comment can have a positive or negative meaning, we prefer to disregard commen features as audiance' satisfaction towars an album/artist/track, since sometimes this can be misleading. Better take into account the favorites features, which always convay a positive reference. "
   ]
  },
  {
   "cell_type": "markdown",
   "metadata": {},
   "source": [
    "<h6>Checking ('album', 'favorites'), ('artist', 'favorites') and ('track', 'favorites') asymmetry</h6>"
   ]
  },
  {
   "cell_type": "code",
   "execution_count": 2419,
   "metadata": {},
   "outputs": [
    {
     "data": {
      "text/plain": [
       "8462"
      ]
     },
     "execution_count": 2419,
     "metadata": {},
     "output_type": "execute_result"
    }
   ],
   "source": [
    "count = 0\n",
    "for aid in tracks[('artist', 'id')].unique():\n",
    "    to_compare = tracks[tracks[('artist', 'id')] == aid][('artist', 'favorites')].values[0]\n",
    "    tmp_sum = tracks[tracks[('artist', 'id')] == aid][('album', 'favorites')].sum()\n",
    "    if to_compare >= tmp_sum:\n",
    "        count += 1\n",
    "count"
   ]
  },
  {
   "cell_type": "code",
   "execution_count": 2420,
   "metadata": {},
   "outputs": [
    {
     "data": {
      "text/plain": [
       "2182"
      ]
     },
     "execution_count": 2420,
     "metadata": {},
     "output_type": "execute_result"
    }
   ],
   "source": [
    "count = 0\n",
    "for aid in tracks[('album', 'id')].unique():\n",
    "    to_compare = tracks[tracks[('album', 'id')] == aid][('album', 'favorites')].values[0]\n",
    "    tmp_sum = tracks[tracks[('album', 'id')] == aid][('track', 'favorites')].sum()\n",
    "    if to_compare >= tmp_sum:\n",
    "        count += 1\n",
    "count"
   ]
  },
  {
   "cell_type": "markdown",
   "metadata": {},
   "source": [
    "51.78% of albums and 13.74% of albums have a number of favorites greater than their relative albums' and tracks' favorites. This underlines how the favorites' features are asymmetric/not-related between albums, artists and tracks."
   ]
  },
  {
   "cell_type": "markdown",
   "metadata": {},
   "source": [
    "<b><font color=\"green\">\n",
    "RECAP: To detect audience's satisfaction we will consider ('album', 'favorites'), ('artist', 'favorites'), ('track', 'listens') and ('track', 'favorites').\n",
    "Since albums', artists' and tracks' favorites features can be asymmetric, these three columns don't have to complay to any constain.\n",
    "</font></b>"
   ]
  },
  {
   "cell_type": "markdown",
   "metadata": {},
   "source": [
    "<h6>Checking other numerical missing values</h6>"
   ]
  },
  {
   "cell_type": "code",
   "execution_count": 2173,
   "metadata": {},
   "outputs": [],
   "source": [
    "def print_perc_missing_values(df):\n",
    "    for column_name in df.columns:\n",
    "        # count number of rows with missing values\n",
    "        data = df[column_name]\n",
    "        n_miss = data.isnull().sum()\n",
    "        perc = n_miss / df.shape[0] * 100\n",
    "        if n_miss > 0:\n",
    "            print( '%s, Missing: %d (%.1f%% of rows) ' % (column_name, n_miss, perc))"
   ]
  },
  {
   "cell_type": "code",
   "execution_count": 2174,
   "metadata": {},
   "outputs": [
    {
     "name": "stdout",
     "output_type": "stream",
     "text": [
      "('artist', 'latitude'), Missing: 62030 (58.2% of rows) \n",
      "('artist', 'longitude'), Missing: 62030 (58.2% of rows) \n"
     ]
    }
   ],
   "source": [
    "print_perc_missing_values(numeric_tracks)"
   ]
  },
  {
   "cell_type": "code",
   "execution_count": 2175,
   "metadata": {},
   "outputs": [
    {
     "name": "stdout",
     "output_type": "stream",
     "text": [
      "locations' missing latitude&longitude 1046\n"
     ]
    }
   ],
   "source": [
    "# longitude is symmetric \n",
    "geo_missing_location = tracks[tracks[('artist', 'latitude')].isna()][('artist', 'location')].unique()\n",
    "print(\"locations' missing latitude&longitude\", len(geo_missing_location))"
   ]
  },
  {
   "cell_type": "code",
   "execution_count": 2176,
   "metadata": {},
   "outputs": [
    {
     "name": "stdout",
     "output_type": "stream",
     "text": [
      "imputable locations' latitude&longitude 324\n"
     ]
    }
   ],
   "source": [
    "tmp_map = {}\n",
    "for loc in geo_missing_location:\n",
    "    tmp_df = tracks[tracks[('artist', 'location')] == loc][[('artist', 'latitude'), ('artist', 'longitude')]]\n",
    "    if tmp_df.shape[0] > 1:\n",
    "        for row in tmp_df.itertuples():\n",
    "            if str(row[1]) != \"nan\" and str(row[2]) != \"nan\":\n",
    "                tmp_map[str(loc)] = (row[1], row[2])\n",
    "                break\n",
    "print(\"imputable locations' latitude&longitude\", len(tmp_map))"
   ]
  },
  {
   "cell_type": "code",
   "execution_count": 2177,
   "metadata": {},
   "outputs": [
    {
     "name": "stdout",
     "output_type": "stream",
     "text": [
      "missing values after imputation (43.4% of rows)\n"
     ]
    }
   ],
   "source": [
    "geo_imputed_rows = 0\n",
    "for loc in tmp_map.keys():\n",
    "    tmp = tracks[(tracks[('artist', 'location')] == loc) & (tracks[('artist', 'latitude')].isna())].shape[0]\n",
    "    geo_imputed_rows += tmp\n",
    "print(\"missing values after imputation\", \"(%.1f%% of rows)\" % ((62030 - geo_imputed_rows) / tracks.shape[0] * 100))"
   ]
  },
  {
   "cell_type": "markdown",
   "metadata": {},
   "source": [
    "Among the 58.2% missing latitudes/longitudes, we can decrease the number of missing values to 43.4% , but not actually remove all the missing values. We can try to guess the missing latitude and longitude by cleaning and pimputing ('artist', 'location')."
   ]
  },
  {
   "cell_type": "markdown",
   "metadata": {},
   "source": [
    "<font color=\"light blue\"><h6>Cleaning ('artist', 'location') column </h6></font>\n",
    "\n",
    "('artist', 'location') has 2330 unique values, but they are highly uneven in the namings. For this reason, after a firts attemp to clean them (reaching x unique values) and taking into account that for a classification genre maybe is more important the language than interpreter's location, we stop the cleaning phase and simply **won't use ('artist', 'location'), ('artist', 'latitude') and ('artist', 'longitude) columns."
   ]
  },
  {
   "cell_type": "code",
   "execution_count": 2178,
   "metadata": {},
   "outputs": [
    {
     "name": "stdout",
     "output_type": "stream",
     "text": [
      "unique locations 2330\n"
     ]
    }
   ],
   "source": [
    "df_copy = tracks.copy()\n",
    "location_column = df_copy[('artist', 'location')].values\n",
    "print(\"unique locations\", len(set(location_column)))"
   ]
  },
  {
   "cell_type": "code",
   "execution_count": 2179,
   "metadata": {},
   "outputs": [
    {
     "data": {
      "text/plain": [
       "(249, 2)"
      ]
     },
     "execution_count": 2179,
     "metadata": {},
     "output_type": "execute_result"
    }
   ],
   "source": [
    "countries = pd.read_csv('../../data/fma_metadata/countries.csv', sep=\",\")\n",
    "countries.shape"
   ]
  },
  {
   "cell_type": "code",
   "execution_count": 2180,
   "metadata": {},
   "outputs": [],
   "source": [
    "def clean_code(code):\n",
    "    code =  code.replace(\" \", \"\")\n",
    "    code =  code.replace(\".\", \"\")\n",
    "    code =  code.replace(\"\\n\", \"\")\n",
    "    code =  code.upper()\n",
    "    return code"
   ]
  },
  {
   "cell_type": "code",
   "execution_count": 2181,
   "metadata": {
    "scrolled": false
   },
   "outputs": [],
   "source": [
    "codes = {'USA': \"United States\", \n",
    "         'UK': \"United Kingdom\", \n",
    "         'NYC': \"United States\",\n",
    "         'NY': \"United States\", \n",
    "         'OR': \"United States\",\n",
    "         'OH': \"United States\",\n",
    "         'NJ': \"United States\", \n",
    "         'MI': \"United States\",\n",
    "         'VT': \"United States\",\n",
    "         'TX': \"United States\",\n",
    "         'DC': \"United States\",\n",
    "         'WI': \"United States\",\n",
    "         'CT': \"United States\",\n",
    "         'RI': \"United States\",\n",
    "         'WA': \"United States\",\n",
    "         'FL': \"United States\",\n",
    "         'OK': \"United States\",\n",
    "         'KS': \"United States\",\n",
    "         'NH': \"United States\",\n",
    "         'NV': \"United States\",\n",
    "         'BC': \"United States\",\n",
    "         'ND': \"United States\",\n",
    "         'OW': \"Canada\",\n",
    "         'ON': \"Canada\",\n",
    "         'QC': \"Canada\",\n",
    "         'PQ': \"Canada\",\n",
    "         'CAN': \"Canada\",\n",
    "         'ONT': \"Canada\",\n",
    "         'NSW': \"Australia\",\n",
    "         'DF': \"Mexico\", \n",
    "         'GO': \"Brazil\"\n",
    "        }\n",
    "names = {\"Alaska\": \"United States\",\n",
    "         \"Hawaii\": \"United States\",\n",
    "         \"Copenhagen\": \"Denmark\",\n",
    "         \"Aarhus\": \"Denmark\",\n",
    "         \"Memphis\": \"United States\",\n",
    "         \"Asheville\": \"United States\",\n",
    "         \"Nashville\": \"United States\",\n",
    "         \"Queens\":  \"United States\",\n",
    "         \"Brooklyn\":  \"United States\",\n",
    "         \"Colombia \":  \"United States\",\n",
    "         \"NewJersey\":  \"United States\",\n",
    "         \"WashingtonDc\":  \"United States\",\n",
    "         \"Washington\":  \"United States\",\n",
    "         \"Toronto\": \"Canada\",\n",
    "         \"Montreal\": \"Canada\",\n",
    "         \"Podolsk\": \"Russia\",\n",
    "         \"Jersey City \":  \"United States\",\n",
    "         \"Jersey City\":  \"United States\",\n",
    "         \"Union City\":  \"United States\",\n",
    "         \"Baltimore\": \"United States\",\n",
    "         \"San Francisco\": \"United States\",\n",
    "         \"Boston\":  \"United States\",\n",
    "         \"Newcastle\": \"United Kingdom\",\n",
    "         \"Bournemouth\": \"United Kingdom\",\n",
    "         \"Brighton\": \"United Kingdom\",\n",
    "         \"York\": \"United Kingdom\",\n",
    "         \"Kisumu\": \"Kenya\",\n",
    "         \"Nairobi\": \"Kenya\",\n",
    "         \"Orlando\": \"United States\",\n",
    "         \"Missouri\": \"United States\",\n",
    "         \"Oklahoma\": \"United States\",\n",
    "         \"America\": \"United States\",\n",
    "        }\n",
    "codes_not_mapped = ['ETC', 'N16']\n",
    "\n",
    "location_missing_values = [\"Nan\", \"Unknown\", \"Leechrum\", \"Https:\", \"@Gmail\"]  # N.B.: capitalized values\n",
    "\n",
    "# investifating names after comma\n",
    "for loc in set(location_column):\n",
    "    tmp_list = str(loc).split(\",\")\n",
    "    if len(tmp_list) == 1:  # one location name\n",
    "        curr_location = tmp_list[0]\n",
    "        curr_location = curr_location.title()\n",
    "        curr_location = curr_location.replace(\"\\n\", \"\")\n",
    "        if curr_location in location_missing_values:\n",
    "            continue\n",
    "        if \"/\" in curr_location:\n",
    "            tmp = curr_location.split(\"/\")\n",
    "            if len(tmp[1]) == 2 or len(tmp[1]) == 3:\n",
    "                tmp[1] =  clean_code(tmp[1])\n",
    "                tmp_df = countries[countries['Code'] == tmp[1]]\n",
    "                if tmp_df.shape[0] > 0:  # matching code's country name\n",
    "                    # print(tmp_df[\"Name\"].values[0])\n",
    "                    pass\n",
    "                else:\n",
    "                    # print(codes[tmp[1]])\n",
    "                    pass\n",
    "            else:\n",
    "                l_values = set()\n",
    "                for l in tmp:\n",
    "                    l = l.replace(\" \", \"\")\n",
    "                    tmp_df = countries[countries['Name'] == l]\n",
    "                    if tmp_df.shape[0] > 0:\n",
    "                        l_values.add(tmp_df[\"Name\"].values[0])\n",
    "                    try:\n",
    "                         l_values.add(names[l])\n",
    "                    except KeyError:\n",
    "                        continue\n",
    "                if len(l_values) != 1:\n",
    "                    langs = tracks[tracks[('artist', 'location')] == curr_location][('track', 'language_code')].unique()\n",
    "                    if len(langs) > 0:\n",
    "                        langs = [str(x) for x in langs]\n",
    "                        # TODO: in the dataset all of this have actually missing location\n",
    "                        if len(langs) > 1:\n",
    "                            # print(\"*\" + tmp[0] + \"*\", tmp[1], langs)\n",
    "                            pass\n",
    "                        else:  # \"nan\" or univocal language\n",
    "                            if \"nan\" in langs:\n",
    "                                # print(\"*\" + tmp[0] + \"*\", tmp[1], langs)\n",
    "                                pass\n",
    "                            else:\n",
    "                                # print(\"*\" + tmp[0] + \"*\", tmp[1], langs)\n",
    "                                pass\n",
    "                \n",
    "        else:\n",
    "            tmp_df = countries[countries['Name'] == curr_location]\n",
    "            if tmp_df.shape[0] > 0:\n",
    "                # print(tmp_df[\"Name\"].values[0])\n",
    "                pass\n",
    "            else:\n",
    "                if curr_location not in names:\n",
    "                    pass\n",
    "                    # print(\"*\" + curr_location + \"*\")\n",
    "    elif len(tmp_list) == 2: # two location name\n",
    "        tmp_list[1] =  clean_code(tmp_list[1])\n",
    "        if len(tmp_list[1]) == 2 or len(tmp_list[1]) == 3:\n",
    "            tmp_df = countries[countries['Code'] == tmp_list[1]]\n",
    "            if tmp_df.shape[0] > 0:  # matching code's country name\n",
    "                # print(tmp_df[\"Name\"].values[0])\n",
    "                pass\n",
    "            else:  # self-matching code's country name\n",
    "                # codes_not_mapped.add(tmp_list[1])\n",
    "                # if tmp_list[1] in codes_not_mapped:\n",
    "                # print(tmp_list[0], \"*\" + tmp_list[1] + \"*\")\n",
    "                pass\n",
    "        else:\n",
    "            # print(\"country\", tmp_list[1])\n",
    "            pass\n",
    "    elif len(tmp_list) > 2: # more than two locations name\n",
    "        pass\n",
    "    # else:\n",
    "    # print(tmp_list)"
   ]
  },
  {
   "cell_type": "code",
   "execution_count": 2182,
   "metadata": {},
   "outputs": [
    {
     "data": {
      "text/plain": [
       "30346"
      ]
     },
     "execution_count": 2182,
     "metadata": {},
     "output_type": "execute_result"
    }
   ],
   "source": [
    "# missing geographical and language info\n",
    "tracks[(tracks['artist', 'location'].isna()) &\n",
    "       (tracks['artist', 'latitude'].isna()) &\n",
    "       (tracks['artist', 'longitude'].isna()) &\n",
    "       (tracks['track', 'language_code'].isna())].shape[0]"
   ]
  },
  {
   "cell_type": "code",
   "execution_count": 2183,
   "metadata": {},
   "outputs": [
    {
     "data": {
      "text/plain": [
       "8796"
      ]
     },
     "execution_count": 2183,
     "metadata": {},
     "output_type": "execute_result"
    }
   ],
   "source": [
    "# artists with missing geographical and language info\n",
    "len(tracks[(tracks['artist', 'location'].isna()) &\n",
    "       (tracks['artist', 'latitude'].isna()) &\n",
    "       (tracks['artist', 'longitude'].isna()) &\n",
    "       (tracks['track', 'language_code'].isna())][('artist', 'id')].unique())"
   ]
  },
  {
   "cell_type": "code",
   "execution_count": 2184,
   "metadata": {},
   "outputs": [
    {
     "data": {
      "image/png": "[encoded data removed]",
      "text/plain": [
       "<Figure size 432x288 with 1 Axes>"
      ]
     },
     "metadata": {
      "needs_background": "light"
     },
     "output_type": "display_data"
    }
   ],
   "source": [
    "column_name = ('track', 'language_code')\n",
    "sns_barplot(tracks, column_name, str(column_name), False, True, \"Tracks' language distribution\")"
   ]
  },
  {
   "cell_type": "code",
   "execution_count": 2185,
   "metadata": {},
   "outputs": [
    {
     "name": "stdout",
     "output_type": "stream",
     "text": [
      "non-empty language_code 15024\n",
      "language_code=en 14255\n"
     ]
    }
   ],
   "source": [
    "print(\"non-empty language_code\", tracks[~(tracks[('track', 'language_code')].isna())].shape[0])\n",
    "print(\"language_code=en\", tracks[(tracks[('track', 'language_code')] == \"en\")].shape[0])"
   ]
  },
  {
   "cell_type": "markdown",
   "metadata": {},
   "source": [
    "In the ('artist', 'location') phase, disregarding most of the uneven locations and the 36.364 NaN values (34.1% of rows), the number of missing values raise further, due to many location's names which haven't a geographical meaning. In addition, 8.796 arists related to 30.366 tracks (28.47% of rows) haven't associated informations in ('artist', 'location'), ('artist', 'latitude'), ('artist', 'longitude') and ('track', 'language_code') columns, so we haven't any clue with which to substitue the relative missing location and language. \n",
    "\n",
    "We could, for example, opt to impute tracks' missing language with ('track', 'language_code')'s mode, but this solution will lead to a low-variance feature predictor (a colum displaying almost all the time \"en\" value and so become usless for our genre_top classification goal), since:\n",
    "\n",
    "- ('track', 'language_code') is an highly empty column (85.9% of rows have NaN values);\n",
    "- ('track', 'language_code') presents an highly inbalanced predominance of english (**94.88% of non empty language_code's rows are set to \"en\"**). \n",
    "\n",
    "\n",
    "PREPROCESSING: For all the reasons mentioned above, **we discard ('artist', 'location'), ('artist', 'latitude'), ('artist', 'longitude') and ('track', 'language_code') as having to many missing values, as well as having an highly predominance of english language and English-speaking countries, thus leadig to poor discriminating feature set for our genre_top classification goal.** "
   ]
  },
  {
   "cell_type": "markdown",
   "metadata": {},
   "source": [
    "<b><font color=\"green\">\n",
    "We discovered that ('album', 'tracks') and the correlated ('track', 'number') is a biased colum, while we dected many missing values in ('artist', 'latitude'), ('artist', 'longitude') and ('track', 'language_code') columns, which aren't possible to solve due to many not geographical entries in the ('artist', 'location') column.\n",
    "We will remove all these 6 column.\n",
    "</font></b>"
   ]
  },
  {
   "cell_type": "markdown",
   "metadata": {},
   "source": [
    "<h1>Categorical features insight</h1>"
   ]
  },
  {
   "cell_type": "code",
   "execution_count": 2186,
   "metadata": {},
   "outputs": [
    {
     "data": {
      "text/html": [
       "<div>\n",
       "<style scoped>\n",
       "    .dataframe tbody tr th:only-of-type {\n",
       "        vertical-align: middle;\n",
       "    }\n",
       "\n",
       "    .dataframe tbody tr th {\n",
       "        vertical-align: top;\n",
       "    }\n",
       "\n",
       "    .dataframe thead th {\n",
       "        text-align: right;\n",
       "    }\n",
       "</style>\n",
       "<table border=\"1\" class=\"dataframe\">\n",
       "  <thead>\n",
       "    <tr style=\"text-align: right;\">\n",
       "      <th></th>\n",
       "      <th></th>\n",
       "      <th>count</th>\n",
       "      <th>unique</th>\n",
       "      <th>top</th>\n",
       "      <th>freq</th>\n",
       "    </tr>\n",
       "  </thead>\n",
       "  <tbody>\n",
       "    <tr>\n",
       "      <th rowspan=\"8\" valign=\"top\">album</th>\n",
       "      <th>date_created</th>\n",
       "      <td>103045</td>\n",
       "      <td>14340</td>\n",
       "      <td>2015-01-26 13:04:57</td>\n",
       "      <td>310</td>\n",
       "    </tr>\n",
       "    <tr>\n",
       "      <th>date_released</th>\n",
       "      <td>70294</td>\n",
       "      <td>3669</td>\n",
       "      <td>2008-01-01 00:00:00</td>\n",
       "      <td>667</td>\n",
       "    </tr>\n",
       "    <tr>\n",
       "      <th>engineer</th>\n",
       "      <td>15295</td>\n",
       "      <td>622</td>\n",
       "      <td>Ernie Indradat</td>\n",
       "      <td>876</td>\n",
       "    </tr>\n",
       "    <tr>\n",
       "      <th>information</th>\n",
       "      <td>83149</td>\n",
       "      <td>11075</td>\n",
       "      <td>&lt;p class=\"p1\" style=\"margin: 0px; padding: 8px...</td>\n",
       "      <td>310</td>\n",
       "    </tr>\n",
       "    <tr>\n",
       "      <th>producer</th>\n",
       "      <td>18060</td>\n",
       "      <td>760</td>\n",
       "      <td>Joe Belock</td>\n",
       "      <td>855</td>\n",
       "    </tr>\n",
       "    <tr>\n",
       "      <th>tags</th>\n",
       "      <td>106574</td>\n",
       "      <td>2388</td>\n",
       "      <td>[]</td>\n",
       "      <td>83549</td>\n",
       "    </tr>\n",
       "    <tr>\n",
       "      <th>title</th>\n",
       "      <td>105549</td>\n",
       "      <td>14298</td>\n",
       "      <td>microSong Entries</td>\n",
       "      <td>310</td>\n",
       "    </tr>\n",
       "    <tr>\n",
       "      <th>type</th>\n",
       "      <td>100066</td>\n",
       "      <td>5</td>\n",
       "      <td>Album</td>\n",
       "      <td>87549</td>\n",
       "    </tr>\n",
       "    <tr>\n",
       "      <th rowspan=\"12\" valign=\"top\">artist</th>\n",
       "      <th>active_year_begin</th>\n",
       "      <td>22711</td>\n",
       "      <td>76</td>\n",
       "      <td>2007-01-01 00:00:00</td>\n",
       "      <td>1789</td>\n",
       "    </tr>\n",
       "    <tr>\n",
       "      <th>active_year_end</th>\n",
       "      <td>5375</td>\n",
       "      <td>57</td>\n",
       "      <td>2016-01-01 00:00:00</td>\n",
       "      <td>479</td>\n",
       "    </tr>\n",
       "    <tr>\n",
       "      <th>associated_labels</th>\n",
       "      <td>14271</td>\n",
       "      <td>754</td>\n",
       "      <td>HUSH Records</td>\n",
       "      <td>604</td>\n",
       "    </tr>\n",
       "    <tr>\n",
       "      <th>bio</th>\n",
       "      <td>71156</td>\n",
       "      <td>6084</td>\n",
       "      <td>&lt;p&gt;&lt;span style=\"color: #333333; font-family: G...</td>\n",
       "      <td>745</td>\n",
       "    </tr>\n",
       "    <tr>\n",
       "      <th>date_created</th>\n",
       "      <td>105718</td>\n",
       "      <td>15970</td>\n",
       "      <td>2013-03-31 02:17:41</td>\n",
       "      <td>745</td>\n",
       "    </tr>\n",
       "    <tr>\n",
       "      <th>location</th>\n",
       "      <td>70210</td>\n",
       "      <td>2329</td>\n",
       "      <td>Brooklyn, NY</td>\n",
       "      <td>2327</td>\n",
       "    </tr>\n",
       "    <tr>\n",
       "      <th>members</th>\n",
       "      <td>46849</td>\n",
       "      <td>4015</td>\n",
       "      <td>Konstantin Trokay</td>\n",
       "      <td>745</td>\n",
       "    </tr>\n",
       "    <tr>\n",
       "      <th>name</th>\n",
       "      <td>106574</td>\n",
       "      <td>16294</td>\n",
       "      <td>Kosta T</td>\n",
       "      <td>745</td>\n",
       "    </tr>\n",
       "    <tr>\n",
       "      <th>related_projects</th>\n",
       "      <td>13152</td>\n",
       "      <td>752</td>\n",
       "      <td>Ratatat, Lullatone, Nightmares On Wax, Air, Mo...</td>\n",
       "      <td>604</td>\n",
       "    </tr>\n",
       "    <tr>\n",
       "      <th>tags</th>\n",
       "      <td>106574</td>\n",
       "      <td>15660</td>\n",
       "      <td>[]</td>\n",
       "      <td>3061</td>\n",
       "    </tr>\n",
       "    <tr>\n",
       "      <th>website</th>\n",
       "      <td>79256</td>\n",
       "      <td>6642</td>\n",
       "      <td>https://soundcloud.com/konstantin-trokay</td>\n",
       "      <td>745</td>\n",
       "    </tr>\n",
       "    <tr>\n",
       "      <th>wikipedia_page</th>\n",
       "      <td>5581</td>\n",
       "      <td>389</td>\n",
       "      <td>http://en.wikipedia.org/wiki/Josh_Woodward</td>\n",
       "      <td>284</td>\n",
       "    </tr>\n",
       "    <tr>\n",
       "      <th rowspan=\"2\" valign=\"top\">set</th>\n",
       "      <th>split</th>\n",
       "      <td>106574</td>\n",
       "      <td>3</td>\n",
       "      <td>training</td>\n",
       "      <td>84353</td>\n",
       "    </tr>\n",
       "    <tr>\n",
       "      <th>subset</th>\n",
       "      <td>106574</td>\n",
       "      <td>3</td>\n",
       "      <td>large</td>\n",
       "      <td>81574</td>\n",
       "    </tr>\n",
       "    <tr>\n",
       "      <th rowspan=\"13\" valign=\"top\">track</th>\n",
       "      <th>composer</th>\n",
       "      <td>3670</td>\n",
       "      <td>505</td>\n",
       "      <td>konstantin trokai</td>\n",
       "      <td>541</td>\n",
       "    </tr>\n",
       "    <tr>\n",
       "      <th>date_created</th>\n",
       "      <td>106574</td>\n",
       "      <td>86169</td>\n",
       "      <td>2009-04-20 22:30:54</td>\n",
       "      <td>4</td>\n",
       "    </tr>\n",
       "    <tr>\n",
       "      <th>date_recorded</th>\n",
       "      <td>6159</td>\n",
       "      <td>773</td>\n",
       "      <td>2008-11-26 00:00:00</td>\n",
       "      <td>700</td>\n",
       "    </tr>\n",
       "    <tr>\n",
       "      <th>genre_top</th>\n",
       "      <td>49598</td>\n",
       "      <td>16</td>\n",
       "      <td>Rock</td>\n",
       "      <td>14182</td>\n",
       "    </tr>\n",
       "    <tr>\n",
       "      <th>genres</th>\n",
       "      <td>106574</td>\n",
       "      <td>4768</td>\n",
       "      <td>[21]</td>\n",
       "      <td>2735</td>\n",
       "    </tr>\n",
       "    <tr>\n",
       "      <th>genres_all</th>\n",
       "      <td>106574</td>\n",
       "      <td>4151</td>\n",
       "      <td>[21]</td>\n",
       "      <td>2735</td>\n",
       "    </tr>\n",
       "    <tr>\n",
       "      <th>information</th>\n",
       "      <td>2349</td>\n",
       "      <td>1586</td>\n",
       "      <td>&lt;p&gt;&lt;a href=\"http://www.myspace.com/theshambler...</td>\n",
       "      <td>22</td>\n",
       "    </tr>\n",
       "    <tr>\n",
       "      <th>language_code</th>\n",
       "      <td>15024</td>\n",
       "      <td>44</td>\n",
       "      <td>en</td>\n",
       "      <td>14255</td>\n",
       "    </tr>\n",
       "    <tr>\n",
       "      <th>license</th>\n",
       "      <td>106487</td>\n",
       "      <td>113</td>\n",
       "      <td>Attribution-Noncommercial-Share Alike 3.0 Unit...</td>\n",
       "      <td>19250</td>\n",
       "    </tr>\n",
       "    <tr>\n",
       "      <th>lyricist</th>\n",
       "      <td>311</td>\n",
       "      <td>66</td>\n",
       "      <td>Apache Tomcat</td>\n",
       "      <td>44</td>\n",
       "    </tr>\n",
       "    <tr>\n",
       "      <th>publisher</th>\n",
       "      <td>1263</td>\n",
       "      <td>135</td>\n",
       "      <td>Victrola Dog (ASCAP)</td>\n",
       "      <td>465</td>\n",
       "    </tr>\n",
       "    <tr>\n",
       "      <th>tags</th>\n",
       "      <td>106574</td>\n",
       "      <td>2451</td>\n",
       "      <td>[]</td>\n",
       "      <td>83078</td>\n",
       "    </tr>\n",
       "    <tr>\n",
       "      <th>title</th>\n",
       "      <td>106573</td>\n",
       "      <td>94986</td>\n",
       "      <td>Untitled</td>\n",
       "      <td>298</td>\n",
       "    </tr>\n",
       "  </tbody>\n",
       "</table>\n",
       "</div>"
      ],
      "text/plain": [
       "                           count unique  \\\n",
       "album  date_created       103045  14340   \n",
       "       date_released       70294   3669   \n",
       "       engineer            15295    622   \n",
       "       information         83149  11075   \n",
       "       producer            18060    760   \n",
       "       tags               106574   2388   \n",
       "       title              105549  14298   \n",
       "       type               100066      5   \n",
       "artist active_year_begin   22711     76   \n",
       "       active_year_end      5375     57   \n",
       "       associated_labels   14271    754   \n",
       "       bio                 71156   6084   \n",
       "       date_created       105718  15970   \n",
       "       location            70210   2329   \n",
       "       members             46849   4015   \n",
       "       name               106574  16294   \n",
       "       related_projects    13152    752   \n",
       "       tags               106574  15660   \n",
       "       website             79256   6642   \n",
       "       wikipedia_page       5581    389   \n",
       "set    split              106574      3   \n",
       "       subset             106574      3   \n",
       "track  composer             3670    505   \n",
       "       date_created       106574  86169   \n",
       "       date_recorded        6159    773   \n",
       "       genre_top           49598     16   \n",
       "       genres             106574   4768   \n",
       "       genres_all         106574   4151   \n",
       "       information          2349   1586   \n",
       "       language_code       15024     44   \n",
       "       license            106487    113   \n",
       "       lyricist              311     66   \n",
       "       publisher            1263    135   \n",
       "       tags               106574   2451   \n",
       "       title              106573  94986   \n",
       "\n",
       "                                                                        top  \\\n",
       "album  date_created                                     2015-01-26 13:04:57   \n",
       "       date_released                                    2008-01-01 00:00:00   \n",
       "       engineer                                              Ernie Indradat   \n",
       "       information        <p class=\"p1\" style=\"margin: 0px; padding: 8px...   \n",
       "       producer                                                  Joe Belock   \n",
       "       tags                                                              []   \n",
       "       title                                              microSong Entries   \n",
       "       type                                                           Album   \n",
       "artist active_year_begin                                2007-01-01 00:00:00   \n",
       "       active_year_end                                  2016-01-01 00:00:00   \n",
       "       associated_labels                                       HUSH Records   \n",
       "       bio                <p><span style=\"color: #333333; font-family: G...   \n",
       "       date_created                                     2013-03-31 02:17:41   \n",
       "       location                                                Brooklyn, NY   \n",
       "       members                                            Konstantin Trokay   \n",
       "       name                                                         Kosta T   \n",
       "       related_projects   Ratatat, Lullatone, Nightmares On Wax, Air, Mo...   \n",
       "       tags                                                              []   \n",
       "       website                     https://soundcloud.com/konstantin-trokay   \n",
       "       wikipedia_page            http://en.wikipedia.org/wiki/Josh_Woodward   \n",
       "set    split                                                       training   \n",
       "       subset                                                         large   \n",
       "track  composer                                           konstantin trokai   \n",
       "       date_created                                     2009-04-20 22:30:54   \n",
       "       date_recorded                                    2008-11-26 00:00:00   \n",
       "       genre_top                                                       Rock   \n",
       "       genres                                                          [21]   \n",
       "       genres_all                                                      [21]   \n",
       "       information        <p><a href=\"http://www.myspace.com/theshambler...   \n",
       "       language_code                                                     en   \n",
       "       license            Attribution-Noncommercial-Share Alike 3.0 Unit...   \n",
       "       lyricist                                               Apache Tomcat   \n",
       "       publisher                                       Victrola Dog (ASCAP)   \n",
       "       tags                                                              []   \n",
       "       title                                                       Untitled   \n",
       "\n",
       "                           freq  \n",
       "album  date_created         310  \n",
       "       date_released        667  \n",
       "       engineer             876  \n",
       "       information          310  \n",
       "       producer             855  \n",
       "       tags               83549  \n",
       "       title                310  \n",
       "       type               87549  \n",
       "artist active_year_begin   1789  \n",
       "       active_year_end      479  \n",
       "       associated_labels    604  \n",
       "       bio                  745  \n",
       "       date_created         745  \n",
       "       location            2327  \n",
       "       members              745  \n",
       "       name                 745  \n",
       "       related_projects     604  \n",
       "       tags                3061  \n",
       "       website              745  \n",
       "       wikipedia_page       284  \n",
       "set    split              84353  \n",
       "       subset             81574  \n",
       "track  composer             541  \n",
       "       date_created           4  \n",
       "       date_recorded        700  \n",
       "       genre_top          14182  \n",
       "       genres              2735  \n",
       "       genres_all          2735  \n",
       "       information           22  \n",
       "       language_code      14255  \n",
       "       license            19250  \n",
       "       lyricist              44  \n",
       "       publisher            465  \n",
       "       tags               83078  \n",
       "       title                298  "
      ]
     },
     "execution_count": 2186,
     "metadata": {},
     "output_type": "execute_result"
    }
   ],
   "source": [
    "tracks.describe(include='object').T"
   ]
  },
  {
   "cell_type": "code",
   "execution_count": 2187,
   "metadata": {},
   "outputs": [
    {
     "data": {
      "text/plain": [
       "(106574, 35)"
      ]
     },
     "execution_count": 2187,
     "metadata": {},
     "output_type": "execute_result"
    }
   ],
   "source": [
    "categorical_tracks = tracks.select_dtypes('object')\n",
    "categorical_tracks.shape"
   ]
  },
  {
   "cell_type": "code",
   "execution_count": 2188,
   "metadata": {},
   "outputs": [],
   "source": [
    "for column_name in categorical_tracks.columns:\n",
    "    # count number of rows with missing values\n",
    "    data = categorical_tracks[column_name]\n",
    "    n_miss = data.isnull().sum()\n",
    "    perc = n_miss / categorical_tracks.shape[0] * 100\n",
    "    if n_miss > 0:\n",
    "        #print( '%.1f%% of NaN rows for %s ' % (perc, column_name))\n",
    "        pass"
   ]
  },
  {
   "cell_type": "markdown",
   "metadata": {},
   "source": [
    "Regarding the categorical features, the dataset has:\n",
    "\n",
    "- 3.3% of NaN rows for ('album', 'date_created') \n",
    "- 34.0% of NaN rows for ('album', 'date_released') \n",
    "- **85.6% of NaN rows for ('album', 'engineer')**\n",
    "- 22.0% of NaN rows for ('album', 'information') \n",
    "- **83.1% of NaN rows for ('album', 'producer')**\n",
    "- 1.0% of NaN rows for ('album', 'title') \n",
    "- 6.1% of NaN rows for ('album', 'type') \n",
    "- **78.7% of NaN rows for ('artist', 'active_year_begin')** \n",
    "- **95.0% of NaN rows for ('artist', 'active_year_end')** \n",
    "- **86.6% of NaN rows for ('artist', 'associated_labels')** \n",
    "- 33.2% of NaN rows for ('artist', 'bio') \n",
    "- 0.8% of NaN rows for ('artist', 'date_created') \n",
    "- 34.1% of NaN rows for ('artist', 'location') \n",
    "- 56.0% of NaN rows for ('artist', 'members') \n",
    "- **87.7% of NaN rows for ('artist', 'related_projects')** \n",
    "- 25.6% of NaN rows for ('artist', 'website') \n",
    "- **94.8% of NaN rows for ('artist', 'wikipedia_page')** \n",
    "- **96.6% of NaN rows for ('track', 'composer')** \n",
    "- **94.2% of NaN rows for ('track', 'date_recorded')** \n",
    "- 53.5% of NaN rows for ('track', 'genre_top') \n",
    "- **97.8% of NaN rows for ('track', 'information')** \n",
    "- **85.9% of NaN rows for ('track', 'language_code')** \n",
    "- 0.1% of NaN rows for ('track', 'license') \n",
    "- **99.7% of NaN rows for ('track', 'lyricist')** \n",
    "- **98.8% of NaN rows for ('track', 'publisher')** \n",
    "- 0.0% of NaN rows for ('track', 'title') \n",
    "\n",
    "PREPROCESSING: In the Data Cleaning stage we will descarded the highly missing record columns (the bold above)."
   ]
  },
  {
   "cell_type": "markdown",
   "metadata": {},
   "source": [
    "<font color=\"fuchsia\"><h6>('album', 'date_created') and ('album', 'date_released') constrains </h6></font>\n",
    "Constrains:\n",
    "\n",
    "1. ('album', 'date_created') >=  ('artist', 'active_year_begin')\n",
    "2. ('album', 'date_released') >=  ('artist', 'active_year_begin')\n",
    "3. ('album', 'date_created') <= ('track', 'date_recorded'),  with track belonging to album\n",
    "4. ('album', 'date_released') <= ('track', 'date_recorded'),  with track belonging to album\n",
    "\n",
    "The first two constrains impose that in order to create/release an album the artist must been active. The third and fourth constrains impose that when an album is created/released its tracks are known and so already recorded.\n",
    "\n",
    "N.B.: an album can be created before or after ('artist', 'active_year_end') (i.e. ussually after an artist passed away a memorial album is created/released). \n",
    "\n",
    "N.B.B.: hypotizing a different album, artist and track time profiling on Echonest ('album', 'date_created'), ('album', 'date_released'), ('artist', 'date_created') and ('track', 'date_created') are unconstrained among them (i.e. metadata added to Echonest before album/artist/track's actual creation/release or most of tghe times happens that a tracks is first released and its album and artist data is added).\n",
    "\n",
    "PREPROCESSING: artists with NaT in the ('artist', 'active_year_end') column, display this value probably beacause they are not yet death, but since 95.0% of rows share this characteristic, imputing it will lead to a zero-variance column. **So we will discard ('artist', 'active_year_end') column**. In addition, we will probably **omit ('artist', 'active_year_begin') column, too, due too many missing values**."
   ]
  },
  {
   "cell_type": "code",
   "execution_count": 2189,
   "metadata": {},
   "outputs": [],
   "source": [
    "def check_date_values(column_name1, column_name2):\n",
    "    id_flag = 'id'\n",
    "    if column_name1[0] == 'track':\n",
    "        id_flag = 'title'\n",
    "    lower = len(tracks[((tracks[column_name1]) < (tracks[column_name2])) & \n",
    "                      (tracks[column_name1] != np.datetime64('NaT') ) & \n",
    "                      (tracks[column_name2] != np.datetime64('NaT') )\n",
    "                      ][(column_name1[0], id_flag)].unique())\n",
    "    greater = len(tracks[((tracks[column_name1]) > (tracks[column_name2])) & \n",
    "                       (tracks[column_name1] != np.datetime64('NaT') ) &\n",
    "                       (tracks[column_name2] != np.datetime64('NaT') )\n",
    "                       ][(column_name1[0], id_flag)].unique())\n",
    "    \n",
    "    print(\"%s < %s=%s\" % (column_name1, column_name2, lower))\n",
    "    print(\"%s > %s=%s\" % (column_name1, column_name2, greater))\n"
   ]
  },
  {
   "cell_type": "code",
   "execution_count": 2190,
   "metadata": {},
   "outputs": [
    {
     "name": "stdout",
     "output_type": "stream",
     "text": [
      "('album', 'date_created') < ('artist', 'active_year_begin')=0\n",
      "('album', 'date_created') > ('artist', 'active_year_begin')=3551\n",
      "\n",
      "('album', 'date_released') < ('artist', 'active_year_begin')=6\n",
      "('album', 'date_released') > ('artist', 'active_year_begin')=2310\n"
     ]
    }
   ],
   "source": [
    "check_date_values(('album', 'date_created'), ('artist', 'active_year_begin'))\n",
    "print()\n",
    "check_date_values(('album', 'date_released'), ('artist', 'active_year_begin'))"
   ]
  },
  {
   "cell_type": "markdown",
   "metadata": {},
   "source": [
    "All albums' creation on Echonest are consistent with artists' career beginning.\n",
    "**6 albums are biased due to their releasing before artists' career beginning**. We can hypotize that ('album', 'date_released') is a biased column, but further investigation is needed, since due to many missing values ('artist', 'active_year_begin') may be discarded."
   ]
  },
  {
   "cell_type": "code",
   "execution_count": 2191,
   "metadata": {},
   "outputs": [
    {
     "name": "stdout",
     "output_type": "stream",
     "text": [
      "('album', 'date_created') < ('track', 'date_recorded')=68\n",
      "('album', 'date_created') > ('track', 'date_recorded')=1135\n",
      "\n",
      "('album', 'date_released') < ('track', 'date_recorded')=151\n",
      "('album', 'date_released') > ('track', 'date_recorded')=427\n"
     ]
    }
   ],
   "source": [
    "check_date_values(('album', 'date_created'), ('track', 'date_recorded'))\n",
    "print()\n",
    "check_date_values(('album', 'date_released'), ('track', 'date_recorded'))"
   ]
  },
  {
   "cell_type": "markdown",
   "metadata": {},
   "source": [
    "**68 albums have ('album', 'date_created') previous ('track', 'date_recorded') ** and **151 albums have ('album', 'date_released') previous ('track', 'date_recorded')'**. We can hypotize that ('track', 'date_recorded') is a biased column, but further investigation is needed."
   ]
  },
  {
   "cell_type": "markdown",
   "metadata": {},
   "source": [
    "<font color=\"fuchsia\"><h6>('artist', 'active_year_begin'), ('artist', 'active_year_end') and ('artist', 'created')  constrains</h6></font>\n",
    "We have already verified that ('album', 'date_created') is consistent with ('artist', 'active_year_begin'), as well as finding 6 albums having ('album', 'date_released') previous than ('artist', 'active_year_begin').\n",
    "\n",
    "As already stated, too, ('artist', 'active_year_end') doesn't impose constains upon album and tracks creations, since after an artist's death is quite frequent to release new albums and songs.\n",
    "\n",
    "Constrains:\n",
    "1. ('artist', 'active_year_begin') <= ('artist', 'active_year_end')\n",
    "1. ('artist', 'active_year_begin') <= ('artist', 'date_created')\n",
    "3. ('artist', 'active_year_begin') <= ('track', 'date_created')\n",
    "4. ('artist', 'active_year_begin') <= ('track', 'date_recorded')"
   ]
  },
  {
   "cell_type": "code",
   "execution_count": 2192,
   "metadata": {},
   "outputs": [
    {
     "name": "stdout",
     "output_type": "stream",
     "text": [
      "('artist', 'active_year_begin') < ('artist', 'active_year_end')=269\n",
      "('artist', 'active_year_begin') > ('artist', 'active_year_end')=0\n"
     ]
    }
   ],
   "source": [
    "check_date_values(('artist', 'active_year_begin'), ('artist', 'active_year_end'))"
   ]
  },
  {
   "cell_type": "markdown",
   "metadata": {},
   "source": [
    "All artists' withdrawal from the scene are consistent with their career beginning."
   ]
  },
  {
   "cell_type": "code",
   "execution_count": 2193,
   "metadata": {},
   "outputs": [
    {
     "name": "stdout",
     "output_type": "stream",
     "text": [
      "('artist', 'active_year_begin') < ('artist', 'date_created')=1254\n",
      "('artist', 'active_year_begin') > ('artist', 'date_created')=0\n"
     ]
    }
   ],
   "source": [
    "check_date_values(('artist', 'active_year_begin'), ('artist', 'date_created'))"
   ]
  },
  {
   "cell_type": "markdown",
   "metadata": {},
   "source": [
    "All artists present on Echonest were created before their career beginning."
   ]
  },
  {
   "cell_type": "code",
   "execution_count": 2194,
   "metadata": {},
   "outputs": [
    {
     "name": "stdout",
     "output_type": "stream",
     "text": [
      "('artist', 'active_year_begin') < ('track', 'date_created')=1254\n",
      "('artist', 'active_year_begin') > ('track', 'date_created')=0\n",
      "\n",
      "('artist', 'active_year_begin') < ('track', 'date_recorded')=304\n",
      "('artist', 'active_year_begin') > ('track', 'date_recorded')=3\n"
     ]
    }
   ],
   "source": [
    "check_date_values(('artist', 'active_year_begin'), ('track', 'date_created'))\n",
    "print()\n",
    "check_date_values(('artist', 'active_year_begin'), ('track', 'date_recorded'))"
   ]
  },
  {
   "cell_type": "markdown",
   "metadata": {},
   "source": [
    "**3 artists display an ('artist', 'active_year_end') posterior to ('track', 'date_recorded')**. On the contrary, all tracks created on Echonest are consistent with artist's career beginning. Our biased hypotetisis upon 'track', 'date_recorded') in enforced."
   ]
  },
  {
   "cell_type": "markdown",
   "metadata": {},
   "source": [
    "<font color=\"fuchsia\"><h6>('track', 'date_created') and ('track', 'date_recorded') constrains </h6></font>\n",
    "We already discovered that ('track', 'date_recorded') is incosistent with ('album', 'date_created'), ('album', 'date', 'release') [in turn inconsistent with ('artist', 'active_year_begin')] and ('artist', 'active_year_begin').\n",
    "\n",
    "Constrains:\n",
    "1. ('track', 'date_created') > ('track', 'date_recorded')"
   ]
  },
  {
   "cell_type": "code",
   "execution_count": 2195,
   "metadata": {},
   "outputs": [
    {
     "name": "stdout",
     "output_type": "stream",
     "text": [
      "('track', 'date_created') < ('track', 'date_recorded')=306\n",
      "('track', 'date_created') > ('track', 'date_recorded')=5409\n"
     ]
    }
   ],
   "source": [
    "check_date_values(('track', 'date_created'), ('track', 'date_recorded'))"
   ]
  },
  {
   "cell_type": "markdown",
   "metadata": {},
   "source": [
    "**306 tracks have ('track', 'date_created') previous ('track', 'date_recorded')**. \n",
    "\n",
    "PREPROCESSING: Since ('track', 'date_recorded') presented inconsistences also with ('album', 'date_created'),  ('album', 'date_released'), ('artist', 'active_year_begin'), ('track', 'date_created') and have 94.2% of NaN rows,  we confirm its inconsistence and so removal."
   ]
  },
  {
   "cell_type": "markdown",
   "metadata": {},
   "source": [
    "<b><font color=\"green\">\n",
    "RECAP: ('track', 'date_recorded') is a biased column and so we won't use it. We will omitt ('artist', \"active_year_begin\") and ('artist', 'active_year_end'), too, due too many missing values. We are still in doubt if keeping ('album', 'date_released') and in genereal the other date_created columns, since maybe exists some correlation among them.\n",
    "</font></b>"
   ]
  },
  {
   "cell_type": "markdown",
   "metadata": {},
   "source": [
    "<h6>Trasforming datetime columns</h6>"
   ]
  },
  {
   "cell_type": "code",
   "execution_count": 2196,
   "metadata": {},
   "outputs": [],
   "source": [
    "# converting columns relative to dates to datetime64[ns] type\n",
    "dates_columns = [('album', 'date_created'), ('album', 'date_released'), ('artist', 'active_year_begin'), \n",
    "                 ('artist', 'active_year_end'), ('artist', 'date_created'), ('track', 'date_created'),\n",
    "                 ('track', 'date_recorded')]\n",
    "for dcolumn in dates_columns:\n",
    "    tracks[dcolumn] = pd.to_datetime(tracks[dcolumn], infer_datetime_format=True)"
   ]
  },
  {
   "cell_type": "code",
   "execution_count": 2197,
   "metadata": {},
   "outputs": [
    {
     "data": {
      "text/plain": [
       "(106574, 7)"
      ]
     },
     "execution_count": 2197,
     "metadata": {},
     "output_type": "execute_result"
    }
   ],
   "source": [
    "datetime_tracks = tracks.select_dtypes('datetime64')\n",
    "datetime_tracks.shape"
   ]
  },
  {
   "cell_type": "code",
   "execution_count": 2198,
   "metadata": {},
   "outputs": [],
   "source": [
    "def support_transform_column_in_years_and_months(df, column_name):\n",
    "    years_column = []\n",
    "    months_colum = []\n",
    "    for row in df[column_name]:\n",
    "        years_column.append(row.year)\n",
    "        months_colum.append(row.month)\n",
    "    if len(years_column) != df.shape[0] or len(months_colum) != df.shape[0]:\n",
    "        print(\"not matching column's length\")\n",
    "    return years_column, months_colum"
   ]
  },
  {
   "cell_type": "code",
   "execution_count": 2199,
   "metadata": {},
   "outputs": [
    {
     "data": {
      "text/plain": [
       "(106574, 14)"
      ]
     },
     "execution_count": 2199,
     "metadata": {},
     "output_type": "execute_result"
    }
   ],
   "source": [
    "# splitting datetime64[ns] into year and month\n",
    "original_datetime_column = list(datetime_tracks.columns)\n",
    "for column_name in original_datetime_column:\n",
    "    years_column, months_column  = transform_column_in_years_and_months(datetime_tracks, column_name)\n",
    "    column_index = datetime_tracks.columns.get_loc(column_name)\n",
    "    new_years_column_name = (column_name[0], column_name[1] + \"_year\")\n",
    "    new_months_column_name = (column_name[0], column_name[1] + \"_month\")\n",
    "    datetime_tracks.insert(loc=column_index, column=new_years_column_name, value=years_column)\n",
    "    datetime_tracks.insert(loc=column_index+1, column=new_months_column_name, value=months_column)\n",
    "    \n",
    "# drop old datetime64[ns] columns\n",
    "for column_name in original_datetime_column:\n",
    "    del datetime_tracks[column_name]\n",
    "datetime_tracks.shape"
   ]
  },
  {
   "cell_type": "markdown",
   "metadata": {},
   "source": [
    "<h6>Checking correlation among datetime columns</h6>"
   ]
  },
  {
   "cell_type": "code",
   "execution_count": 2200,
   "metadata": {},
   "outputs": [],
   "source": [
    "def normalize_df(df, scaler_flag):\n",
    "    # for column_name in columns_to_normalize:\n",
    "    column_names = list(df.columns)\n",
    "    for column_name in column_names:\n",
    "        data = df[column_name]\n",
    "        scaler = None\n",
    "        if scaler_flag == \"min_max\":\n",
    "            scaler = MinMaxScaler()\n",
    "        elif scaler_flag == \"standard\":\n",
    "            scaler = StandardScaler()\n",
    "        elif scaler_flag == \"maxabs\":\n",
    "            scaler = MaxAbsScaler()\n",
    "        elif scaler_flag == \"robust\":\n",
    "            scaler = RobustScaler()\n",
    "        else:\n",
    "            print(\"scaler_flag error\")\n",
    "            sys.exit(-1)\n",
    "        # fit the model on the feature to normale its values and transform it\n",
    "        df[column_name] = scaler.fit_transform(df[column_name].values.reshape(-1,1))[:, 0]\n",
    "    return df"
   ]
  },
  {
   "cell_type": "code",
   "execution_count": 2201,
   "metadata": {},
   "outputs": [
    {
     "data": {
      "image/png": "[encoded data removed]",
      "text/plain": [
       "<Figure size 792x648 with 2 Axes>"
      ]
     },
     "metadata": {
      "needs_background": "light"
     },
     "output_type": "display_data"
    }
   ],
   "source": [
    "norm_datetime_tracks = datetime_tracks.dropna().copy()  # N.B. = removing NaN values\n",
    "del norm_datetime_tracks[('artist', 'active_year_begin_month')]\n",
    "del norm_datetime_tracks[('artist', 'active_year_end_month')]\n",
    "del norm_datetime_tracks[('album', 'date_created_month')]\n",
    "del norm_datetime_tracks[('album', 'date_released_month')]\n",
    "del norm_datetime_tracks[('artist', 'date_created_month')]\n",
    "del norm_datetime_tracks[('track', 'date_created_month')]\n",
    "del norm_datetime_tracks[('track', 'date_recorded_month')]\n",
    "norm_datetime_tracks = normalize_df(norm_datetime_tracks, \"min_max\")\n",
    "corr = norm_datetime_tracks.corr()\n",
    "\n",
    "\n",
    "f, ax = plt.subplots(figsize=(11, 9))\n",
    "cmap = sns.diverging_palette(255, 30, 255, as_cmap=True)\n",
    "mask = np.zeros_like(corr, dtype=np.bool)\n",
    "mask[np.triu_indices_from(mask)] = False\n",
    "heatmap = sns.heatmap(corr, mask=mask, cmap=cmap, center=0.0, vmax = 1, vmin = -1, \n",
    "                                                                              square=True, linewidths=1, ax=ax)\n",
    "plt.xlabel(\"\")\n",
    "plt.ylabel(\"\")\n",
    "plt.title(\"Year columns' Pearson correlation coefficient\")\n",
    "plt.show()"
   ]
  },
  {
   "cell_type": "code",
   "execution_count": 2202,
   "metadata": {},
   "outputs": [],
   "source": [
    "# investigating negative correlation\n",
    "threshold = -0.6\n",
    "for i in range(len(corr.columns)):\n",
    "    for j in range(i):\n",
    "        if (corr.iloc[i, j] <= threshold):\n",
    "            print(corr.columns[i], corr.columns[j], corr.iloc[i, j])"
   ]
  },
  {
   "cell_type": "code",
   "execution_count": 2203,
   "metadata": {},
   "outputs": [
    {
     "name": "stdout",
     "output_type": "stream",
     "text": [
      "('artist', 'date_created_year') ('album', 'date_created_year') 0.6788141844010688\n",
      "('track', 'date_created_year') ('album', 'date_created_year') 0.9640248554083234\n",
      "('track', 'date_created_year') ('artist', 'date_created_year') 0.6769701963237771\n",
      "('track', 'date_recorded_year') ('artist', 'active_year_end_year') 0.6622848607866609\n"
     ]
    }
   ],
   "source": [
    "# investigating positive correlation\n",
    "threshold = 0.6\n",
    "for i in range(len(corr.columns)):\n",
    "    for j in range(i):\n",
    "        if (corr.iloc[i, j] >= threshold):\n",
    "            print(corr.columns[i], corr.columns[j], corr.iloc[i, j])"
   ]
  },
  {
   "cell_type": "markdown",
   "metadata": {},
   "source": [
    "From the correlation matrix we discovered that:\n",
    "    \n",
    "- ('track', 'date_created_year') wiht ('album', 'date_created_year') are highly positive correlated (+0.96). We can therefore remove one of the two original datetime columns from the dataframe;\n",
    "- ('track', 'date_created_year') wiht ('artist', 'date_created_year') are positive correlated (+0.68);\n",
    "- ('track', 'date_created_year') wiht ('artist', 'date_created_year') are positive correlated (+0.68).\n",
    "\n",
    "We don't take into consideration ('track', 'date_recorded') since we found out it is a biased colum, as well as ('artist', 'active_year_begin') and ('artist', 'active_year_end') due too many missing values. \n",
    "\n",
    "PREPROCESSING: since ('album', 'date_created'), ('artist', 'date_created') and ('track', 'date_created') columns are highly positive correlated, we decide to keep only ('track', 'date_created') due to the fact that it doesn't have any missing value, as opposed to ('album', 'date_created') [3.3% missing rows] and ('artist', 'date_created') [0.8% missing rows]. We need also to correct the 6 albums biased towards ('album', 'date_released') to keep this column, which doesn't show any strong correlation with the others."
   ]
  },
  {
   "cell_type": "markdown",
   "metadata": {},
   "source": [
    "<h6> Verifying if correcting baised ('album', 'date_released') correlation matrix changes </h6>"
   ]
  },
  {
   "cell_type": "code",
   "execution_count": 2205,
   "metadata": {},
   "outputs": [
    {
     "data": {
      "text/plain": [
       "(106574, 14)"
      ]
     },
     "execution_count": 2205,
     "metadata": {},
     "output_type": "execute_result"
    }
   ],
   "source": [
    "modified_datetime_tracks = datetime_tracks.copy()\n",
    "modified_datetime_tracks.shape"
   ]
  },
  {
   "cell_type": "code",
   "execution_count": 2206,
   "metadata": {},
   "outputs": [
    {
     "data": {
      "text/plain": [
       "0"
      ]
     },
     "execution_count": 2206,
     "metadata": {},
     "output_type": "execute_result"
    }
   ],
   "source": [
    "biased_indeces = list(tracks[tracks[('album', 'date_released')] < (tracks[('artist', 'active_year_begin')])].index)\n",
    "for idx in biased_indeces:\n",
    "    # swap previous ('album', 'date_released') with ('artist', 'active_year_begin')\n",
    "    # records being consistent with ('artist', 'active_year_begin') will still continue to be consistent with\n",
    "    # a precedent artist career's start\n",
    "    v1 = modified_datetime_tracks.at[idx, ('artist', 'active_year_begin_year')]\n",
    "    v2 = modified_datetime_tracks.at[idx, ('artist', 'active_year_begin_month')]\n",
    "    v3 = modified_datetime_tracks.at[idx, ('album', 'date_released_year')]\n",
    "    v4 = modified_datetime_tracks.at[idx, ('album', 'date_released_month')]\n",
    "    modified_datetime_tracks.at[idx, ('album', 'date_released_year')] = v1\n",
    "    modified_datetime_tracks.at[idx, ('album', 'date_released_month')] = v2\n",
    "    modified_datetime_tracks.at[idx, ('artist', 'active_year_begin_year')] = v3\n",
    "    modified_datetime_tracks.at[idx, ('artist', 'active_year_begin_month')] = v4\n",
    "# checking\n",
    "modified_datetime_tracks[modified_datetime_tracks[('album', 'date_released_year')] < (modified_datetime_tracks[('artist', 'active_year_begin_year')])].shape[0]"
   ]
  },
  {
   "cell_type": "code",
   "execution_count": 2207,
   "metadata": {},
   "outputs": [
    {
     "data": {
      "image/png": "[encoded data removed]",
      "text/plain": [
       "<Figure size 792x648 with 2 Axes>"
      ]
     },
     "metadata": {
      "needs_background": "light"
     },
     "output_type": "display_data"
    }
   ],
   "source": [
    "norm_datetime_tracks = modified_datetime_tracks.dropna().copy()  # N.B. = removing NaN values\n",
    "del norm_datetime_tracks[('artist', 'active_year_begin_month')]\n",
    "del norm_datetime_tracks[('artist', 'active_year_end_month')]\n",
    "del norm_datetime_tracks[('album', 'date_created_month')]\n",
    "del norm_datetime_tracks[('album', 'date_released_month')]\n",
    "del norm_datetime_tracks[('artist', 'date_created_month')]\n",
    "del norm_datetime_tracks[('track', 'date_created_month')]\n",
    "del norm_datetime_tracks[('track', 'date_recorded_month')]\n",
    "norm_datetime_tracks = normalize_df(norm_datetime_tracks, \"min_max\")\n",
    "corr = norm_datetime_tracks.corr()\n",
    "\n",
    "\n",
    "f, ax = plt.subplots(figsize=(11, 9))\n",
    "cmap = sns.diverging_palette(255, 30, 255, as_cmap=True)\n",
    "mask = np.zeros_like(corr, dtype=np.bool)\n",
    "mask[np.triu_indices_from(mask)] = False\n",
    "heatmap = sns.heatmap(corr, mask=mask, cmap=cmap, center=0.0, vmax = 1, vmin = -1, \n",
    "                                                                              square=True, linewidths=1, ax=ax)\n",
    "plt.xlabel(\"\")\n",
    "plt.ylabel(\"\")\n",
    "plt.title(\"Year columns' Pearson correlation coefficient\")\n",
    "plt.show()"
   ]
  },
  {
   "cell_type": "code",
   "execution_count": 2208,
   "metadata": {},
   "outputs": [],
   "source": [
    "# investigating negative correlation\n",
    "threshold = -0.6\n",
    "for i in range(len(corr.columns)):\n",
    "    for j in range(i):\n",
    "        if (corr.iloc[i, j] <= threshold):\n",
    "            print(corr.columns[i], corr.columns[j], corr.iloc[i, j])"
   ]
  },
  {
   "cell_type": "code",
   "execution_count": 2209,
   "metadata": {},
   "outputs": [
    {
     "name": "stdout",
     "output_type": "stream",
     "text": [
      "('artist', 'date_created_year') ('album', 'date_created_year') 0.6788141844010688\n",
      "('track', 'date_created_year') ('album', 'date_created_year') 0.9640248554083234\n",
      "('track', 'date_created_year') ('artist', 'date_created_year') 0.6769701963237771\n",
      "('track', 'date_recorded_year') ('artist', 'active_year_end_year') 0.6622848607866609\n"
     ]
    }
   ],
   "source": [
    "# investigating positive correlation\n",
    "threshold = 0.6\n",
    "for i in range(len(corr.columns)):\n",
    "    for j in range(i):\n",
    "        if (corr.iloc[i, j] >= threshold):\n",
    "            print(corr.columns[i], corr.columns[j], corr.iloc[i, j])"
   ]
  },
  {
   "cell_type": "code",
   "execution_count": 2211,
   "metadata": {},
   "outputs": [
    {
     "name": "stdout",
     "output_type": "stream",
     "text": [
      "26885\n",
      "42261\n",
      "1148\n"
     ]
    }
   ],
   "source": [
    "print(modified_datetime_tracks[(modified_datetime_tracks[('album', 'date_released_year')]) < \n",
    "                         (modified_datetime_tracks[('track', 'date_created_year')])].shape[0])\n",
    "print(modified_datetime_tracks[(modified_datetime_tracks[('album', 'date_released_year')]) == \n",
    "                         (modified_datetime_tracks[('track', 'date_created_year')])].shape[0])\n",
    "print(modified_datetime_tracks[(modified_datetime_tracks[('album', 'date_released_year')]) >\n",
    "                         (modified_datetime_tracks[('track', 'date_created_year')])].shape[0])"
   ]
  },
  {
   "cell_type": "markdown",
   "metadata": {},
   "source": [
    "PREPROCESSING: Even by correcting the 36 biased rows (relative to 6 albums), having their release year set before the relative artist's actual career start (we switched the two dates), we don't detect changes in the Correlation Matrix. However, since ('album', 'date_released') present 34% of missing rows we prefer not to use it, whitout loosing important metadata (we still have ('track', 'date_created') that in some sort convey this meaning)."
   ]
  },
  {
   "cell_type": "markdown",
   "metadata": {},
   "source": [
    "<b><font color=\"green\">\n",
    "RECAP: among all datetime colums the only consistent e relevant to keep is ('track', 'date_created').\n",
    "</font></b>"
   ]
  },
  {
   "cell_type": "markdown",
   "metadata": {},
   "source": [
    "<h6>Removing all datetime columns, a part from  ('track', 'date_created') from original DataFrame.</h6>"
   ]
  },
  {
   "cell_type": "code",
   "execution_count": 2212,
   "metadata": {},
   "outputs": [],
   "source": [
    "def transform_list_into_seasons(months_list):\n",
    "    season_list = []\n",
    "    for m in months_list:\n",
    "        if m == 3 or m == 4 or m == 5:\n",
    "            season_list.append(\"Spring\")\n",
    "        if m == 6 or m == 7 or m == 8:\n",
    "            season_list.append(\"Summer\")\n",
    "        if m == 9 or m == 10 or m == 11:\n",
    "            season_list.append(\"Autumn\")\n",
    "        if m == 12 or m == 1 or m == 2:\n",
    "            season_list.append(\"Winter\")\n",
    "            \n",
    "    if len(season_list) != len(months_list):\n",
    "        print(\"Lists lenght missmatch\")\n",
    "        sys.exit(-1)\n",
    "    return season_list"
   ]
  },
  {
   "cell_type": "code",
   "execution_count": 2213,
   "metadata": {},
   "outputs": [
    {
     "data": {
      "text/plain": [
       "(106574, 47)"
      ]
     },
     "execution_count": 2213,
     "metadata": {},
     "output_type": "execute_result"
    }
   ],
   "source": [
    "# removing all all datetime columns, a part from ('track', 'date_created') f\n",
    "dates_columns = [('album', 'date_created'), ('album', 'date_released'), ('artist', 'active_year_begin'), \n",
    "                 ('artist', 'active_year_end'), ('artist', 'date_created'), ('track', 'date_recorded')]\n",
    "for dcolumn in dates_columns:\n",
    "    del tracks[dcolumn] \n",
    "    \n",
    "# splitting datetime64[ns] into year and month\n",
    "original_datetime_column = [('track', 'date_created')]\n",
    "for column_name in original_datetime_column:\n",
    "    years_column, months_column  = transform_column_in_years_and_months(tracks, column_name)\n",
    "    season_column = transform_list_into_seasons(months_column)\n",
    "    column_index = tracks.columns.get_loc(column_name)\n",
    "    new_years_column_name = (column_name[0], column_name[1] + \"_year\")\n",
    "    new_months_column_name = (column_name[0], column_name[1] + \"_season\")\n",
    "    tracks.insert(loc=column_index, column=new_years_column_name, value=years_column)\n",
    "    tracks.insert(loc=column_index+1, column=new_months_column_name, value=season_column)\n",
    "    \n",
    "# drop old datetime64[ns] columns\n",
    "for column_name in original_datetime_column:\n",
    "    del tracks[column_name]\n",
    "tracks.shape"
   ]
  },
  {
   "cell_type": "markdown",
   "metadata": {},
   "source": [
    "<h2>Tracks' genre_top understanding </h2>\n",
    "\n",
    "From tracks' \"genre_top\" feature we find out that the dataset is unbalanced in respect to the 16 main music genres. The three, most prominent genres are:\n",
    "\n",
    "1. Rock (14,182)\n",
    "2. Experimental (10,608)\n",
    "3. Electronic (9,372)\n",
    "\n",
    "All the other **72,412 tracks** (<font color=\"red\"> among which 56,976 must be impunted since they present NaN values</font>) belong to the remaining 13 main genres."
   ]
  },
  {
   "cell_type": "code",
   "execution_count": 2218,
   "metadata": {},
   "outputs": [],
   "source": [
    "def sns_barplot(df, column_name, x_label, x_ticks_rotation_flag, y_log_flag, title):\n",
    "    count_dict = Counter(df[column_name].dropna())  # N.B. = removing NaN values\n",
    "    count_dict = dict(sorted(count_dict.items(),key=operator.itemgetter(1),reverse=True))\n",
    "    y = list(count_dict.keys())\n",
    "    x = list(count_dict.values())\n",
    "    sns.barplot(x=x, y=y, log=y_log_flag, color=\"#4C72B0\")\n",
    "    if x_ticks_rotation_flag:\n",
    "        plt.xticks(rotation=90)\n",
    "    plt.xlabel(x_label)\n",
    "    plt.ylabel(\"count\")\n",
    "    plt.title(title)\n",
    "    plt.show()"
   ]
  },
  {
   "cell_type": "code",
   "execution_count": 2219,
   "metadata": {},
   "outputs": [],
   "source": [
    "def sns_histplot(df, column_name, hue, title):\n",
    "    sns.displot(x=column_name, data=df.dropna(), hue=hue, multiple=\"dodge\")  # N.B. = removing NaN values\n",
    "    plt.yscale('log')\n",
    "    plt.legend(title=str(hue), bbox_to_anchor=(1.05, 1), loc='upper left', fontsize='small')\n",
    "    plt.xlabel(str(column_name))\n",
    "    plt.ylabel(\"count\")\n",
    "    plt.title(title)\n",
    "    plt.show()"
   ]
  },
  {
   "cell_type": "code",
   "execution_count": 2220,
   "metadata": {},
   "outputs": [],
   "source": [
    "def sns_boxplot_ordered_by_mean(df, category_name, numerical_name, title, showfliers):\n",
    "    grouped = df.loc[:,[category_name, numerical_name]].dropna() \\\n",
    "    .groupby([category_name]) \\\n",
    "    .mean() \\\n",
    "    .sort_values(by=numerical_name)\n",
    "\n",
    "    sns.boxplot(x=df[numerical_name], y=df[category_name], order=grouped.index, color=\"#4C72B0\", showfliers=showfliers)\n",
    "    plt.title(title)\n",
    "    plt.show()"
   ]
  },
  {
   "cell_type": "code",
   "execution_count": 2221,
   "metadata": {},
   "outputs": [],
   "source": [
    "def sns_scatterplot(df, x_column_name, y_column_name, hue_column_name, x_ticks_rotation_flag, title):\n",
    "    if hue_column_name == \"\":\n",
    "        scatter = sns.scatterplot(x=x_column_name, y=y_column_name, data=df.dropna(), color=\"#4C72B0\")\n",
    "    else:\n",
    "        scatter = sns.scatterplot(x=x_column_name, y=y_column_name, hue=hue_column_name, data=df.dropna(), palette=\"tab10\", marker=\"o\")\n",
    "    # plt.gca().xaxis.set_major_formatter(FuncFormatter(lambda x, _: int(x)))\n",
    "    if x_ticks_rotation_flag:\n",
    "        plt.xticks(rotation=45)\n",
    "    plt.title(title)\n",
    "    if hue_column_name != \"\":\n",
    "        plt.legend(title=str(hue_column_name), bbox_to_anchor=(1.05, 1), loc='upper left', fontsize='small')\n",
    "    plt.show()"
   ]
  },
  {
   "cell_type": "code",
   "execution_count": 2222,
   "metadata": {},
   "outputs": [],
   "source": [
    "def df_described_based_upon_genres(column_name, sub_genres_list):\n",
    "    if len(sub_genres_list) == 0:\n",
    "        tmp_list = genres\n",
    "    else:\n",
    "        tmp_list = sub_genres_list\n",
    "    for genre in tmp_list:\n",
    "        tmp_serie = tracks[tracks[('track', 'genre_top')] == genre][column_name]\n",
    "        tmp_min = tmp_serie.min()\n",
    "        tmp_max = tmp_serie.max()\n",
    "        tmp_mean = tmp_serie.mean()\n",
    "        tmp_median = tmp_serie.median()\n",
    "        tmp_std = tmp_serie.std()\n",
    "        print(genre, \"min=%s\" %tmp_min, \"max=%s\" %tmp_max, \"mean=%s\" %tmp_mean, \"std=%s\" %tmp_std, \"median=%s\" %tmp_median)"
   ]
  },
  {
   "cell_type": "code",
   "execution_count": 2223,
   "metadata": {},
   "outputs": [],
   "source": [
    "genres = tracks[('track', 'genre_top')].dropna().unique()"
   ]
  },
  {
   "cell_type": "code",
   "execution_count": 2224,
   "metadata": {},
   "outputs": [
    {
     "data": {
      "image/png": "[encoded data removed]",
      "text/plain": [
       "<Figure size 432x288 with 1 Axes>"
      ]
     },
     "metadata": {
      "needs_background": "light"
     },
     "output_type": "display_data"
    }
   ],
   "source": [
    "column_name = ('track', 'genre_top')\n",
    "sns_barplot(tracks, column_name, str(column_name), False, False, \"Tracks' top genre before imputation distribution\")"
   ]
  },
  {
   "cell_type": "code",
   "execution_count": 2225,
   "metadata": {},
   "outputs": [],
   "source": [
    "three_top_genres = [\"Rock\", \"Experimental\", \"Electronic\"]"
   ]
  },
  {
   "cell_type": "code",
   "execution_count": 2226,
   "metadata": {},
   "outputs": [
    {
     "data": {
      "text/plain": [
       "14182"
      ]
     },
     "execution_count": 2226,
     "metadata": {},
     "output_type": "execute_result"
    }
   ],
   "source": [
    "rock = tracks[tracks[('track', 'genre_top')] == \"Rock\"].shape[0] \n",
    "rock"
   ]
  },
  {
   "cell_type": "code",
   "execution_count": 2227,
   "metadata": {},
   "outputs": [
    {
     "data": {
      "text/plain": [
       "10608"
      ]
     },
     "execution_count": 2227,
     "metadata": {},
     "output_type": "execute_result"
    }
   ],
   "source": [
    "experimental = tracks[tracks[('track', 'genre_top')] == \"Experimental\"].shape[0] \n",
    "experimental"
   ]
  },
  {
   "cell_type": "code",
   "execution_count": 2228,
   "metadata": {},
   "outputs": [
    {
     "data": {
      "text/plain": [
       "9372"
      ]
     },
     "execution_count": 2228,
     "metadata": {},
     "output_type": "execute_result"
    }
   ],
   "source": [
    "electronic = tracks[tracks[('track', 'genre_top')] == \"Electronic\"].shape[0] \n",
    "electronic"
   ]
  },
  {
   "cell_type": "code",
   "execution_count": 2229,
   "metadata": {},
   "outputs": [
    {
     "data": {
      "text/plain": [
       "34162"
      ]
     },
     "execution_count": 2229,
     "metadata": {},
     "output_type": "execute_result"
    }
   ],
   "source": [
    "rock + experimental + electronic"
   ]
  },
  {
   "cell_type": "markdown",
   "metadata": {},
   "source": [
    "<h6>Songs NOT having as main genre Rock, Experimental or Electronic</h6>"
   ]
  },
  {
   "cell_type": "code",
   "execution_count": 2230,
   "metadata": {},
   "outputs": [
    {
     "data": {
      "text/plain": [
       "72412"
      ]
     },
     "execution_count": 2230,
     "metadata": {},
     "output_type": "execute_result"
    }
   ],
   "source": [
    "tracks.shape[0] - (rock + experimental + electronic)"
   ]
  },
  {
   "cell_type": "markdown",
   "metadata": {},
   "source": [
    "<h6>among which NaN genre_top: </h6>"
   ]
  },
  {
   "cell_type": "code",
   "execution_count": 2231,
   "metadata": {},
   "outputs": [
    {
     "data": {
      "text/plain": [
       "56976"
      ]
     },
     "execution_count": 2231,
     "metadata": {},
     "output_type": "execute_result"
    }
   ],
   "source": [
    "tracks[(tracks[('track', 'genre_top')].isna())].shape[0]"
   ]
  },
  {
   "cell_type": "markdown",
   "metadata": {},
   "source": [
    "<h6> so untill genre_top imputation we have a total of NOT Rock, Experimental or Electronic tracks:</h6<"
   ]
  },
  {
   "cell_type": "code",
   "execution_count": 2232,
   "metadata": {},
   "outputs": [
    {
     "data": {
      "text/plain": [
       "15436"
      ]
     },
     "execution_count": 2232,
     "metadata": {},
     "output_type": "execute_result"
    }
   ],
   "source": [
    "tracks.shape[0] - (rock + experimental + electronic) - tracks[(tracks[('track', 'genre_top')].isna())].shape[0]"
   ]
  },
  {
   "cell_type": "markdown",
   "metadata": {},
   "source": [
    "<h6>Numerical features</h6>"
   ]
  },
  {
   "cell_type": "code",
   "execution_count": 2235,
   "metadata": {},
   "outputs": [
    {
     "data": {
      "image/png": "[encoded data removed]",
      "text/plain": [
       "<Figure size 792x648 with 2 Axes>"
      ]
     },
     "metadata": {
      "needs_background": "light"
     },
     "output_type": "display_data"
    }
   ],
   "source": [
    "norm_numeric_tracks = numeric_tracks.dropna().copy()  # N.B. = removing NaN values\n",
    "del norm_numeric_tracks[('album', 'id')]\n",
    "del norm_numeric_tracks[('artist', 'id')]\n",
    "# del norm_numeric_tracks[('track', 'date_created_year')]\n",
    "norm_numeric_tracks = normalize_df(norm_numeric_tracks, \"min_max\")\n",
    "corr = norm_numeric_tracks.corr()\n",
    "\n",
    "\n",
    "f, ax = plt.subplots(figsize=(11, 9))\n",
    "cmap = sns.diverging_palette(255, 30, 255, as_cmap=True)\n",
    "mask = np.zeros_like(corr, dtype=np.bool)\n",
    "mask[np.triu_indices_from(mask)] = False\n",
    "heatmap = sns.heatmap(corr, mask=mask, cmap=cmap, center=0.0, vmax = 1, vmin = -1, square=True, linewidths=1, ax=ax)\n",
    "plt.show()"
   ]
  },
  {
   "cell_type": "code",
   "execution_count": 2427,
   "metadata": {},
   "outputs": [],
   "source": [
    "# investigating negative correlation\n",
    "threshold = -0.6\n",
    "for i in range(len(corr.columns)):\n",
    "    for j in range(i):\n",
    "        if (corr.iloc[i, j] <= threshold):\n",
    "            print(corr.columns[i], corr.columns[j], corr.iloc[i, j])"
   ]
  },
  {
   "cell_type": "code",
   "execution_count": 2428,
   "metadata": {},
   "outputs": [
    {
     "name": "stdout",
     "output_type": "stream",
     "text": [
      "('album', 'listens') ('album', 'comments') 0.5237694850080699\n",
      "('album', 'listens') ('album', 'favorites') 0.5736968534906329\n",
      "('artist', 'favorites') ('artist', 'comments') 0.9080624795232408\n",
      "('track', 'favorites') ('track', 'comments') 0.5699743395360148\n",
      "('track', 'interest') ('track', 'comments') 0.5625378614681774\n",
      "('track', 'interest') ('track', 'favorites') 0.8309030328748889\n",
      "('track', 'listens') ('track', 'favorites') 0.8302278182760793\n",
      "('track', 'listens') ('track', 'interest') 0.8193722868706852\n",
      "('track', 'number') ('album', 'tracks') 0.529412354755565\n"
     ]
    }
   ],
   "source": [
    "# investigating positive correlation\n",
    "threshold = 0.5\n",
    "for i in range(len(corr.columns)):\n",
    "    for j in range(i):\n",
    "        if (corr.iloc[i, j] >= threshold):\n",
    "            print(corr.columns[i], corr.columns[j], corr.iloc[i, j])"
   ]
  },
  {
   "cell_type": "markdown",
   "metadata": {},
   "source": [
    "From the Pearson Correlation Matrix we detected some medium to hight positive correlated features, as well as some confirm of our data understanding assumptions and constrains (<b><font color=\"red\">Please note that, since the imputation is not yet done, correlation among features may still change.</font></b>).\n",
    "\n",
    "**Keep**: \n",
    "- ('album', 'favorites');\n",
    "- ('artist', 'favorites'); \n",
    "- ('track', 'bit_rate'), ('track', 'duration'), ('track', 'listens'), ('track', 'date_created_year');\n",
    "\n",
    "**Drop**: \n",
    "- ('track', 'interest'), ('track', 'favorites')  => ('track', 'listens');\n",
    "- ('artist', 'comments') => ('artist', 'favorites').\n",
    "\n",
    "**Not sure to keep**:*\n",
    "- ('album', 'listens'), (album, comments);\n",
    "- ('track', 'comments').\n",
    "\n",
    "\n",
    "*they have a moderate positive correlation with ('album', 'favorites') and ('album', 'listens') and ('track', 'favorites') and ('track', 'interest'), respectivelly (r~=0.50). In addition we are doubtful about ('album', 'listens')'s semantic (we interpret it as tracks' playcount sum, which in most cases isn't true) and in general about comments features, which not always convay an audiance's appreciation idea.\n",
    "\n",
    "N.B.: we detected that ('album', 'tracks')  and('track', 'number') are biased.\n",
    "\n",
    "We can get rid also of ('artist',  'latitude') and ('artist', 'longitude'), since we discovered that they have too many missing values."
   ]
  },
  {
   "cell_type": "markdown",
   "metadata": {},
   "source": [
    "<h6> Track bit-rate insight </h6>"
   ]
  },
  {
   "cell_type": "code",
   "execution_count": 2300,
   "metadata": {},
   "outputs": [
    {
     "data": {
      "image/png": "[encoded data removed]",
      "text/plain": [
       "<Figure size 432x288 with 1 Axes>"
      ]
     },
     "metadata": {
      "needs_background": "light"
     },
     "output_type": "display_data"
    }
   ],
   "source": [
    "sns_boxplot_ordered_by_mean(tracks, ('track', 'genre_top'), ('track', 'bit_rate'), \"Tracks' top genre bit-rate distribution\", False)"
   ]
  },
  {
   "cell_type": "code",
   "execution_count": 2261,
   "metadata": {},
   "outputs": [
    {
     "name": "stdout",
     "output_type": "stream",
     "text": [
      "Hip-Hop min=24000 max=321966 mean=279045.3018018018 std=65532.39094324407 median=320000.0\n",
      "Pop min=-1 max=323488 mean=246443.30703259006 std=73395.45123371207 median=256000.0\n",
      "Rock min=-1 max=448000 mean=253943.74136229022 std=59443.3940464669 median=256000.0\n",
      "Experimental min=-1 max=322892 mean=265434.06919306185 std=67695.1884336293 median=320000.0\n",
      "Folk min=-1 max=320047 mean=241453.59864430968 std=63765.1462226865 median=256000.0\n",
      "Jazz min=-1 max=320817 mean=239145.2819614711 std=67927.36798997073 median=256000.0\n",
      "Electronic min=-1 max=330042 mean=275473.8409090909 std=63060.35394390153 median=320000.0\n",
      "Spoken min=77666 max=320000 mean=220359.60756501183 std=63448.66649734342 median=192000.0\n",
      "International min=-1 max=320000 mean=245478.06623470123 std=62214.83856148678 median=256000.0\n",
      "Soul-RnB min=-1 max=320000 mean=253369.02285714285 std=54888.409428664185 median=256000.0\n",
      "Blues min=108521 max=320000 mean=232565.15454545454 std=63971.86379723117 median=256000.0\n",
      "Country min=128000 max=320000 mean=254019.24226804124 std=60086.73959664897 median=256000.0\n",
      "Classical min=64000 max=324221 mean=228045.15447154472 std=63010.743349788325 median=256000.0\n",
      "Old-Time / Historic min=32000 max=320000 mean=230194.94584837544 std=71887.2301754188 median=256000.0\n",
      "Instrumental min=32000 max=320191 mean=271068.3270803271 std=70900.63839240995 median=320000.0\n",
      "Easy Listening min=164806 max=320000 mean=259457.375 std=49204.74008256107 median=256000.0\n"
     ]
    }
   ],
   "source": [
    "df_described_based_upon_genres(('track', 'bit_rate'), tracks[('track', 'genre_top')].dropna().unique())"
   ]
  },
  {
   "cell_type": "code",
   "execution_count": 2262,
   "metadata": {},
   "outputs": [
    {
     "data": {
      "text/plain": [
       "105"
      ]
     },
     "execution_count": 2262,
     "metadata": {},
     "output_type": "execute_result"
    }
   ],
   "source": [
    "tracks[tracks[('track', 'bit_rate')] == -1].shape[0]"
   ]
  },
  {
   "cell_type": "code",
   "execution_count": 2291,
   "metadata": {},
   "outputs": [
    {
     "data": {
      "text/plain": [
       "1946"
      ]
     },
     "execution_count": 2291,
     "metadata": {},
     "output_type": "execute_result"
    }
   ],
   "source": [
    "tracks[(tracks[('track', 'bit_rate')] < 200000) & (tracks[('track', 'genre_top')] == \"Electronic\")].shape[0]"
   ]
  },
  {
   "cell_type": "code",
   "execution_count": 2292,
   "metadata": {},
   "outputs": [
    {
     "data": {
      "text/plain": [
       "727"
      ]
     },
     "execution_count": 2292,
     "metadata": {},
     "output_type": "execute_result"
    }
   ],
   "source": [
    "tracks[(tracks[('track', 'bit_rate')] < 200000) & (tracks[('track', 'genre_top')] == \"Hip-Hop\")].shape[0]"
   ]
  },
  {
   "cell_type": "code",
   "execution_count": 2293,
   "metadata": {},
   "outputs": [
    {
     "data": {
      "text/plain": [
       "472"
      ]
     },
     "execution_count": 2293,
     "metadata": {},
     "output_type": "execute_result"
    }
   ],
   "source": [
    "tracks[(tracks[('track', 'bit_rate')] < 200000) & (tracks[('track', 'genre_top')] == \"Classical\")].shape[0]"
   ]
  },
  {
   "cell_type": "markdown",
   "metadata": {},
   "source": [
    "All genres have a similar median bit_rate of 256.000. We detect some differences in:\n",
    "- Spoken having a smaller median bit_rate (192.000);\n",
    "- Hip-Hop, Experimetal, Electronic and Instrumental having a greater median bit_rate (320.000).\n",
    "\n",
    "We notice also that:\n",
    "- the most jumbled bit_rate genres are Pop, Old-Time / Historic and Instrumental (std~=70000); \n",
    "- the most stable bit_rate genres are Easy Listening and Soul-RnB (std~=50000). \n",
    "\n",
    "PREPROCESIING: <font color=red>From the lowest bit-rates values we can notice how the **('track', 'bit_rate')** column has **105 missing values**, expressed as **-1**. We detected also that 1.966 Electronic track, 727 Hip-Hop tracks and 427 Classical tracks have a bit-rate lower than 200.000, which is an anomalous behaviour </font> "
   ]
  },
  {
   "cell_type": "markdown",
   "metadata": {},
   "source": [
    "<h6> Track duration insight </h6>"
   ]
  },
  {
   "cell_type": "code",
   "execution_count": 2299,
   "metadata": {},
   "outputs": [
    {
     "data": {
      "image/png": "[encoded data removed]",
      "text/plain": [
       "<Figure size 432x288 with 1 Axes>"
      ]
     },
     "metadata": {
      "needs_background": "light"
     },
     "output_type": "display_data"
    }
   ],
   "source": [
    "sns_boxplot_ordered_by_mean(tracks, ('track', 'genre_top'), ('track', 'duration'), \"Tracks' top genre duration distribution\", False)"
   ]
  },
  {
   "cell_type": "code",
   "execution_count": 2265,
   "metadata": {},
   "outputs": [
    {
     "name": "stdout",
     "output_type": "stream",
     "text": [
      "Hip-Hop min=5 max=3672 mean=202.75957207207207 std=118.36532410546295 median=200.0\n",
      "Pop min=0 max=2511 mean=188.66166380789022 std=153.09818583406573 median=186.0\n",
      "Rock min=2 max=3675 mean=225.49710901142294 std=189.6491108137779 median=189.0\n",
      "Experimental min=1 max=3718 mean=362.6684577677225 std=390.91486116028665 median=256.0\n",
      "Folk min=4 max=3688 mean=230.93649661077416 std=187.33633322840737 median=206.0\n",
      "Jazz min=24 max=2940 mean=381.91943957968476 std=331.697638404608 median=307.0\n",
      "Electronic min=4 max=3714 mean=263.77069995731966 std=226.63249296466444 median=240.0\n",
      "Spoken min=5 max=3706 mean=590.8676122931442 std=897.728791134585 median=201.0\n",
      "International min=15 max=3667 mean=300.02375809935205 std=302.7215436810421 median=240.0\n",
      "Soul-RnB min=2 max=1557 mean=264.46285714285716 std=146.52035888060902 median=242.0\n",
      "Blues min=83 max=710 mean=258.05454545454546 std=108.8204342288469 median=234.0\n",
      "Country min=64 max=2058 mean=216.1701030927835 std=153.4265513733219 median=198.0\n",
      "Classical min=6 max=3716 mean=310.56747967479674 std=394.7873822915168 median=196.5\n",
      "Old-Time / Historic min=16 max=1355 mean=184.30324909747293 std=113.37706978599292 median=173.5\n",
      "Instrumental min=0 max=11030 mean=243.5103415103415 std=339.72187113073863 median=190.0\n",
      "Easy Listening min=137 max=960 mean=289.2916666666667 std=226.29405248129208 median=199.0\n"
     ]
    }
   ],
   "source": [
    "df_described_based_upon_genres(('track', 'duration'), tracks[('track', 'genre_top')].dropna().unique())"
   ]
  },
  {
   "cell_type": "code",
   "execution_count": 2275,
   "metadata": {},
   "outputs": [
    {
     "data": {
      "text/plain": [
       "16"
      ]
     },
     "execution_count": 2275,
     "metadata": {},
     "output_type": "execute_result"
    }
   ],
   "source": [
    "# 0 duration tracks\n",
    "tracks[tracks[('track', 'duration')] == 0].shape[0]"
   ]
  },
  {
   "cell_type": "code",
   "execution_count": 2269,
   "metadata": {},
   "outputs": [
    {
     "data": {
      "text/plain": [
       "2057"
      ]
     },
     "execution_count": 2269,
     "metadata": {},
     "output_type": "execute_result"
    }
   ],
   "source": [
    "# To obtain an official stream on Spotify the track music be played for at least 30 seconds\n",
    "# for a music creator to secure payment for a stream\n",
    "# https://www.prsformusic.com/m-magazine/features/song-length-the-spotify-effect/#:~:text=To%20obtain%20an%20official%20stream,ranking%20within%20a%20streaming%20platform.\n",
    "tracks[tracks[('track', 'duration')] < 30].shape[0]"
   ]
  },
  {
   "cell_type": "code",
   "execution_count": 2281,
   "metadata": {},
   "outputs": [
    {
     "data": {
      "text/plain": [
       "5938"
      ]
     },
     "execution_count": 2281,
     "metadata": {},
     "output_type": "execute_result"
    }
   ],
   "source": [
    "# if a track is longer than 10 minutes, in the iTunes Store it will only be available \n",
    "# to buy as a part of the whole album\n",
    "# https://itunespartner.apple.com/music/articles/rights-and-pricing_album-only\n",
    "tracks[tracks[('track', 'duration')] > 600].shape[0]"
   ]
  },
  {
   "cell_type": "markdown",
   "metadata": {},
   "source": [
    "According with tracks' duration we can state that:\n",
    "- Experimental and Jazz have the longuest tracks (median=256 and median=370);\n",
    "- Pop, Rock and Instrumental have the shortest tracks (median=186, median=189 and  median=190);\n",
    "- all other genres have a median duration between 196 and 242.\n",
    "\n",
    "PREPROCESSING: <font color=\"red\">16 Pop and Instrumental tracks have the duration set to 0 (biased tracks), 1 Instrumental track have a duration set to 11.030 seconds (183 minuted!), while in general songs mustn't have a duration lower than 30 seconds to obtain an official stream on Spotify and so to the previous Echonest (in our dataset we have 2.057 tracks which doesn't respect this). We have also 5.938 songs having a duration greated than 10 minutes. Officially, we didn't found any maximum duration constrained imposed by Spotify, but many music services like iTunes actually have one, so based on them we will remove these long, outlier tracks, too. This removal aims also to decrease the great standard deviantion that we observed among thracks belonging to the same music genre.</font>"
   ]
  },
  {
   "cell_type": "markdown",
   "metadata": {},
   "source": [
    "<h6>Track listens insight</h6>"
   ]
  },
  {
   "cell_type": "code",
   "execution_count": 2308,
   "metadata": {},
   "outputs": [
    {
     "data": {
      "image/png": "[encoded data removed]",
      "text/plain": [
       "<Figure size 432x288 with 1 Axes>"
      ]
     },
     "metadata": {
      "needs_background": "light"
     },
     "output_type": "display_data"
    }
   ],
   "source": [
    "sns_boxplot_ordered_by_mean(tracks, ('track', 'genre_top'), ('track', 'listens'), \"Tracks' top genre listens distribution\", False)"
   ]
  },
  {
   "cell_type": "code",
   "execution_count": 2288,
   "metadata": {},
   "outputs": [
    {
     "name": "stdout",
     "output_type": "stream",
     "text": [
      "Hip-Hop min=25 max=433992 mean=1671.9774774774776 std=8458.308936739784 median=686.0\n",
      "Pop min=23 max=79940 mean=1381.304459691252 std=3922.6219002365265 median=553.0\n",
      "Rock min=9 max=178139 mean=931.3711042166126 std=3085.775630798082 median=427.5\n",
      "Experimental min=1 max=119301 mean=560.8616138763198 std=2077.0270973220804 median=223.0\n",
      "Folk min=18 max=42250 mean=990.5319300749197 std=2150.845425956265 median=526.0\n",
      "Jazz min=74 max=143278 mean=3588.0875656742555 std=9012.978016290916 median=1271.0\n",
      "Electronic min=7 max=543252 mean=2224.9811139564663 std=8578.22286275248 median=841.0\n",
      "Spoken min=24 max=12150 mean=978.0898345153664 std=1359.7964116036496 median=429.0\n",
      "International min=21 max=86617 mean=3056.629229661627 std=6402.5217253705905 median=1275.0\n",
      "Soul-RnB min=129 max=43369 mean=4163.337142857143 std=6370.933893318763 median=2139.0\n",
      "Blues min=282 max=143301 mean=8508.727272727272 std=20408.858840079607 median=2439.0\n",
      "Country min=109 max=24571 mean=2453.8865979381444 std=3041.6280133391233 median=1393.5\n",
      "Classical min=68 max=197931 mean=5491.574796747967 std=12704.71752263857 median=2308.0\n",
      "Old-Time / Historic min=299 max=95940 mean=4016.9909747292418 std=7632.882255606156 median=1831.0\n",
      "Instrumental min=22 max=294602 mean=4255.745550745551 std=9192.909437238493 median=2475.0\n",
      "Easy Listening min=411 max=26207 mean=2283.7083333333335 std=5151.189465670225 median=1028.5\n"
     ]
    }
   ],
   "source": [
    "df_described_based_upon_genres(('track', 'listens'), tracks[('track', 'genre_top')].dropna().unique())"
   ]
  },
  {
   "cell_type": "code",
   "execution_count": 2307,
   "metadata": {},
   "outputs": [
    {
     "data": {
      "text/plain": [
       "158"
      ]
     },
     "execution_count": 2307,
     "metadata": {},
     "output_type": "execute_result"
    }
   ],
   "source": [
    "tracks[tracks[('track', 'listens')] < 10].shape[0]"
   ]
  },
  {
   "cell_type": "code",
   "execution_count": 2310,
   "metadata": {},
   "outputs": [
    {
     "data": {
      "text/plain": [
       "array(['Experimental', nan, 'Rock', 'Electronic'], dtype=object)"
      ]
     },
     "execution_count": 2310,
     "metadata": {},
     "output_type": "execute_result"
    }
   ],
   "source": [
    "tracks[tracks[('track', 'listens')] < 10][('track', 'genre_top')].unique()"
   ]
  },
  {
   "cell_type": "code",
   "execution_count": 2309,
   "metadata": {},
   "outputs": [
    {
     "data": {
      "text/plain": [
       "16"
      ]
     },
     "execution_count": 2309,
     "metadata": {},
     "output_type": "execute_result"
    }
   ],
   "source": [
    "tracks[tracks[('track', 'listens')] > 250000].shape[0]"
   ]
  },
  {
   "cell_type": "code",
   "execution_count": 2311,
   "metadata": {},
   "outputs": [
    {
     "data": {
      "text/plain": [
       "array(['Hip-Hop', 'Electronic', 'Instrumental', nan], dtype=object)"
      ]
     },
     "execution_count": 2311,
     "metadata": {},
     "output_type": "execute_result"
    }
   ],
   "source": [
    "tracks[tracks[('track', 'listens')] > 250000][('track', 'genre_top')].unique()"
   ]
  },
  {
   "cell_type": "markdown",
   "metadata": {},
   "source": [
    "According to listens we found the following:\n",
    "- the most listened tracks are Blues, Classical, Soul-RnB and Instrumental (median~=2.000);\n",
    "- the less listened tracks are Experimental, Spoken, Folk,  Rock, Pop and Hip-Hop (median between 200 and 700)\n",
    "- all other genres have a median tracks' listens between 800 and 2.000.\n",
    "\n",
    "PREPROCESSING: <font color=\"red\">16 extreme listened tracks belonging to Hip-Hop, Electronic, Instrumental and NaN (more than 250.000 listens), 158 extreme listened tracks belonging to Rock, Electronic, Experimental and NaN (more than 250.000 listens) </font>"
   ]
  },
  {
   "cell_type": "markdown",
   "metadata": {},
   "source": [
    "<h6>Top genre album favorites</h6>"
   ]
  },
  {
   "cell_type": "code",
   "execution_count": 2436,
   "metadata": {},
   "outputs": [
    {
     "data": {
      "image/png": "[encoded data removed]",
      "text/plain": [
       "<Figure size 432x288 with 1 Axes>"
      ]
     },
     "metadata": {
      "needs_background": "light"
     },
     "output_type": "display_data"
    }
   ],
   "source": [
    "sns_boxplot_ordered_by_mean(tracks, ('track', 'genre_top'), ('album', 'favorites'), \"Albums' top genre favorites distribution\", False)"
   ]
  },
  {
   "cell_type": "code",
   "execution_count": 2425,
   "metadata": {},
   "outputs": [
    {
     "name": "stdout",
     "output_type": "stream",
     "text": [
      "Hip-Hop min=0 max=33 mean=1.1531531531531531 std=2.188310556892194 median=1.0\n",
      "Pop min=0 max=38 mean=1.7757289879931388 std=3.4469508072090207 median=0.0\n",
      "Rock min=0 max=29 mean=0.7232407276829784 std=1.6282950429594931 median=0.0\n",
      "Experimental min=0 max=18 mean=0.9064856711915535 std=1.75514526736997 median=0.0\n",
      "Folk min=0 max=23 mean=1.1972886193364252 std=2.4405785720643083 median=0.0\n",
      "Jazz min=0 max=37 mean=1.9106830122591945 std=4.395860260223563 median=1.0\n",
      "Electronic min=0 max=40 mean=1.190460947503201 std=2.314256115683725 median=0.0\n",
      "Spoken min=0 max=4 mean=0.4562647754137116 std=0.8071670932698555 median=0.0\n",
      "International min=0 max=23 mean=1.5435565154787616 std=3.0639926616826814 median=1.0\n",
      "Soul-RnB min=0 max=23 mean=2.7657142857142856 std=3.8725339099116285 median=2.0\n",
      "Blues min=0 max=14 mean=3.209090909090909 std=3.343061977612007 median=2.0\n",
      "Country min=0 max=6 mean=1.0051546391752577 std=1.305617288664723 median=0.0\n",
      "Classical min=0 max=39 mean=4.085365853658536 std=4.686600932850654 median=2.0\n",
      "Old-Time / Historic min=0 max=8 mean=1.227436823104693 std=1.9061824607731421 median=0.0\n",
      "Instrumental min=0 max=29 mean=2.429052429052429 std=4.2906486288270855 median=1.0\n",
      "Easy Listening min=0 max=5 mean=1.0416666666666667 std=1.4884823513044847 median=1.0\n"
     ]
    }
   ],
   "source": [
    "df_described_based_upon_genres(('album', 'favorites'), tracks[('track', 'genre_top')].dropna().unique())"
   ]
  },
  {
   "cell_type": "code",
   "execution_count": 2439,
   "metadata": {},
   "outputs": [
    {
     "data": {
      "text/plain": [
       "18"
      ]
     },
     "execution_count": 2439,
     "metadata": {},
     "output_type": "execute_result"
    }
   ],
   "source": [
    "len(tracks[tracks[('album', 'favorites')] >= 30][('album', 'id')].unique())"
   ]
  },
  {
   "cell_type": "markdown",
   "metadata": {},
   "source": [
    "According with album audiance's preference:\n",
    "- Soul-RnB, Blues and Classical have the greatest number of favorites (median=2);\n",
    "- Hip-Hop, Jazz, International, Instrumental and Easy Listening have a medium number of favorites (median=1);\n",
    "- Pop, Rock, Experimental, Folk, Electronic, Spoken, Country and Old-Time / Historic have the lowest number of favorites (median=0).\n",
    "\n",
    "PREPROCESSING: <font color=\"red\">18 albums have a number of favorites greater than 30 (which is a value quite high, since the majority of albums don't display any likeness).</font>"
   ]
  },
  {
   "cell_type": "markdown",
   "metadata": {},
   "source": [
    "<h6>Artist favorites insight</h6>"
   ]
  },
  {
   "cell_type": "code",
   "execution_count": 2324,
   "metadata": {},
   "outputs": [
    {
     "data": {
      "image/png": "[encoded data removed]",
      "text/plain": [
       "<Figure size 432x288 with 1 Axes>"
      ]
     },
     "metadata": {
      "needs_background": "light"
     },
     "output_type": "display_data"
    }
   ],
   "source": [
    "sns_boxplot_ordered_by_mean(tracks, ('track', 'genre_top'), ('artist', 'favorites'), \"Artists' top genre favorites distribution\", False)"
   ]
  },
  {
   "cell_type": "code",
   "execution_count": 2312,
   "metadata": {},
   "outputs": [
    {
     "name": "stdout",
     "output_type": "stream",
     "text": [
      "Hip-Hop min=0 max=117 mean=15.59009009009009 std=22.022895661253113 median=7.0\n",
      "Pop min=0 max=963 mean=21.920668953687823 std=83.55534987293129 median=4.0\n",
      "Rock min=0 max=788 mean=8.641799464109434 std=33.852722101585265 median=3.0\n",
      "Experimental min=0 max=788 mean=8.197209653092006 std=24.721073275301777 median=2.0\n",
      "Folk min=0 max=788 mean=24.622190510167677 std=60.90896338010782 median=4.0\n",
      "Jazz min=0 max=431 mean=14.97723292469352 std=53.353220590865725 median=4.0\n",
      "Electronic min=0 max=963 mean=18.936833119931713 std=66.45437720598316 median=5.0\n",
      "Spoken min=0 max=199 mean=7.264775413711584 std=13.24722497576178 median=3.0\n",
      "International min=0 max=431 mean=10.321094312455003 std=30.780701408594823 median=4.0\n",
      "Soul-RnB min=0 max=788 mean=83.59428571428572 std=196.61652674139296 median=16.0\n",
      "Blues min=0 max=788 mean=50.69090909090909 std=130.6869461662049 median=9.0\n",
      "Country min=0 max=788 mean=8.587628865979381 std=56.654073033099635 median=4.0\n",
      "Classical min=0 max=861 mean=43.72195121951219 std=97.86072577682195 median=14.0\n",
      "Old-Time / Historic min=0 max=69 mean=2.1299638989169676 std=8.184871436540108 median=0.0\n",
      "Instrumental min=0 max=963 mean=78.52717652717652 std=144.927900521699 median=13.0\n",
      "Easy Listening min=0 max=431 mean=42.666666666666664 std=111.19456769131291 median=9.0\n"
     ]
    }
   ],
   "source": [
    "df_described_based_upon_genres(('artist', 'favorites'), tracks[('track', 'genre_top')].dropna().unique())"
   ]
  },
  {
   "cell_type": "code",
   "execution_count": 2323,
   "metadata": {},
   "outputs": [
    {
     "data": {
      "text/plain": [
       "9"
      ]
     },
     "execution_count": 2323,
     "metadata": {},
     "output_type": "execute_result"
    }
   ],
   "source": [
    "len(tracks[tracks[('artist', 'favorites')] > 350][('artist', 'id')].unique())"
   ]
  },
  {
   "cell_type": "markdown",
   "metadata": {},
   "source": [
    "According to clients'preference:\n",
    "- Blues, Easy Listening, Instrumental, Classical and Soul-RnB artists are the most favourited (median between 9 and 16);\n",
    "- Old-Time / Historic, Experimental, Rock and Spoken artists are the list favourited (median between 0 and 3);\n",
    "- all the other genres have a median artists' favourite between 4 and 7.\n",
    "\n",
    "PREPROCESSING: <font color=\"red\">9 artist are enourmously liked (more than 350 favourites) </font>"
   ]
  },
  {
   "cell_type": "markdown",
   "metadata": {},
   "source": [
    "<h6>Tracks' years</h6> "
   ]
  },
  {
   "cell_type": "code",
   "execution_count": 2260,
   "metadata": {},
   "outputs": [
    {
     "data": {
      "image/png": "[encoded data removed]",
      "text/plain": [
       "<Figure size 432x288 with 1 Axes>"
      ]
     },
     "metadata": {
      "needs_background": "light"
     },
     "output_type": "display_data"
    }
   ],
   "source": [
    "sns_boxplot_ordered_by_mean(tracks, ('track', 'genre_top'), ('track', 'date_created_year'), \"Years' top genre distribution\", True)"
   ]
  },
  {
   "cell_type": "code",
   "execution_count": 2259,
   "metadata": {},
   "outputs": [
    {
     "name": "stdout",
     "output_type": "stream",
     "text": [
      "Hip-Hop min=2008 max=2017 mean=2012.6097972972973 std=2.4115545485189984 median=2013.0\n",
      "Pop min=2008 max=2017 mean=2012.5222984562606 std=2.488742606192471 median=2012.0\n",
      "Rock min=2008 max=2017 mean=2011.9432379072064 std=2.6214429126825434 median=2012.0\n",
      "Experimental min=2008 max=2017 mean=2012.3075980392157 std=2.4330636988711354 median=2012.0\n",
      "Folk min=2008 max=2017 mean=2012.1912236889048 std=2.785804749500005 median=2012.0\n",
      "Jazz min=2008 max=2017 mean=2010.8108581436077 std=2.1388522416053912 median=2010.0\n",
      "Electronic min=2008 max=2017 mean=2012.3854033290654 std=2.5461679454476918 median=2012.0\n",
      "Spoken min=2008 max=2016 mean=2011.3049645390072 std=2.671447933746915 median=2011.0\n",
      "International min=2008 max=2017 mean=2012.334053275738 std=2.57831223978115 median=2012.0\n",
      "Soul-RnB min=2008 max=2016 mean=2011.5314285714285 std=2.6841136969695336 median=2012.0\n",
      "Blues min=2008 max=2016 mean=2010.581818181818 std=2.734025557023082 median=2009.0\n",
      "Country min=2008 max=2016 mean=2011.778350515464 std=3.0568610268774425 median=2012.0\n",
      "Classical min=2009 max=2017 mean=2011.8756097560977 std=2.006492369664613 median=2012.0\n",
      "Old-Time / Historic min=2009 max=2016 mean=2010.8935018050543 std=2.565847683248456 median=2009.0\n",
      "Instrumental min=2009 max=2017 mean=2013.6974506974507 std=2.2945615588184074 median=2015.0\n",
      "Easy Listening min=2009 max=2016 mean=2013.1666666666667 std=2.2393063108076987 median=2013.0\n"
     ]
    }
   ],
   "source": [
    "df_described_based_upon_genres(('track', 'date_created_year'), tracks[('track', 'genre_top')].dropna().unique())"
   ]
  },
  {
   "cell_type": "markdown",
   "metadata": {},
   "source": [
    "Year creation differences:\n",
    "- Classical, Old-Time / Historic, Instrumental and Easy Listening aren't present in 2008;\n",
    "- Spoken, Soul-RnB, Blues, Country, Old-Time / Historic and Easy Listening aren't present after 2016;\n",
    "- Jazz and Old-Time / Historic have the most distant in time tracks (median=2009 and median=2009);\n",
    "- Blues and Spoken,..., Hip-Hop and Easy Listening (median=2010, median=2011,..., median=2013, median=2013) have quite realted in time tracks;\n",
    "- Instrumental has the most recent tracks (median=2015)\n",
    "\n",
    "with ...= all other genres and ...'s median=2012.\n",
    "\n",
    "We detect some extreme recet outlier tracks for Jazz and Classical."
   ]
  },
  {
   "cell_type": "markdown",
   "metadata": {},
   "source": [
    "<h6> Categorical features </h6>"
   ]
  },
  {
   "cell_type": "markdown",
   "metadata": {},
   "source": [
    "<h6>Album type insight</h6>"
   ]
  },
  {
   "cell_type": "code",
   "execution_count": 2516,
   "metadata": {},
   "outputs": [],
   "source": [
    "def sns_hued_barplot(outside_df, column_name, nan_flag, log_flag, rotation_flag):\n",
    "    fig, ax = plt.subplots(figsize=(16, 8))\n",
    "    column_name_count = (outside_df, column_name[0], column_name[1] + \"_count\")\n",
    "    df = get_column_insight_based_on_genres(column_name, nan_flag)\n",
    "    sns.barplot(x=column_name, y=column_name_count, hue=('track', 'genre_top'), data=df, palette=\"tab10\")\n",
    "    if log_flag: \n",
    "        plt.yscale(\"log\")\n",
    "    if rotation_flag:                                \n",
    "        plt.xticks(rotation=90)\n",
    "    plt.show()"
   ]
  },
  {
   "cell_type": "code",
   "execution_count": 2478,
   "metadata": {},
   "outputs": [],
   "source": [
    "def get_empty_genres_dict(outside_df, nan_flag):\n",
    "    empty_dict = {}\n",
    "    genres = list(outside_df[('track', 'genre_top')].unique())\n",
    "    for g in genres:\n",
    "        if str(g) == \"nan\":\n",
    "            if nan_flag == False:\n",
    "                continue\n",
    "        empty_dict[str(g)] = 0\n",
    "    return empty_dict"
   ]
  },
  {
   "cell_type": "code",
   "execution_count": 2537,
   "metadata": {},
   "outputs": [],
   "source": [
    "def get_column_insight_based_on_genres(outside_df, column_name, nan_flag):\n",
    "    \"\"\"\n",
    "        Return a DataFrame, having 3 columns:\n",
    "        1. column_name\n",
    "        2. ('track', 'genre_top')\n",
    "        3. (column_name[0], column_name[1] + \"_count\")\n",
    "        and rows as many as all the combinations among column_name's and ('track', 'genre_top')'s\n",
    "        unique values.\n",
    "    \"\"\"\n",
    "    hue = ('track', 'genre_top')\n",
    "    column_name_count = (column_name[0], column_name[1] + \"_count\")\n",
    "    genres_insight = {}\n",
    "    column_dict = Counter(outside_df[column_name])\n",
    "    if nan_flag == False:\n",
    "        del column_dict[np.nan]\n",
    "\n",
    "    # intialize dict with column_name\n",
    "    for value in column_dict.keys():\n",
    "        genres_insight[str(value)] = get_empty_genres_dict(outside_df, nan_flag)\n",
    "        if nan_flag == False:\n",
    "            del tmp_dict2[np.nan]\n",
    "\n",
    "    for key in genres_insight.keys():\n",
    "        if str(key) == \"nan\":\n",
    "            hue_dict = Counter(outside_df[(tracks[column_name].isna())][hue])\n",
    "        else:\n",
    "            hue_dict = Counter(outside_df[(tracks[column_name] == key)][hue])\n",
    "        if nan_flag == False:\n",
    "            del hue_dict[np.nan]\n",
    "        for k, v in hue_dict.items():\n",
    "            genres_insight[str(key)][str(k)] = v\n",
    "            \n",
    "    # create DataFrame\n",
    "    column_name_column = []\n",
    "    hue_column = []\n",
    "    count_column = []\n",
    "    for key, value in genres_insight.items():\n",
    "        tmp_key_values = [key]*len(value)\n",
    "        column_name_column = column_name_column + tmp_key_values\n",
    "        for k, v in value.items():\n",
    "            hue_column.append(k)\n",
    "            count_column.append(v)\n",
    "\n",
    "    df = pd.DataFrame()\n",
    "    df[column_name] = column_name_column\n",
    "    df[hue] = hue_column\n",
    "    df[column_name_count] = count_column\n",
    "    return df"
   ]
  },
  {
   "cell_type": "code",
   "execution_count": 2539,
   "metadata": {},
   "outputs": [
    {
     "data": {
      "image/png": "[encoded data removed]",
      "text/plain": [
       "<Figure size 1152x576 with 1 Axes>"
      ]
     },
     "metadata": {
      "needs_background": "light"
     },
     "output_type": "display_data"
    }
   ],
   "source": [
    "sns_hued_barplot(tracks, ('album', 'type'), True, True, True)"
   ]
  },
  {
   "cell_type": "code",
   "execution_count": 2543,
   "metadata": {},
   "outputs": [
    {
     "data": {
      "image/png": "[encoded data removed]",
      "text/plain": [
       "<Figure size 1152x576 with 1 Axes>"
      ]
     },
     "metadata": {
      "needs_background": "light"
     },
     "output_type": "display_data"
    }
   ],
   "source": [
    "sns_hued_barplot(tracks, ('track', 'date_created_season'), True, True, True)"
   ]
  },
  {
   "cell_type": "markdown",
   "metadata": {},
   "source": [
    "<font color=\"indigo\"><h6>('track', 'genre_top') imputation</h6></font>"
   ]
  },
  {
   "cell_type": "code",
   "execution_count": 2550,
   "metadata": {},
   "outputs": [
    {
     "data": {
      "text/plain": [
       "2388"
      ]
     },
     "execution_count": 2550,
     "metadata": {},
     "output_type": "execute_result"
    }
   ],
   "source": [
    "len(tracks[('album', 'tags')].unique())"
   ]
  },
  {
   "cell_type": "code",
   "execution_count": 2551,
   "metadata": {},
   "outputs": [
    {
     "data": {
      "text/plain": [
       "15660"
      ]
     },
     "execution_count": 2551,
     "metadata": {},
     "output_type": "execute_result"
    }
   ],
   "source": [
    "len(tracks[('artist', 'tags')].unique())"
   ]
  },
  {
   "cell_type": "code",
   "execution_count": 2552,
   "metadata": {},
   "outputs": [
    {
     "data": {
      "text/plain": [
       "2451"
      ]
     },
     "execution_count": 2552,
     "metadata": {},
     "output_type": "execute_result"
    }
   ],
   "source": [
    "len(tracks[('track', 'tags')].unique())"
   ]
  },
  {
   "cell_type": "code",
   "execution_count": 2572,
   "metadata": {},
   "outputs": [],
   "source": [
    "from sklearn.impute import KNNImputer\n",
    "\n",
    "important_features = [ ('album', 'favorites'), \n",
    "                       ('artist', 'favorites'),\n",
    "                       ('track', 'bit_rate'),\n",
    "                       ('track', 'duration'),\n",
    "                       ('track', 'listens'),\n",
    "                       ('track', 'date_created_year'),\n",
    "                       ('track', 'date_created_season'),\n",
    "                       ('track', 'genre_top')]\n",
    "\n",
    "cleanup_nums = {('track', 'genre_top'): {\"Rock\": 1,  \"Experimental\": 2,\n",
    "                            \"Electronic\": 3, \"Hip-Hop\": 4, \n",
    "                            \"Pop\": 5, \"Folk\": 6, \"Jazz\": 7, \"Spoken\": 8, \n",
    "                            \"International\": 9, \"Soul-RnB\": 10, \"Blues\": 11, \n",
    "                            \"Country\": 12, \"Classical\": 13, \"Old-Time / Historic\": 14,\n",
    "                            \"Instrumental\": 15, \"Easy Listening\": 16},\n",
    "               ('track', 'date_created_season'): {\"Spring\": 1, \"Summer\": 2, \"Autumn\": 3, \"Winter\": 4}\n",
    "               }\n",
    "\n",
    "df_copy = tracks.copy()\n",
    "X = df_copy[important_features]\n",
    "X = X.replace(cleanup_nums)\n",
    "# X = normalize_df(X, \"min_max\")\n",
    "imputer = KNNImputer(n_neighbors=2)\n",
    "new_X = imputer.fit_transform(X)"
   ]
  },
  {
   "cell_type": "code",
   "execution_count": 2575,
   "metadata": {},
   "outputs": [],
   "source": [
    "df = pd.DataFrame(new_X, columns=X.columns)"
   ]
  },
  {
   "cell_type": "code",
   "execution_count": 2586,
   "metadata": {},
   "outputs": [
    {
     "data": {
      "image/png": "[encoded data removed]",
      "text/plain": [
       "<Figure size 432x288 with 1 Axes>"
      ]
     },
     "metadata": {
      "needs_background": "light"
     },
     "output_type": "display_data"
    }
   ],
   "source": [
    "fig, ax = plt.subplots()\n",
    "sns.histplot(x=('track', 'genre_top'), data=df)\n",
    "# plt.yscale(\"log\")\n",
    "# ax.set_xticklabels(cleanup_nums[('track', 'genre_top')].keys())\n",
    "plt.xticks(range(1, 17),rotation=90)\n",
    "plt.show()"
   ]
  },
  {
   "cell_type": "markdown",
   "metadata": {},
   "source": [
    "<h2>Echonest features </h2>\n",
    "\n",
    "For **13,129 tracks**, we have 2 pools of audio and temporal features (**93,445 tracks** apparently don't have them):\n",
    "\n",
    "- **audio_features**:\n",
    "    1. acousticness\n",
    "    2. danceability\n",
    "    3. energy\n",
    "    4. instrumentalness\t\n",
    "    5. liveness\t\n",
    "    6. speechiness\t\n",
    "    7. tempo\n",
    "    8. valence    \n",
    "\n",
    "- **temporal_features**:\n",
    "    1. '000'\n",
    "    ... \n",
    "    \n",
    "    223. '223'\n",
    "    \n",
    "<font color=red> Our main problem in using the audio feature is however that only **12.32%** of tracks share this info. Among our main genre_top tracks we also notice a high imbalance, due to the fact that we have audio features only for:\n",
    "- 3892 Rock  (27.44%)\n",
    "- 17 Experimental (0.16%)\n",
    "- 2170 Electronic  (23.15%)\n",
    "\n",
    "</font>"
   ]
  },
  {
   "cell_type": "code",
   "execution_count": null,
   "metadata": {},
   "outputs": [],
   "source": [
    "echonestData = pd.read_csv('../../data/fma_metadata/echonest.csv',index_col=0, header=[0, 1, 2])\n",
    "echonestData.shape"
   ]
  },
  {
   "cell_type": "code",
   "execution_count": null,
   "metadata": {},
   "outputs": [],
   "source": [
    "echonestData.head().T"
   ]
  },
  {
   "cell_type": "code",
   "execution_count": null,
   "metadata": {},
   "outputs": [],
   "source": [
    "audioFeatures = echonestData['echonest']['audio_features']\n",
    "audioFeatures.head()"
   ]
  },
  {
   "cell_type": "markdown",
   "metadata": {},
   "source": [
    "<h6>Checking how many tracks haven't audio features in the whole dataset</h6>"
   ]
  },
  {
   "cell_type": "code",
   "execution_count": null,
   "metadata": {},
   "outputs": [],
   "source": [
    "tracks_ids = list(tracks.index.values)\n",
    "echonest_ids = list(audioFeatures.index.values)\n",
    "print(len(set(tracks_ids).difference(set(echonest_ids))))"
   ]
  },
  {
   "cell_type": "markdown",
   "metadata": {},
   "source": [
    "<h6>Checking genre_top distribution among audio features</h6>"
   ]
  },
  {
   "cell_type": "code",
   "execution_count": null,
   "metadata": {},
   "outputs": [],
   "source": [
    "audioFeaturesTotalSet=audioFeatures.merge(tracks, left_index=True, right_index=True, how='inner')\n",
    "audioFeaturesTotalSet.shape"
   ]
  },
  {
   "cell_type": "code",
   "execution_count": null,
   "metadata": {},
   "outputs": [],
   "source": [
    "audioFeaturesTotalSet[[('track', 'genre_top')]].apply(pd.value_counts).plot(kind='bar', legend=False, title=\"Tracks with audio features top genre\")\n",
    "plt.show()"
   ]
  },
  {
   "cell_type": "code",
   "execution_count": null,
   "metadata": {},
   "outputs": [],
   "source": [
    "top_genres = [\"Rock\", \"Experimental\", \"Electronic\"]\n",
    "for genre_top in top_genres:\n",
    "    print(genre_top, audioFeaturesTotalSet[audioFeaturesTotalSet[('track', 'genre_top')] == genre_top].shape[0],\n",
    "     str((audioFeaturesTotalSet[audioFeaturesTotalSet[('track', 'genre_top')] == genre_top].shape[0] /\n",
    "       tracks[tracks[('track', 'genre_top')] == genre_top].shape[0])*100) + \"%\")"
   ]
  },
  {
   "cell_type": "markdown",
   "metadata": {},
   "source": [
    "We discover that only **Rock** and **Electronic** tracks have audio features (Experimental tracks are almost deprived about the info). "
   ]
  },
  {
   "cell_type": "markdown",
   "metadata": {},
   "source": [
    "<h6>Checking if exist differences among Rock, Experimental and Electronic tracks</h6>"
   ]
  },
  {
   "cell_type": "code",
   "execution_count": null,
   "metadata": {},
   "outputs": [],
   "source": [
    "def plotTopGenreFeatures(df, genreTitle, colour):\n",
    "    features = [np.median(df['acousticness'][df[('track', 'genre_top')] == genreTitle]), \n",
    "              np.median(df['danceability'][df[('track', 'genre_top')] == genreTitle]),\n",
    "              np.median(df['energy'][df[('track', 'genre_top')] == genreTitle]),\n",
    "              np.mean(df['instrumentalness'][df[('track', 'genre_top')] == genreTitle]),\n",
    "              np.median(df['liveness'][df[('track', 'genre_top')] == genreTitle]),\n",
    "              np.median(df['speechiness'][df[('track', 'genre_top')] == genreTitle]),\n",
    "              np.median(df['tempo'][df[('track', 'genre_top')] == genreTitle]),\n",
    "              np.median(df['valence'][df[('track', 'genre_top')] == genreTitle])]\n",
    "    features[-2] = features[-2]/251\n",
    "    features[-3] = features[-3] * 4\n",
    "    features += features[:1]\n",
    "    ax.plot(angles, features, color=colour, linewidth = 1, label = genreTitle)\n",
    "    ax.fill(angles, features, color=colour, alpha = 0.25)"
   ]
  },
  {
   "cell_type": "code",
   "execution_count": null,
   "metadata": {},
   "outputs": [],
   "source": [
    "tracks_top = tracks[(tracks[('track', 'genre_top')] == 'Electronic') |\n",
    "                    (tracks[('track', 'genre_top')] == 'Experimental') |\n",
    "                    (tracks[('track', 'genre_top')] == 'Rock')]\n",
    "tracks_top.shape"
   ]
  },
  {
   "cell_type": "code",
   "execution_count": null,
   "metadata": {},
   "outputs": [],
   "source": [
    "audioFeaturesSetA=audioFeatures.merge(tracks_top, left_index=True, right_index=True, how='inner')\n",
    "audioFeaturesSetA.shape"
   ]
  },
  {
   "cell_type": "code",
   "execution_count": null,
   "metadata": {},
   "outputs": [],
   "source": [
    "num_vars=len(labels)\n",
    "angles = np.linspace(0, 2 * np.pi, num_vars, endpoint=False).tolist()\n",
    "angles += angles[:1]\n",
    "\n",
    "fig, ax = plt.subplots(figsize=(6, 6), subplot_kw=dict(polar=True))\n",
    "\n",
    "plotTopGenreFeatures(audioFeaturesSetA, 'Electronic','green')\n",
    "plotTopGenreFeatures(audioFeaturesSetA, 'Experimental','blue')\n",
    "plotTopGenreFeatures(audioFeaturesSetA, 'Rock','red')\n",
    "\n",
    "ax.set_theta_offset(np.pi / 2)\n",
    "ax.set_theta_direction(-1)\n",
    "ax.set_thetagrids(np.degrees(angles), labels)\n",
    "\n",
    "for label, angle in zip(ax.get_xticklabels(), angles):\n",
    "  if angle in (0, np.pi):\n",
    "    label.set_horizontalalignment('center')\n",
    "  elif 0 < angle < np.pi:\n",
    "    label.set_horizontalalignment('left')\n",
    "  else:\n",
    "    label.set_horizontalalignment('right')\n",
    "\n",
    "ax.set_ylim(0, 1)\n",
    "ax.set_rlabel_position(180 / num_vars)\n",
    "ax.set_title('Genres and features')\n",
    "ax.legend(loc='lower center')\n",
    "plt.show()"
   ]
  },
  {
   "cell_type": "markdown",
   "metadata": {},
   "source": [
    "From the above radar plot we can notice that:\n",
    "\n",
    "- **Experimental** music is defined by greater **valence** and **acousticness** values;\n",
    "- **Electronic** and **Rock** music have almost overlllaping audio feature, with slighter higher **acousticness** value for **Rock** and higher **danceability, instrumentalness** and **speechiness** values for **Electronic**."
   ]
  },
  {
   "cell_type": "markdown",
   "metadata": {},
   "source": [
    "<h6>Checking if exist differences among Rock, Experimental, Electronic and Other tracks</h6>"
   ]
  },
  {
   "cell_type": "code",
   "execution_count": null,
   "metadata": {},
   "outputs": [],
   "source": [
    "tracks_four = tracks[~(tracks[('track', 'genre_top')].isna())]\n",
    "tracks_four.shape"
   ]
  },
  {
   "cell_type": "code",
   "execution_count": null,
   "metadata": {},
   "outputs": [],
   "source": [
    "# replacing all genre_top with \"Other\" if not belonging to Electronic, Experimental, Rock\n",
    "genre_top_map = {}\n",
    "genre_tops = list(tracks[('track', 'genre_top')].unique())\n",
    "for genre_top in genre_tops:\n",
    "    if str(genre_top) == \"nan\":\n",
    "        continue\n",
    "    if str(genre_top) == \"Electronic\" or str(genre_top) == \"Experimental\" or str(genre_top) == \"Rock\":\n",
    "        genre_top_map[str(genre_top)] = genre_top\n",
    "    else:\n",
    "         genre_top_map[str(genre_top)] = \"Other\"\n",
    "tracks_four[('track', 'genre_top')] = tracks_four[('track', 'genre_top')].map(genre_top_map)\n",
    "tracks_four[('track', 'genre_top')].unique()"
   ]
  },
  {
   "cell_type": "code",
   "execution_count": null,
   "metadata": {},
   "outputs": [],
   "source": [
    "audioFeaturesSetB = audioFeatures.merge(tracks_four, left_index=True, right_index=True, how='inner')\n",
    "audioFeaturesSetB.shape"
   ]
  },
  {
   "cell_type": "code",
   "execution_count": null,
   "metadata": {},
   "outputs": [],
   "source": [
    "num_vars=len(labels)\n",
    "angles = np.linspace(0, 2 * np.pi, num_vars, endpoint=False).tolist()\n",
    "angles += angles[:1]\n",
    "\n",
    "fig, ax = plt.subplots(figsize=(6, 6), subplot_kw=dict(polar=True))\n",
    "\n",
    "plotTopGenreFeatures(audioFeaturesSetB, 'Electronic','green')\n",
    "plotTopGenreFeatures(audioFeaturesSetB, 'Experimental','blue')\n",
    "plotTopGenreFeatures(audioFeaturesSetB, 'Rock','red')\n",
    "plotTopGenreFeatures(audioFeaturesSetB, 'Other','yellow')\n",
    "\n",
    "ax.set_theta_offset(np.pi / 2)\n",
    "ax.set_theta_direction(-1)\n",
    "ax.set_thetagrids(np.degrees(angles), labels)\n",
    "\n",
    "for label, angle in zip(ax.get_xticklabels(), angles):\n",
    "  if angle in (0, np.pi):\n",
    "    label.set_horizontalalignment('center')\n",
    "  elif 0 < angle < np.pi:\n",
    "    label.set_horizontalalignment('left')\n",
    "  else:\n",
    "    label.set_horizontalalignment('right')\n",
    "\n",
    "ax.set_ylim(0, 1)\n",
    "ax.set_rlabel_position(180 / num_vars)\n",
    "ax.set_title('Genres and features')\n",
    "ax.legend(loc='lower center')\n",
    "plt.show()"
   ]
  },
  {
   "cell_type": "markdown",
   "metadata": {},
   "source": [
    "From the above radar plot we can notice that:\n",
    "\n",
    "- **Experimental** music is defined by greater **valence** and **acousticness** values;\n",
    "- **Electronic** and **Rock** music have almost overlllaping audio feature, with slighter higher **acousticness** value for **Rock** and higher **danceability, instrumentalness** and **speechiness** values for **Electronic**;\n",
    "- **Other** music has greater **acousticness** values and **skrinked other audio features**.\n",
    "\n",
    "We can finally notice how the <font color=red>audio features liveness, speechiness and tempo are the most overlapping </font> (and so probably the lest relevant features in the models' features selection process)."
   ]
  },
  {
   "cell_type": "markdown",
   "metadata": {},
   "source": [
    "<h2> Librosa features </h2> \n",
    "\n",
    "For each 106,572 tracks, we have 518 Librosa features, having the following cardinalities:\n",
    "\n",
    "1. **chroma_cens** = 12\n",
    "2. **chroma_cqt** = 12\n",
    "3. **chroma_stft** = 12\n",
    "4. **mfcc** = 20\n",
    "5. **rmse** = 1\n",
    "6. **spectral_bandwidth** = 1\n",
    "7. **spectral_centroid** = 1\n",
    "8. **spectral_contrast** = 7\n",
    "9. **spectral_rolloff** = 1\n",
    "10. **tonnetz** = 6\n",
    "11. **zcr** = 1\n",
    "\n",
    "and for each cardinality feature we have the following information:\n",
    "1. min = min feature's value;\n",
    "2. max = max feature's value;\n",
    "3. median = median feature's value;\n",
    "4. mean = avg feature's values;\n",
    "5. std = std feature's values;\n",
    "6. skew = feature's values asymmetry distribution\n",
    "7. kurtosis = feature's values tailedness distribution"
   ]
  },
  {
   "cell_type": "code",
   "execution_count": null,
   "metadata": {},
   "outputs": [],
   "source": [
    "librosaFeatures = pd.read_csv('../../data/fma_metadata/features.csv', index_col=0, header=[0, 1, 2])\n",
    "librosaFeatures.shape"
   ]
  },
  {
   "cell_type": "code",
   "execution_count": null,
   "metadata": {},
   "outputs": [],
   "source": [
    "librosaFeatures.head(2)"
   ]
  },
  {
   "cell_type": "code",
   "execution_count": null,
   "metadata": {},
   "outputs": [],
   "source": [
    "librosa_columns = {}\n",
    "librosa_columns_info = set()\n",
    "for c in librosaFeatures.columns:\n",
    "    librosa_columns_info.add(c[1])\n",
    "    try:\n",
    "        if librosa_columns[str(c[0])] < c[2]:\n",
    "            librosa_columns[str(c[0])] = c[2]\n",
    "    except KeyError:\n",
    "        librosa_columns[str(c[0])] = c[2]\n",
    "print(\"Librosa columns:\", librosa_columns)\n",
    "print(\"Librosa columns info:\", librosa_columns_info)"
   ]
  },
  {
   "cell_type": "markdown",
   "metadata": {},
   "source": [
    "<h6>Checking librosa features among Rock, Experimental and Electronic genre_top tracks</h6>"
   ]
  },
  {
   "cell_type": "code",
   "execution_count": null,
   "metadata": {},
   "outputs": [],
   "source": [
    "librosaSetA = librosaFeatures.merge(tracks_top, left_index=True, right_index=True, how='inner')\n",
    "librosaSetA.shape"
   ]
  },
  {
   "cell_type": "code",
   "execution_count": null,
   "metadata": {},
   "outputs": [],
   "source": [
    "top_genres = [\"Rock\", \"Experimental\", \"Electronic\"]\n",
    "for var in librosaSetA.columns:\n",
    "    if var[1] != \"mean\":\n",
    "        continue\n",
    "    for genre_top in top_genres:\n",
    "        sns.distplot(librosaSetA[librosaSetA[('track', 'genre_top')] == genre_top][var], kde=False, label=genre_top)\n",
    "    plt.ylabel(\"count\")\n",
    "    plt.legend()\n",
    "    plt.title(\"Genre_top's \" + var[0] + \" distribution\")\n",
    "    plt.show()"
   ]
  },
  {
   "cell_type": "markdown",
   "metadata": {},
   "source": [
    "From the above plots we can observe that the following librosa are so characterized:\n",
    "- all ('chroma_cens', 'mean', '*') are related to ('chroma_cens', 'mean', '01');\n",
    "- all ('chroma_cqt', 'mean', '*') are related to ('chroma_cqt', 'mean', '01');\n",
    "- all ('chroma_stft', 'mean', '*') are related to ('chroma_stft', 'mean', '01');\n",
    "- all ('mfcc', 'mean', '*') are different among them;\n",
    "- ('rmse', 'mean', '01') is unique in its kind;\n",
    "- ('spectral_bandwidth', 'mean', '01') is unique in its kind;\n",
    "- ('spectral_centroid', 'mean', '01') is unique in its kind;\n",
    "- ('spectral_rolloff', 'mean', '01') is unique in its kind;\n",
    "- ('spectral_contrast', 'mean', '01'), ('spectral_contrast', 'mean', '07') are unique in their kind, \n",
    "  all the other ('spectral_contrast', 'mean', '*') are related to ('spectral_contrast', 'mean', '02');\n",
    "- ('tonnetz', 'mean', '01') and ('tonnetz', 'mean', '02') are unique in their kind, all the other\n",
    "  ('tonnetz', 'mean', '*') are related to ('tonnetz', 'mean', '03');\n",
    "- ('zcr', 'mean', '01') is unique in it kind.\n",
    "\n",
    "Taking into account only the Rock, Experimental and Electronic as genre_top, we will need to use **34 librosa features** to discriminated among these music genres."
   ]
  },
  {
   "cell_type": "markdown",
   "metadata": {},
   "source": [
    "<h6>Checking librosa features among Rock, Experimental, Electronic and Other genre_top tracks</h6>"
   ]
  },
  {
   "cell_type": "code",
   "execution_count": null,
   "metadata": {},
   "outputs": [],
   "source": [
    "librosaSetB = librosaFeatures.merge(tracks_four, left_index=True, right_index=True, how='inner')\n",
    "librosaSetB.shape"
   ]
  },
  {
   "cell_type": "code",
   "execution_count": null,
   "metadata": {},
   "outputs": [],
   "source": [
    "librosaSetB[librosaSetB[('track', 'genre_top')] == \"Other\"][('zcr', 'mean', '01')]"
   ]
  },
  {
   "cell_type": "code",
   "execution_count": null,
   "metadata": {},
   "outputs": [],
   "source": [
    "plt.rcParams[\"patch.force_edgecolor\"] = True\n",
    "top_genres = [\"Rock\", \"Experimental\", \"Electronic\", \"Other\"]\n",
    "for var in librosaSetB.columns:\n",
    "    if var[1] != \"mean\":\n",
    "        continue\n",
    "    for genre_top in top_genres:\n",
    "        sns.distplot(librosaSetB[librosaSetB[('track', 'genre_top')] == genre_top][var], kde=False, label=genre_top)\n",
    "    plt.ylabel(\"count\")\n",
    "    plt.legend()\n",
    "    plt.title(\"Genre_top's \" + var[0] + \" distribution\")\n",
    "    plt.show()"
   ]
  },
  {
   "cell_type": "code",
   "execution_count": null,
   "metadata": {},
   "outputs": [],
   "source": [
    "plt.rcParams[\"patch.force_edgecolor\"] = True\n",
    "top_genres = [\"Rock\", \"Experimental\", \"Electronic\", \"Other\"]\n",
    "for var in librosaSetB.columns:\n",
    "    if var[1] != \"mean\":\n",
    "        continue\n",
    "    for genre_top in top_genres:\n",
    "        sns.kdeplot(librosaSetB[librosaSetB[('track', 'genre_top')] == genre_top][var], label=genre_top)\n",
    "    plt.ylabel(\"density\")\n",
    "    plt.legend()\n",
    "    plt.title(\"Genre_top's \" + var[0] + \" distribution\")\n",
    "    plt.show()"
   ]
  },
  {
   "cell_type": "markdown",
   "metadata": {},
   "source": [
    "TODO From the above plots we can observe that:"
   ]
  },
  {
   "cell_type": "markdown",
   "metadata": {},
   "source": [
    "<h2> Classification of genres based on few librosa features </h2>"
   ]
  },
  {
   "cell_type": "code",
   "execution_count": null,
   "metadata": {},
   "outputs": [],
   "source": [
    "main_librosa_columns = []\n",
    "main_librosa_columns_names = []\n",
    "for var in librosaFeatures.columns:\n",
    "    if var[1] == \"mean\":\n",
    "        main_librosa_columns.append(librosaFeatures[str(var[0])][str(var[1])][str(var[2])])\n",
    "        main_librosa_columns_names.append(str(var[0]) + \"_\" + str(var[2]))\n",
    "\n",
    "librosaMainFeatures=pd.concat(main_librosa_columns, axis=1)\n",
    "librosaMainFeatures.columns = main_librosa_columns_names  # rename DataFrame names\n",
    "librosaMainFeatures.shape"
   ]
  },
  {
   "cell_type": "code",
   "execution_count": null,
   "metadata": {},
   "outputs": [],
   "source": [
    "# merge librosa DataFrame with additional tracks info\n",
    "# TODO\n",
    "librosaMainFeatures = pd.concat([librosaMainFeatures, tracks[[('track', 'genre_top')]]], axis=1)\n",
    "librosaMainFeatures.shape"
   ]
  },
  {
   "cell_type": "code",
   "execution_count": null,
   "metadata": {},
   "outputs": [],
   "source": [
    "# TODO: remove this 'NaN' imputation\n",
    "\"\"\"cleanup_nums = {('track', 'genre_top'): {\"Rock\": \"Rock\",  \"Experimental\": \"Experimental\",\n",
    "                            \"Electronic\": \"Electronic\", \"NaN\": \"NaN\", \"Hip-Hop\": \"Other\", \n",
    "                            \"Pop\": \"Other\", \"Folk\": \"Other\", \"Jazz\": \"Other\", \"Spoken\": \"Other\", \n",
    "                            \"International\": \"Other\", \"Soul-RnB\": \"Other\", \"Blues\": \"Other\", \n",
    "                            \"Country\": \"Other\", \"Classical\": \"Other\", \"Old-Time / Historic\": \"Other\",\n",
    "                            \"Instrumental\": \"Other\", \"Easy Listening\": \"Other\"}}\"\"\"\n",
    "\n",
    "\n",
    "librosaMainFeatures = librosaMainFeatures.fillna(\"NaN\") \n",
    "cleanup_nums = {('track', 'genre_top'): {\"Rock\": 1,  \"Experimental\": 2,\n",
    "                            \"Electronic\": 3, \"NaN\": 4, \"Hip-Hop\": 4, \n",
    "                            \"Pop\": 4, \"Folk\": 4, \"Jazz\": 4, \"Spoken\": 4, \n",
    "                            \"International\": 4, \"Soul-RnB\": 4, \"Blues\": 4, \n",
    "                            \"Country\": 4, \"Classical\": 4, \"Old-Time / Historic\": 4,\n",
    "                            \"Instrumental\": 4, \"Easy Listening\": 4}}\n",
    "librosaMainFeatures = librosaMainFeatures.replace(cleanup_nums)"
   ]
  },
  {
   "cell_type": "code",
   "execution_count": null,
   "metadata": {},
   "outputs": [],
   "source": [
    "librosaMainFeatures[('track', 'genre_top')].unique()"
   ]
  },
  {
   "cell_type": "code",
   "execution_count": null,
   "metadata": {},
   "outputs": [],
   "source": [
    "x = librosaMainFeatures.drop([('track', 'genre_top')], axis=1)\n",
    "y = librosaMainFeatures[('track', 'genre_top')]"
   ]
  },
  {
   "cell_type": "code",
   "execution_count": null,
   "metadata": {},
   "outputs": [],
   "source": []
  },
  {
   "cell_type": "code",
   "execution_count": null,
   "metadata": {
    "id": "8YZBUAhA7H0c"
   },
   "outputs": [],
   "source": [
    "from sklearn.model_selection import train_test_split\n",
    "x_train,x_test,y_train,y_test=train_test_split(x,y,test_size=0.2,random_state=0)"
   ]
  },
  {
   "cell_type": "code",
   "execution_count": null,
   "metadata": {
    "id": "q3Vut5KG7aw0"
   },
   "outputs": [],
   "source": [
    "from sklearn.preprocessing import StandardScaler\n",
    "scaler = StandardScaler()\n",
    "x_train = scaler.fit_transform(x_train)\n",
    "x_test = scaler.transform(x_test)"
   ]
  },
  {
   "cell_type": "code",
   "execution_count": null,
   "metadata": {
    "colab": {
     "base_uri": "https://localhost:8080/",
     "height": 51
    },
    "id": "VSOWfxyi7dpT",
    "outputId": "a9443e2b-9ba8-40eb-f539-b2e982041087"
   },
   "outputs": [],
   "source": [
    "from sklearn.linear_model import LogisticRegression\n",
    "logreg = LogisticRegression()\n",
    "logreg.fit(x_train, y_train)\n",
    "y_pred = logreg.predict(x_test)\n",
    "print('Accuracy of logistic regression classifier on test set: {:.2f}'.format(logreg.score(x_test, y_test)))\n",
    "\n",
    "from sklearn.metrics import f1_score\n",
    "print('F1Score of Logistic Regression: ', f1_score(y_test, y_pred, average=\"macro\"))"
   ]
  },
  {
   "cell_type": "code",
   "execution_count": null,
   "metadata": {
    "colab": {
     "base_uri": "https://localhost:8080/",
     "height": 51
    },
    "id": "IfT_6vcT7jWx",
    "outputId": "1186afef-fb9a-4415-dc8a-03c269e1cc17"
   },
   "outputs": [],
   "source": [
    "from sklearn.ensemble import RandomForestClassifier\n",
    "model = RandomForestClassifier(n_estimators=300, bootstrap = True, max_features = 'sqrt')\n",
    "model.fit(x_train, y_train)\n",
    "y_pred = model.predict(x_test)\n",
    "print('Accuracy of Random Forest on test set: {:.2f}'.format(model.score(x_test, y_test)))\n",
    "print('F1Score of Random Forest classifier ',f1_score(y_test, y_pred, average=\"macro\"))"
   ]
  },
  {
   "cell_type": "code",
   "execution_count": null,
   "metadata": {
    "colab": {
     "base_uri": "https://localhost:8080/",
     "height": 350
    },
    "id": "5MVQIhVh77-3",
    "outputId": "40c647ad-e291-46e1-f10e-bea5ecfa540c"
   },
   "outputs": [],
   "source": [
    "importance=list(model.feature_importances_)\n",
    "allfeatures=librosaMainFeatures.drop(('track', 'genre_top'),axis=1)\n",
    "features=list(allfeatures.columns)\n",
    "fig = plt.figure(figsize = (20, 20)) \n",
    "plt.barh(features, importance, color ='grey') \n",
    "plt.title('Random Forest classifier-Feature importances')\n",
    "plt.xlabel(\"Features importance\") \n",
    "plt.ylabel(\"Audio features\") \n",
    "plt.show() "
   ]
  },
  {
   "cell_type": "code",
   "execution_count": null,
   "metadata": {
    "colab": {
     "base_uri": "https://localhost:8080/",
     "height": 350
    },
    "id": "S1I3vQiz9Gm4",
    "outputId": "2a817751-f49c-482d-c784-fa09e862a188"
   },
   "outputs": [],
   "source": [
    "zipped_lists=zip(importance,features)\n",
    "zipped_lists=list(sorted(zipped_lists))\n",
    "importanceSorted,featuresSorted = zip(*zipped_lists)\n",
    "fig = plt.figure(figsize = (20, 20)) \n",
    "plt.barh(list(featuresSorted), list(importanceSorted), color ='red') \n",
    "plt.title('Random Forest classifier-Feature importances (Sorted)')\n",
    "plt.ylabel(\"Feature importance\") \n",
    "plt.xlabel(\"Audio Features\") \n",
    "plt.show()"
   ]
  },
  {
   "cell_type": "markdown",
   "metadata": {},
   "source": [
    "<h6>Keeping only feature's mean 01 values (= 01 stands for song's beginning???) </h6> "
   ]
  },
  {
   "cell_type": "code",
   "execution_count": null,
   "metadata": {},
   "outputs": [],
   "source": [
    "librosaMainFeatures=pd.concat([librosaFeatures['chroma_cens']['mean']['01'],\\\n",
    "                               librosaFeatures['chroma_cqt']['mean']['01'],\\\n",
    "                               librosaFeatures['chroma_stft']['mean']['01'],\\\n",
    "                               librosaFeatures['mfcc']['mean']['01'], \\\n",
    "                               librosaFeatures['rmse']['mean']['01'], \\\n",
    "                               librosaFeatures['spectral_bandwidth']['mean']['01'],\\\n",
    "                               librosaFeatures['spectral_centroid']['mean']['01'], \\\n",
    "                               librosaFeatures['spectral_contrast']['mean']['01'],\\\n",
    "                               librosaFeatures['spectral_rolloff']['mean']['01'],\\\n",
    "                               librosaFeatures['tonnetz']['mean']['01'], \\\n",
    "                               librosaFeatures['zcr']['mean']['01']], axis=1,)\n",
    "librosaMainFeatures.shape"
   ]
  },
  {
   "cell_type": "code",
   "execution_count": null,
   "metadata": {},
   "outputs": [],
   "source": [
    "librosaMainFeatures.columns = list(librosa_columns.keys())"
   ]
  },
  {
   "cell_type": "code",
   "execution_count": null,
   "metadata": {},
   "outputs": [],
   "source": [
    "librosaMainFeatures.head().T"
   ]
  },
  {
   "cell_type": "code",
   "execution_count": null,
   "metadata": {},
   "outputs": [],
   "source": [
    "# merge librosa DataFrame with additional tracks info\n",
    "# TODO\n",
    "librosaMainFeatures = pd.concat([librosaMainFeatures, tracks[[('track', 'genre_top')]]], axis=1)\n",
    "librosaMainFeatures.shape"
   ]
  },
  {
   "cell_type": "code",
   "execution_count": null,
   "metadata": {},
   "outputs": [],
   "source": [
    "# TODO: remove this 'NaN' imputation\n",
    "\"\"\"cleanup_nums = {('track', 'genre_top'): {\"Rock\": \"Rock\",  \"Experimental\": \"Experimental\",\n",
    "                            \"Electronic\": \"Electronic\", \"NaN\": \"NaN\", \"Hip-Hop\": \"Other\", \n",
    "                            \"Pop\": \"Other\", \"Folk\": \"Other\", \"Jazz\": \"Other\", \"Spoken\": \"Other\", \n",
    "                            \"International\": \"Other\", \"Soul-RnB\": \"Other\", \"Blues\": \"Other\", \n",
    "                            \"Country\": \"Other\", \"Classical\": \"Other\", \"Old-Time / Historic\": \"Other\",\n",
    "                            \"Instrumental\": \"Other\", \"Easy Listening\": \"Other\"}}\"\"\"\n",
    "\n",
    "\n",
    "librosaMainFeatures = librosaMainFeatures.fillna(\"NaN\") \n",
    "cleanup_nums = {('track', 'genre_top'): {\"Rock\": 1,  \"Experimental\": 2,\n",
    "                            \"Electronic\": 3, \"NaN\": 4, \"Hip-Hop\": 4, \n",
    "                            \"Pop\": 4, \"Folk\": 4, \"Jazz\": 4, \"Spoken\": 4, \n",
    "                            \"International\": 4, \"Soul-RnB\": 4, \"Blues\": 4, \n",
    "                            \"Country\": 4, \"Classical\": 4, \"Old-Time / Historic\": 4,\n",
    "                            \"Instrumental\": 4, \"Easy Listening\": 4}}\n",
    "librosaMainFeatures = librosaMainFeatures.replace(cleanup_nums)"
   ]
  },
  {
   "cell_type": "code",
   "execution_count": null,
   "metadata": {},
   "outputs": [],
   "source": [
    "librosaMainFeatures[('track', 'genre_top')].unique()"
   ]
  },
  {
   "cell_type": "code",
   "execution_count": null,
   "metadata": {},
   "outputs": [],
   "source": [
    "x = librosaMainFeatures.drop([('track', 'genre_top')], axis=1)\n",
    "y = librosaMainFeatures[('track', 'genre_top')]"
   ]
  },
  {
   "cell_type": "code",
   "execution_count": null,
   "metadata": {},
   "outputs": [],
   "source": []
  },
  {
   "cell_type": "code",
   "execution_count": null,
   "metadata": {
    "id": "8YZBUAhA7H0c"
   },
   "outputs": [],
   "source": [
    "from sklearn.model_selection import train_test_split\n",
    "x_train,x_test,y_train,y_test=train_test_split(x,y,test_size=0.2,random_state=0)"
   ]
  },
  {
   "cell_type": "code",
   "execution_count": null,
   "metadata": {
    "id": "q3Vut5KG7aw0"
   },
   "outputs": [],
   "source": [
    "from sklearn.preprocessing import StandardScaler\n",
    "scaler = StandardScaler()\n",
    "x_train = scaler.fit_transform(x_train)\n",
    "x_test = scaler.transform(x_test)"
   ]
  },
  {
   "cell_type": "code",
   "execution_count": null,
   "metadata": {
    "colab": {
     "base_uri": "https://localhost:8080/",
     "height": 51
    },
    "id": "VSOWfxyi7dpT",
    "outputId": "a9443e2b-9ba8-40eb-f539-b2e982041087"
   },
   "outputs": [],
   "source": [
    "from sklearn.linear_model import LogisticRegression\n",
    "logreg = LogisticRegression()\n",
    "logreg.fit(x_train, y_train)\n",
    "y_pred = logreg.predict(x_test)\n",
    "print('Accuracy of logistic regression classifier on test set: {:.2f}'.format(logreg.score(x_test, y_test)))\n",
    "\n",
    "from sklearn.metrics import f1_score\n",
    "print('F1Score of Logistic Regression: ', f1_score(y_test, y_pred, average=\"macro\"))"
   ]
  },
  {
   "cell_type": "code",
   "execution_count": null,
   "metadata": {
    "colab": {
     "base_uri": "https://localhost:8080/",
     "height": 51
    },
    "id": "IfT_6vcT7jWx",
    "outputId": "1186afef-fb9a-4415-dc8a-03c269e1cc17"
   },
   "outputs": [],
   "source": [
    "from sklearn.ensemble import RandomForestClassifier\n",
    "model = RandomForestClassifier(n_estimators=300, bootstrap = True, max_features = 'sqrt')\n",
    "model.fit(x_train, y_train)\n",
    "y_pred = model.predict(x_test)\n",
    "print('Accuracy of Random Forest on test set: {:.2f}'.format(model.score(x_test, y_test)))\n",
    "print('F1Score of Random Forest classifier ',f1_score(y_test, y_pred, average=\"macro\"))"
   ]
  },
  {
   "cell_type": "code",
   "execution_count": null,
   "metadata": {
    "colab": {
     "base_uri": "https://localhost:8080/",
     "height": 350
    },
    "id": "5MVQIhVh77-3",
    "outputId": "40c647ad-e291-46e1-f10e-bea5ecfa540c"
   },
   "outputs": [],
   "source": [
    "importance=list(model.feature_importances_)\n",
    "allfeatures=librosaMainFeatures.drop(('track', 'genre_top'),axis=1)\n",
    "features=list(allfeatures.columns)\n",
    "fig = plt.figure(figsize = (20, 20)) \n",
    "plt.barh(features, importance, color ='grey') \n",
    "plt.title('Random Forest classifier-Feature importances')\n",
    "plt.xlabel(\"Features importance\") \n",
    "plt.ylabel(\"Audio features\") \n",
    "plt.show() "
   ]
  },
  {
   "cell_type": "code",
   "execution_count": null,
   "metadata": {
    "colab": {
     "base_uri": "https://localhost:8080/",
     "height": 350
    },
    "id": "S1I3vQiz9Gm4",
    "outputId": "2a817751-f49c-482d-c784-fa09e862a188"
   },
   "outputs": [],
   "source": [
    "zipped_lists=zip(importance,features)\n",
    "zipped_lists=list(sorted(zipped_lists))\n",
    "importanceSorted,featuresSorted = zip(*zipped_lists)\n",
    "fig = plt.figure(figsize = (20, 20)) \n",
    "plt.barh(list(featuresSorted), list(importanceSorted), color ='red') \n",
    "plt.title('Random Forest classifier-Feature importances (Sorted)')\n",
    "plt.ylabel(\"Feature importance\") \n",
    "plt.xlabel(\"Audio Features\") \n",
    "plt.show()"
   ]
  }
 ],
 "metadata": {
  "kernelspec": {
   "display_name": "Python 3",
   "language": "python",
   "name": "python3"
  },
  "language_info": {
   "codemirror_mode": {
    "name": "ipython",
    "version": 3
   },
   "file_extension": ".py",
   "mimetype": "text/x-python",
   "name": "python",
   "nbconvert_exporter": "python",
   "pygments_lexer": "ipython3",
   "version": "3.8.3"
  }
 },
 "nbformat": 4,
 "nbformat_minor": 4
}
