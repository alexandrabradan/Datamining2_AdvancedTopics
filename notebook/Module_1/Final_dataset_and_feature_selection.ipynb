{
 "cells": [
  {
   "cell_type": "markdown",
   "metadata": {},
   "source": [
    "<b>Data mining project - 2020/21</b><br>\n",
    "<b>Authors</b>: [Alexandra Bradan](https://github.com/alexandrabradan), [Alice Graziani](https://github.com/alicegraziani25) and [Eleonora Cocciu](https://github.com/eleonoracocciu)<br>\n",
    "<b>Python version</b>: 3.x<br>\n",
    "<b>Last update: 21/05/2021<b>"
   ]
  },
  {
   "cell_type": "code",
   "execution_count": 1,
   "metadata": {},
   "outputs": [],
   "source": [
    "import os\n",
    "import sys\n",
    "import json\n",
    "\n",
    "import statistics\n",
    "import collections\n",
    "import operator\n",
    "import itertools\n",
    "import pandas as pd\n",
    "import numpy as np\n",
    "import seaborn as sns\n",
    "import missingno as msno\n",
    "import matplotlib.pyplot as plt\n",
    "\n",
    "from matplotlib import colors\n",
    "import matplotlib.patches as mpatches\n",
    "\n",
    "from collections import Counter\n",
    "from collections import OrderedDict\n",
    "\n",
    "from mpl_toolkits.mplot3d import Axes3D\n",
    "from matplotlib.colors import ListedColormap\n",
    "from  matplotlib.ticker import FuncFormatter\n",
    "\n",
    "from sklearn.preprocessing import RobustScaler\n",
    "from sklearn.preprocessing import MinMaxScaler\n",
    "from sklearn.preprocessing import MaxAbsScaler\n",
    "from sklearn.preprocessing import StandardScaler\n",
    "\n",
    "\n",
    "from sklearn.preprocessing import OrdinalEncoder\n",
    "from sklearn.preprocessing import OneHotEncoder\n",
    "\n",
    "from sklearn.pipeline import Pipeline\n",
    "from sklearn.model_selection import StratifiedKFold\n",
    "from sklearn.model_selection import RandomizedSearchCV\n",
    "\n",
    "plt.rcParams[\"patch.force_edgecolor\"] = True\n",
    "%matplotlib inline"
   ]
  },
  {
   "cell_type": "code",
   "execution_count": 2,
   "metadata": {},
   "outputs": [
    {
     "data": {
      "text/plain": [
       "(103708, 12)"
      ]
     },
     "execution_count": 2,
     "metadata": {},
     "output_type": "execute_result"
    }
   ],
   "source": [
    "tracks = pd.read_csv('../../data/fma_metadata/new_tracks.csv', index_col=0, header=[0, 1])\n",
    "tracks.shape\n",
    "\n",
    "tracks[('track', 'date_created_year')] = \\\n",
    "                                        tracks[('track', 'date_created_year')].astype(str)\n",
    "tracks.shape"
   ]
  },
  {
   "cell_type": "code",
   "execution_count": 3,
   "metadata": {},
   "outputs": [
    {
     "name": "stdout",
     "output_type": "stream",
     "text": [
      "<class 'pandas.core.frame.DataFrame'>\n",
      "Int64Index: 103708 entries, 2 to 155320\n",
      "Data columns (total 12 columns):\n",
      " #   Column                        Non-Null Count   Dtype \n",
      "---  ------                        --------------   ----- \n",
      " 0   (track, genre_top)            103708 non-null  object\n",
      " 1   (set, split)                  103708 non-null  object\n",
      " 2   (track, bit_rate)             103708 non-null  int64 \n",
      " 3   (track, duration)             103708 non-null  int64 \n",
      " 4   (track, listens)              103708 non-null  int64 \n",
      " 5   (track, date_created_year)    103708 non-null  object\n",
      " 6   (track, date_created_season)  103708 non-null  object\n",
      " 7   (artist, id)                  103708 non-null  int64 \n",
      " 8   (artist, favorites)           103708 non-null  int64 \n",
      " 9   (album, id)                   103708 non-null  int64 \n",
      " 10  (album, favorites)            103708 non-null  int64 \n",
      " 11  (album, type)                 103708 non-null  object\n",
      "dtypes: int64(7), object(5)\n",
      "memory usage: 10.3+ MB\n"
     ]
    }
   ],
   "source": [
    "tracks.info()"
   ]
  },
  {
   "cell_type": "markdown",
   "metadata": {},
   "source": [
    "<h2> Librosa features </h2> \n",
    "\n",
    "For each 106,572 tracks, we have 518 Librosa features, having the following cardinalities:\n",
    "\n",
    "1. **chroma_cens** = 12\n",
    "2. **chroma_cqt** = 12\n",
    "3. **chroma_stft** = 12\n",
    "4. **mfcc** = 20\n",
    "5. **rmse** = 1\n",
    "6. **spectral_bandwidth** = 1\n",
    "7. **spectral_centroid** = 1\n",
    "8. **spectral_contrast** = 7\n",
    "9. **spectral_rolloff** = 1\n",
    "10. **tonnetz** = 6\n",
    "11. **zcr** = 1\n",
    "\n",
    "and for each cardinality feature we have the following information:\n",
    "1. **min** = min feature's value;\n",
    "2. **max** = max feature's value;\n",
    "3. **median** = median feature's value;\n",
    "4. **mean** = avg feature's values;\n",
    "5. **std** = std feature's values;\n",
    "6. **skew** = feature's values asymmetry distribution\n",
    "7. **kurtosis** = feature's values tailedness distribution"
   ]
  },
  {
   "cell_type": "code",
   "execution_count": 4,
   "metadata": {},
   "outputs": [
    {
     "data": {
      "text/plain": [
       "(106574, 518)"
      ]
     },
     "execution_count": 4,
     "metadata": {},
     "output_type": "execute_result"
    }
   ],
   "source": [
    "librosaFeatures = pd.read_csv('../../data/fma_metadata/features.csv', index_col=0, header=[0, 1, 2])\n",
    "librosaFeatures.shape"
   ]
  },
  {
   "cell_type": "code",
   "execution_count": 5,
   "metadata": {},
   "outputs": [
    {
     "data": {
      "text/html": [
       "<div>\n",
       "<style scoped>\n",
       "    .dataframe tbody tr th:only-of-type {\n",
       "        vertical-align: middle;\n",
       "    }\n",
       "\n",
       "    .dataframe tbody tr th {\n",
       "        vertical-align: top;\n",
       "    }\n",
       "\n",
       "    .dataframe thead th {\n",
       "        text-align: right;\n",
       "    }\n",
       "</style>\n",
       "<table border=\"1\" class=\"dataframe\">\n",
       "  <thead>\n",
       "    <tr style=\"text-align: right;\">\n",
       "      <th></th>\n",
       "      <th></th>\n",
       "      <th>track_id</th>\n",
       "      <th>2</th>\n",
       "      <th>3</th>\n",
       "    </tr>\n",
       "    <tr>\n",
       "      <th>feature</th>\n",
       "      <th>statistics</th>\n",
       "      <th>number</th>\n",
       "      <th></th>\n",
       "      <th></th>\n",
       "    </tr>\n",
       "  </thead>\n",
       "  <tbody>\n",
       "    <tr>\n",
       "      <th rowspan=\"5\" valign=\"top\">chroma_cens</th>\n",
       "      <th rowspan=\"5\" valign=\"top\">kurtosis</th>\n",
       "      <th>01</th>\n",
       "      <td>7.180653</td>\n",
       "      <td>1.888963</td>\n",
       "    </tr>\n",
       "    <tr>\n",
       "      <th>02</th>\n",
       "      <td>5.230309</td>\n",
       "      <td>0.760539</td>\n",
       "    </tr>\n",
       "    <tr>\n",
       "      <th>03</th>\n",
       "      <td>0.249321</td>\n",
       "      <td>0.345297</td>\n",
       "    </tr>\n",
       "    <tr>\n",
       "      <th>04</th>\n",
       "      <td>1.347620</td>\n",
       "      <td>2.295201</td>\n",
       "    </tr>\n",
       "    <tr>\n",
       "      <th>05</th>\n",
       "      <td>1.482478</td>\n",
       "      <td>1.654031</td>\n",
       "    </tr>\n",
       "    <tr>\n",
       "      <th>...</th>\n",
       "      <th>...</th>\n",
       "      <th>...</th>\n",
       "      <td>...</td>\n",
       "      <td>...</td>\n",
       "    </tr>\n",
       "    <tr>\n",
       "      <th rowspan=\"5\" valign=\"top\">zcr</th>\n",
       "      <th>mean</th>\n",
       "      <th>01</th>\n",
       "      <td>0.085629</td>\n",
       "      <td>0.084578</td>\n",
       "    </tr>\n",
       "    <tr>\n",
       "      <th>median</th>\n",
       "      <th>01</th>\n",
       "      <td>0.071289</td>\n",
       "      <td>0.063965</td>\n",
       "    </tr>\n",
       "    <tr>\n",
       "      <th>min</th>\n",
       "      <th>01</th>\n",
       "      <td>0.000000</td>\n",
       "      <td>0.000000</td>\n",
       "    </tr>\n",
       "    <tr>\n",
       "      <th>skew</th>\n",
       "      <th>01</th>\n",
       "      <td>2.089872</td>\n",
       "      <td>1.716724</td>\n",
       "    </tr>\n",
       "    <tr>\n",
       "      <th>std</th>\n",
       "      <th>01</th>\n",
       "      <td>0.061448</td>\n",
       "      <td>0.069330</td>\n",
       "    </tr>\n",
       "  </tbody>\n",
       "</table>\n",
       "<p>518 rows × 2 columns</p>\n",
       "</div>"
      ],
      "text/plain": [
       "track_id                              2         3\n",
       "feature     statistics number                    \n",
       "chroma_cens kurtosis   01      7.180653  1.888963\n",
       "                       02      5.230309  0.760539\n",
       "                       03      0.249321  0.345297\n",
       "                       04      1.347620  2.295201\n",
       "                       05      1.482478  1.654031\n",
       "...                                 ...       ...\n",
       "zcr         mean       01      0.085629  0.084578\n",
       "            median     01      0.071289  0.063965\n",
       "            min        01      0.000000  0.000000\n",
       "            skew       01      2.089872  1.716724\n",
       "            std        01      0.061448  0.069330\n",
       "\n",
       "[518 rows x 2 columns]"
      ]
     },
     "execution_count": 5,
     "metadata": {},
     "output_type": "execute_result"
    }
   ],
   "source": [
    "librosaFeatures.head(2).T"
   ]
  },
  {
   "cell_type": "code",
   "execution_count": 6,
   "metadata": {},
   "outputs": [
    {
     "name": "stdout",
     "output_type": "stream",
     "text": [
      "Librosa columns: {'chroma_cens': '12', 'chroma_cqt': '12', 'chroma_stft': '12', 'mfcc': '20', 'rmse': '01', 'spectral_bandwidth': '01', 'spectral_centroid': '01', 'spectral_contrast': '07', 'spectral_rolloff': '01', 'tonnetz': '06', 'zcr': '01'}\n",
      "Librosa columns info: {'std', 'mean', 'max', 'median', 'skew', 'kurtosis', 'min'}\n"
     ]
    }
   ],
   "source": [
    "librosa_columns = {}\n",
    "librosa_columns_info = set()\n",
    "for c in librosaFeatures.columns:\n",
    "    librosa_columns_info.add(c[1])\n",
    "    try:\n",
    "        if librosa_columns[str(c[0])] < c[2]:\n",
    "            librosa_columns[str(c[0])] = c[2]\n",
    "    except KeyError:\n",
    "        librosa_columns[str(c[0])] = c[2]\n",
    "print(\"Librosa columns:\", librosa_columns)\n",
    "print(\"Librosa columns info:\", librosa_columns_info)"
   ]
  },
  {
   "cell_type": "markdown",
   "metadata": {},
   "source": [
    "<h6>Keeping only 'mean' columns</h6> "
   ]
  },
  {
   "cell_type": "code",
   "execution_count": 7,
   "metadata": {},
   "outputs": [
    {
     "data": {
      "text/plain": [
       "(106574, 74)"
      ]
     },
     "execution_count": 7,
     "metadata": {},
     "output_type": "execute_result"
    }
   ],
   "source": [
    "mean_columns = []\n",
    "mean_features = []\n",
    "one_nine_numbers = list(range(1, 10))\n",
    "for key, value in librosa_columns.items():\n",
    "    for n in range(1, int(value) + 1):\n",
    "        n = str(n)\n",
    "        if int(n) in one_nine_numbers:\n",
    "            n = \"0\" + n\n",
    "        column_name = key + \"_\" + n\n",
    "        mean_columns.append(column_name)\n",
    "        tmp_serie = librosaFeatures[key]['mean'][n]\n",
    "        mean_features.append(tmp_serie)\n",
    "\n",
    "librosaMeanFeatures = pd.concat(mean_features, axis=1,)\n",
    "librosaMeanFeatures.shape"
   ]
  },
  {
   "cell_type": "code",
   "execution_count": 8,
   "metadata": {},
   "outputs": [],
   "source": [
    "# rename concatenated DataFrame's columns\n",
    "librosaMeanFeatures.columns = list(mean_columns)"
   ]
  },
  {
   "cell_type": "code",
   "execution_count": 9,
   "metadata": {},
   "outputs": [],
   "source": [
    "# librosaMeanFeatures.info()"
   ]
  },
  {
   "cell_type": "markdown",
   "metadata": {},
   "source": [
    "<h2> Pearson correlation</h2>\n",
    "\n",
    "Exploiting the idea found here: https://towardsdatascience.com/are-you-dropping-too-many-correlated-features-d1c96654abe6 and imposing a correlation threshold of +0.50 (-0.50), we deleted 42 librosa features out of 74.\n",
    "\n",
    "In the classification tasks we will perform more advanced feature selection methods, in the attempt to lower dataset's heterogeneous features."
   ]
  },
  {
   "cell_type": "code",
   "execution_count": 10,
   "metadata": {},
   "outputs": [],
   "source": [
    "def normalize_df(df, scaler_flag):\n",
    "    # for column_name in columns_to_normalize:\n",
    "    column_names = list(df.columns)\n",
    "    for column_name in column_names:\n",
    "        data = df[column_name]\n",
    "        scaler = None\n",
    "        if scaler_flag == \"min_max\":\n",
    "            scaler = MinMaxScaler()\n",
    "        elif scaler_flag == \"standard\":\n",
    "            scaler = StandardScaler()\n",
    "        elif scaler_flag == \"maxabs\":\n",
    "            scaler = MaxAbsScaler()\n",
    "        elif scaler_flag == \"robust\":\n",
    "            scaler = RobustScaler()\n",
    "        else:\n",
    "            print(\"scaler_flag error\")\n",
    "            sys.exit(-1)\n",
    "        # fit the model on the feature to normale its values and transform it\n",
    "        df[column_name] = scaler.fit_transform(df[column_name].values.reshape(-1,1))[:, 0]\n",
    "    return df"
   ]
  },
  {
   "cell_type": "code",
   "execution_count": 11,
   "metadata": {},
   "outputs": [],
   "source": [
    "def corrX_orig(df, cut = 0.9) :\n",
    "    \"\"\"\n",
    "    https://towardsdatascience.com/are-you-dropping-too-many-correlated-features-d1c96654abe6\n",
    "    \"\"\"\n",
    "        \n",
    "    # Get correlation matrix and upper triagle\n",
    "    corr_mtx = df.corr().abs()\n",
    "    avg_corr = corr_mtx.mean(axis = 1)\n",
    "    up = corr_mtx.where(np.triu(np.ones(corr_mtx.shape), k=1).astype(np.bool))\n",
    "    \n",
    "    drop = list()\n",
    "\n",
    "        \n",
    "    # For loop implements this pseudocode\n",
    "    # For every cell in the upper triangle: \n",
    "        # If cell.value > 0.6: \n",
    "                # If mean(row_correlation) > mean(column_correlation):drop(column)\n",
    "    # Else: drop(row)\n",
    "    for row in range(len(up)-1):\n",
    "        col_idx = row + 1\n",
    "        for col in range (col_idx, len(up)):\n",
    "            if(corr_mtx.iloc[row, col] > cut):\n",
    "                if(avg_corr.iloc[row] > avg_corr.iloc[col]): \n",
    "                    drop.append(row)\n",
    "                else: \n",
    "                    drop.append(col)\n",
    "    \n",
    "    drop_set = list(set(drop))\n",
    "    # dropcols_idx = drop_set\n",
    "    dropcols_names = list(df.columns[[item for item in drop_set]])\n",
    "    \n",
    "    return(dropcols_names)"
   ]
  },
  {
   "cell_type": "code",
   "execution_count": 12,
   "metadata": {},
   "outputs": [],
   "source": [
    "def calcDrop(res):\n",
    "    # All variables with correlation > cutoff\n",
    "    all_corr_vars = list(set(res['v1'].tolist() + res['v2'].tolist()))\n",
    "    \n",
    "    # All unique variables in drop column\n",
    "    poss_drop = list(set(res['drop'].tolist()))\n",
    "\n",
    "    # Keep any variable not in drop column\n",
    "    keep = list(set(all_corr_vars).difference(set(poss_drop)))\n",
    "     \n",
    "    # Drop any variables in same row as a keep variable\n",
    "    p = res[ res['v1'].isin(keep)  | res['v2'].isin(keep) ][['v1', 'v2']]\n",
    "    q = list(set(p['v1'].tolist() + p['v2'].tolist()))\n",
    "    drop = (list(set(q).difference(set(keep))))\n",
    "\n",
    "    # Remove drop variables from possible drop \n",
    "    poss_drop = list(set(poss_drop).difference(set(drop)))\n",
    "    \n",
    "    # subset res dataframe to include possible drop pairs\n",
    "    m = res[ res['v1'].isin(poss_drop)  | res['v2'].isin(poss_drop) ][['v1', 'v2','drop']]\n",
    "        \n",
    "    # remove rows that are decided (drop), take set and add to drops\n",
    "    more_drop = set(list(m[~m['v1'].isin(drop) & ~m['v2'].isin(drop)]['drop']))\n",
    "    for item in more_drop:\n",
    "        drop.append(item)\n",
    "         \n",
    "    return drop"
   ]
  },
  {
   "cell_type": "code",
   "execution_count": 13,
   "metadata": {},
   "outputs": [],
   "source": [
    "def corrX_new(df, cut = 0.9) :\n",
    "       \n",
    "    # Get correlation matrix and upper triagle\n",
    "    corr_mtx = df.corr().abs()\n",
    "    avg_corr = corr_mtx.mean(axis = 1)\n",
    "    up = corr_mtx.where(np.triu(np.ones(corr_mtx.shape), k=1).astype(np.bool))\n",
    "    \n",
    "    dropcols = list()\n",
    "    \n",
    "    res = pd.DataFrame(columns=(['v1', 'v2', 'v1.target', \n",
    "                                 'v2.target','corr', 'drop' ]))\n",
    "    \n",
    "    for row in range(len(up)-1):\n",
    "        col_idx = row + 1\n",
    "        for col in range (col_idx, len(up)):\n",
    "            if(corr_mtx.iloc[row, col] > cut):\n",
    "                if(avg_corr.iloc[row] > avg_corr.iloc[col]): \n",
    "                    dropcols.append(row)\n",
    "                    drop = corr_mtx.columns[row]\n",
    "                else: \n",
    "                    dropcols.append(col)\n",
    "                    drop = corr_mtx.columns[col]\n",
    "                \n",
    "                s = pd.Series([ corr_mtx.index[row],\n",
    "                up.columns[col],\n",
    "                avg_corr[row],\n",
    "                avg_corr[col],\n",
    "                up.iloc[row,col],\n",
    "                drop],\n",
    "                index = res.columns)\n",
    "        \n",
    "                res = res.append(s, ignore_index = True)\n",
    "    \n",
    "    dropcols_names = calcDrop(res)\n",
    "    \n",
    "    return(dropcols_names)"
   ]
  },
  {
   "cell_type": "code",
   "execution_count": 14,
   "metadata": {},
   "outputs": [
    {
     "data": {
      "image/png": "[encoded data removed]",
      "text/plain": [
       "<Figure size 720x576 with 2 Axes>"
      ]
     },
     "metadata": {
      "needs_background": "light"
     },
     "output_type": "display_data"
    }
   ],
   "source": [
    "norm_librosaMeanFeatures = normalize_df(librosaMeanFeatures, \"min_max\")\n",
    "corr = norm_librosaMeanFeatures.corr()\n",
    "\n",
    "f, ax = plt.subplots(figsize=(10, 8))\n",
    "cmap = sns.diverging_palette(255, 30, 255, as_cmap=True)\n",
    "mask = np.zeros_like(corr, dtype=np.bool)\n",
    "mask[np.triu_indices_from(mask)] = False\n",
    "heatmap = sns.heatmap(corr, mask=mask, cmap=cmap, center=0.0, vmax = 1, vmin = -1, \n",
    "                                                                              square=True, linewidths=1, ax=ax)\n",
    "\n",
    "plt.xlabel(\"\")\n",
    "plt.ylabel(\"\")\n",
    "plt.title(\"Librosa' Pearson correlation coefficient\")\n",
    "plt.show()"
   ]
  },
  {
   "cell_type": "code",
   "execution_count": 15,
   "metadata": {},
   "outputs": [],
   "source": [
    "# old_drop = corrX_orig(norm_librosaMeanFeatures, cut = 0.5)\n",
    "# remanining_columns = sorted(list(set(librosaMeanFeatures).difference(set(old_drop))))\n",
    "# print(\"remanining_columns\", len(remanining_columns))\n",
    "# remanining_columns"
   ]
  },
  {
   "cell_type": "code",
   "execution_count": 16,
   "metadata": {},
   "outputs": [],
   "source": [
    "# old_drop = corrX_orig(norm_librosaMeanFeatures, cut = 0.6)\n",
    "# remanining_columns = sorted(list(set(librosaMeanFeatures).difference(set(old_drop))))\n",
    "# print(\"remanining_columns\", len(remanining_columns))\n",
    "# remanining_columns"
   ]
  },
  {
   "cell_type": "code",
   "execution_count": 17,
   "metadata": {},
   "outputs": [
    {
     "name": "stdout",
     "output_type": "stream",
     "text": [
      "remanining_columns 43\n"
     ]
    },
    {
     "data": {
      "text/plain": [
       "['chroma_cens_01',\n",
       " 'chroma_cens_03',\n",
       " 'chroma_cens_04',\n",
       " 'chroma_cens_06',\n",
       " 'chroma_cens_07',\n",
       " 'chroma_cens_09',\n",
       " 'chroma_cens_11',\n",
       " 'chroma_cens_12',\n",
       " 'chroma_cqt_02',\n",
       " 'chroma_stft_03',\n",
       " 'chroma_stft_05',\n",
       " 'chroma_stft_08',\n",
       " 'chroma_stft_10',\n",
       " 'chroma_stft_12',\n",
       " 'mfcc_02',\n",
       " 'mfcc_03',\n",
       " 'mfcc_04',\n",
       " 'mfcc_05',\n",
       " 'mfcc_06',\n",
       " 'mfcc_07',\n",
       " 'mfcc_09',\n",
       " 'mfcc_10',\n",
       " 'mfcc_11',\n",
       " 'mfcc_13',\n",
       " 'mfcc_14',\n",
       " 'mfcc_15',\n",
       " 'mfcc_16',\n",
       " 'mfcc_17',\n",
       " 'mfcc_19',\n",
       " 'mfcc_20',\n",
       " 'rmse_01',\n",
       " 'spectral_contrast_01',\n",
       " 'spectral_contrast_03',\n",
       " 'spectral_contrast_05',\n",
       " 'spectral_contrast_06',\n",
       " 'spectral_contrast_07',\n",
       " 'tonnetz_01',\n",
       " 'tonnetz_02',\n",
       " 'tonnetz_03',\n",
       " 'tonnetz_04',\n",
       " 'tonnetz_05',\n",
       " 'tonnetz_06',\n",
       " 'zcr_01']"
      ]
     },
     "execution_count": 17,
     "metadata": {},
     "output_type": "execute_result"
    }
   ],
   "source": [
    "new_drop = corrX_new(norm_librosaMeanFeatures, cut = 0.60)\n",
    "remanining_columns = sorted(list(set(librosaMeanFeatures).difference(set(new_drop))))\n",
    "print(\"remanining_columns\", len(remanining_columns))\n",
    "remanining_columns"
   ]
  },
  {
   "cell_type": "code",
   "execution_count": 18,
   "metadata": {},
   "outputs": [
    {
     "name": "stdout",
     "output_type": "stream",
     "text": [
      "remanining_columns 32\n"
     ]
    },
    {
     "data": {
      "text/plain": [
       "['chroma_cens_02',\n",
       " 'chroma_cens_04',\n",
       " 'chroma_cens_06',\n",
       " 'chroma_cens_07',\n",
       " 'chroma_cens_09',\n",
       " 'chroma_cens_11',\n",
       " 'chroma_stft_05',\n",
       " 'chroma_stft_08',\n",
       " 'chroma_stft_10',\n",
       " 'chroma_stft_12',\n",
       " 'mfcc_02',\n",
       " 'mfcc_03',\n",
       " 'mfcc_04',\n",
       " 'mfcc_05',\n",
       " 'mfcc_07',\n",
       " 'mfcc_08',\n",
       " 'mfcc_09',\n",
       " 'mfcc_14',\n",
       " 'mfcc_15',\n",
       " 'mfcc_19',\n",
       " 'mfcc_20',\n",
       " 'rmse_01',\n",
       " 'spectral_contrast_01',\n",
       " 'spectral_contrast_05',\n",
       " 'spectral_contrast_06',\n",
       " 'spectral_contrast_07',\n",
       " 'tonnetz_01',\n",
       " 'tonnetz_02',\n",
       " 'tonnetz_03',\n",
       " 'tonnetz_04',\n",
       " 'tonnetz_05',\n",
       " 'tonnetz_06']"
      ]
     },
     "execution_count": 18,
     "metadata": {},
     "output_type": "execute_result"
    }
   ],
   "source": [
    "new_drop = corrX_new(norm_librosaMeanFeatures, cut = 0.50)\n",
    "remanining_columns = sorted(list(set(librosaMeanFeatures).difference(set(new_drop))))\n",
    "print(\"remanining_columns\", len(remanining_columns))\n",
    "remanining_columns"
   ]
  },
  {
   "cell_type": "markdown",
   "metadata": {},
   "source": [
    "Exploiting the idea found here: https://towardsdatascience.com/are-you-dropping-too-many-correlated-features-d1c96654abe6 and imposing a correlation threshold of +0.50 (-0.50), we deleted 42 librosa features out of 74."
   ]
  },
  {
   "cell_type": "markdown",
   "metadata": {},
   "source": [
    "<h2>Merging librosa and tracks datasets</h2>"
   ]
  },
  {
   "cell_type": "code",
   "execution_count": 19,
   "metadata": {},
   "outputs": [
    {
     "data": {
      "text/plain": [
       "(106574, 32)"
      ]
     },
     "execution_count": 19,
     "metadata": {},
     "output_type": "execute_result"
    }
   ],
   "source": [
    "filtered_librosaMeanFeatures = librosaMeanFeatures[remanining_columns].copy()\n",
    "filtered_librosaMeanFeatures.shape"
   ]
  },
  {
   "cell_type": "code",
   "execution_count": 20,
   "metadata": {},
   "outputs": [
    {
     "name": "stderr",
     "output_type": "stream",
     "text": [
      "/home/alexandra/anaconda3/lib/python3.8/site-packages/pandas/core/reshape/merge.py:618: UserWarning: merging between different levels can give an unintended result (1 levels on the left, 2 on the right)\n",
      "  warnings.warn(msg, UserWarning)\n"
     ]
    },
    {
     "data": {
      "text/plain": [
       "(103708, 44)"
      ]
     },
     "execution_count": 20,
     "metadata": {},
     "output_type": "execute_result"
    }
   ],
   "source": [
    "tracks_librosaMeanFeatures = pd.merge(filtered_librosaMeanFeatures, tracks, left_index=True, right_index=True) \n",
    "tracks_librosaMeanFeatures.shape"
   ]
  },
  {
   "cell_type": "code",
   "execution_count": 21,
   "metadata": {},
   "outputs": [
    {
     "data": {
      "text/plain": [
       "(103708, 37)"
      ]
     },
     "execution_count": 21,
     "metadata": {},
     "output_type": "execute_result"
    }
   ],
   "source": [
    "numerics = ['int16', 'int32', 'int64', 'float16', 'float32', 'float64']\n",
    "numeric_tracks = tracks.select_dtypes(include=numerics)\n",
    "numeric_tracks_librosaMeanFeatures = tracks_librosaMeanFeatures.select_dtypes(include=numerics)\n",
    "del numeric_tracks[('album', 'id')]\n",
    "del numeric_tracks[('artist', 'id')]\n",
    "# del numeric_tracks[('track', 'date_created_year')]\n",
    "del numeric_tracks_librosaMeanFeatures[('album', 'id')]\n",
    "del numeric_tracks_librosaMeanFeatures[('artist', 'id')]\n",
    "# del numeric_tracks_librosaMeanFeatures[('track', 'date_created_year')]\n",
    "numeric_tracks_librosaMeanFeatures.shape"
   ]
  },
  {
   "cell_type": "markdown",
   "metadata": {},
   "source": [
    "<h6>Checking if among librosa and tracks features exist some correlations</h6>"
   ]
  },
  {
   "cell_type": "code",
   "execution_count": 22,
   "metadata": {},
   "outputs": [],
   "source": [
    "norm_numeric_tracks = numeric_tracks_librosaMeanFeatures.dropna().copy()  # N.B. = removing NaN values\n",
    "# del norm_numeric_tracks[('track', 'date_created_year')]\n",
    "norm_numeric_tracks = normalize_df(norm_numeric_tracks, \"min_max\")\n",
    "corr = norm_numeric_tracks.corr()"
   ]
  },
  {
   "cell_type": "code",
   "execution_count": 23,
   "metadata": {},
   "outputs": [],
   "source": [
    "# investigating negative correlation\n",
    "threshold = -0.6\n",
    "for i in range(len(corr.columns)):\n",
    "    for j in range(i):\n",
    "        if (corr.iloc[i, j] <= threshold):\n",
    "            if corr.columns[i] in numeric_tracks or  corr.columns[j] in numeric_tracks:\n",
    "                print(corr.columns[i], corr.columns[j], round(corr.iloc[i, j], 2), sep=\"\\t\")"
   ]
  },
  {
   "cell_type": "code",
   "execution_count": 24,
   "metadata": {},
   "outputs": [],
   "source": [
    "# investigating positive correlation\n",
    "threshold = 0.6\n",
    "for i in range(len(corr.columns)):\n",
    "    for j in range(i):\n",
    "        if (corr.iloc[i, j] >= threshold):\n",
    "            if corr.columns[i] in numeric_tracks or  corr.columns[j] in numeric_tracks:\n",
    "                print(corr.columns[i], corr.columns[j], \"+\" + str(round(corr.iloc[i, j], 2)), sep=\"\\t\")"
   ]
  },
  {
   "cell_type": "markdown",
   "metadata": {},
   "source": [
    "Tracks and Librosa features aren't correlated."
   ]
  },
  {
   "cell_type": "markdown",
   "metadata": {},
   "source": [
    "<h2>Album type librosa features insight</h2>"
   ]
  },
  {
   "cell_type": "code",
   "execution_count": 25,
   "metadata": {},
   "outputs": [],
   "source": [
    "def sns_countplot(df, column_name, ax, log_flag, horizontal_flag):\n",
    "      \n",
    "    # create a list to collect the plt.patches data\n",
    "    percentages = []\n",
    "    # find the values and append to list\n",
    "    for value in reversed(df[column_name].value_counts().index):\n",
    "        perc = df[df[column_name] == value].shape[0] / df.shape[0]*100\n",
    "        percentages.append(perc)\n",
    "    \n",
    "    if horizontal_flag:\n",
    "        if \"AxesSubplot\" not in str(ax):\n",
    "            ax = sns.countplot(y=column_name, data=df, color=\"#4C72B0\", order=reversed(df[column_name].value_counts().index))\n",
    "        else:\n",
    "            sns.countplot(y=column_name, data=df, color=\"#4C72B0\", ax=ax, order=reversed(df[column_name].value_counts().index))\n",
    "        \n",
    "        if log_flag:\n",
    "            plt.xscale('log')\n",
    "        plt.ylabel(str(column_name))\n",
    "        plt.xlabel(\"count\")\n",
    "            \n",
    "        # set individual bar lables using above list\n",
    "        for i, perc  in zip(ax.patches, percentages):\n",
    "            # get_width pulls left or right; get_y pushes up or down\n",
    "            ax.text(i.get_width()+100, i.get_y()+.18, \"%.1f%%\" % perc)\n",
    "        # invert for largest on top \n",
    "        ax.invert_yaxis()\n",
    "        \n",
    "    else:\n",
    "        if \"AxesSubplot\" not in str(ax):\n",
    "            ax = sns.countplot(x=column_name, data=df, color=\"#4C72B0\", order=reversed(df[column_name].value_counts().index))\n",
    "        else:\n",
    "            sns.countplot(x=column_name, data=df, color=\"#4C72B0\", ax=ax, order=reversed(df[column_name].value_counts().index))\n",
    "            \n",
    "        if log_flag:\n",
    "            plt.yscale('log')\n",
    "        plt.xlabel(str(column_name))\n",
    "        plt.ylabel(\"count\")\n",
    "        plt.xticks(sorted(list(df[column_name].dropna().unique())))\n",
    "        \n",
    "    plt.title(\"%s distribution\" % str(column_name))\n",
    "    if \"AxesSubplot\" not in str(ax):\n",
    "        plt.show()"
   ]
  },
  {
   "cell_type": "code",
   "execution_count": 26,
   "metadata": {},
   "outputs": [],
   "source": [
    "def sns_boxplot_ordered_by_mean(df, category_name, numerical_name, ax, horizontal_flag, showfliers):\n",
    "    grouped = df.loc[:,[category_name, numerical_name]].dropna() \\\n",
    "    .groupby([category_name]) \\\n",
    "    .mean() \\\n",
    "    .sort_values(by=numerical_name)\n",
    "    \n",
    "    plt.title(\"%s per %s distribution\" % (str(numerical_name), str(category_name)))\n",
    "    if horizontal_flag:\n",
    "        x = df[numerical_name]\n",
    "        y = df[category_name]\n",
    "    else:\n",
    "        y = df[numerical_name]\n",
    "        x = df[category_name]\n",
    "        plt.xticks(rotation=90)\n",
    "    if \"AxesSubplot\" not in str(ax):\n",
    "        sns.boxplot(x=x, y=y, order=grouped.index, color=\"#4C72B0\", showfliers=showfliers)\n",
    "        plt.show()\n",
    "    else:\n",
    "        sns.boxplot(x=x, y=y, order=grouped.index, color=\"#4C72B0\", showfliers=showfliers, ax=ax)"
   ]
  },
  {
   "cell_type": "code",
   "execution_count": 27,
   "metadata": {},
   "outputs": [],
   "source": [
    "def draw_reversed_frequency_stacked_bar(df, column_name1, column_name2, y_log_flag, x_rotate_flag,\n",
    "                                                                                annotate_top_perc_flag, ax):\n",
    "    alphabetical_genres = sorted(df[column_name1].dropna().unique())\n",
    "    \n",
    "     # get a frequency table of  column_name1 and column_name2\n",
    "    pclass_xt = pd.crosstab(df[column_name1], df[column_name2]).dropna()\n",
    "    \n",
    "    # compute a stacked bar with decreasing frequency for each unique value in column_name1\n",
    "    num_rows = len(alphabetical_genres)\n",
    "    num_column = len(pclass_xt.columns)\n",
    "    ordered_rows = [[]]*num_rows\n",
    "    ordered_columns = [[]]*num_rows\n",
    "    for i in range(0, len(alphabetical_genres)):\n",
    "        g = alphabetical_genres[i]\n",
    "        g_values = []\n",
    "        g_first_columns = []\n",
    "        for column_name in pclass_xt.columns:\n",
    "            tmp_list = list(pclass_xt[column_name])\n",
    "            value = tmp_list[i]\n",
    "            g_values.append(value)\n",
    "            g_first_columns.append(column_name)\n",
    "        sorted_g_values = []\n",
    "        sorted_g_first_columns = []\n",
    "        for j in range(0, num_column):\n",
    "            max_v = max(g_values)\n",
    "            index = g_values.index(max_v)\n",
    "            sorted_g_values.append(max_v)\n",
    "            sorted_g_first_columns.append(g_first_columns[index])\n",
    "            g_values.pop(index)\n",
    "            g_first_columns.pop(index)\n",
    "\n",
    "        ordered_rows[i] = sorted_g_values\n",
    "        ordered_columns[i] = sorted_g_first_columns\n",
    "    \n",
    "    # draw stacked bars\n",
    "    colors_dict = {}\n",
    "    curr_df = df[[column_name1, column_name2]].dropna()\n",
    "    for i in range(0, num_rows):\n",
    "        y = ordered_rows[i]\n",
    "        x = [alphabetical_genres[i]]*len(y)\n",
    "        label = ordered_columns[i]\n",
    "        colors, colors_dict = get_colors_list(pclass_xt.columns, label)\n",
    "        bottoms = [0]  # first bar drawn at y=0\n",
    "        for j in range(1, len(y)):\n",
    "            j_1_elements_sum = sum(y[:j])\n",
    "            bottoms.append(j_1_elements_sum)\n",
    "            \n",
    "        tot_elems =  sum(y)\n",
    "        perc = \"{:.0f}%\".format(int(tot_elems) / curr_df.shape[0]*100)\n",
    "        \n",
    "        if \"AxesSubplot\" not in str(ax):\n",
    "            if annotate_top_perc_flag:\n",
    "                plt.text(x[0], tot_elems, perc, ha='center', va='bottom')\n",
    "            plt.bar(x, y, label=label, color=colors, bottom=bottoms)\n",
    "        else:\n",
    "            if annotate_top_perc_flag:\n",
    "                ax.text(x[0], tot_elems, perc, ha='center', va='bottom')\n",
    "            plt.bar(x, y, label=label, color=colors, bottom=bottoms, ax=ax)\n",
    "            \n",
    "    # self-created legend\n",
    "    handles = []\n",
    "    for key, value in colors_dict.items():\n",
    "        patch = mpatches.Patch(color=value, label=key)\n",
    "        handles.append(patch)\n",
    "    plt.legend(title=column_name2, handles=handles, bbox_to_anchor=(1.05, 1.0), loc=\"upper left\")\n",
    "    \n",
    "    if x_rotate_flag:\n",
    "        plt.xticks(rotation=90)\n",
    "    if y_log_flag:\n",
    "        plt.yscale(\"log\")\n",
    "    plt.xlabel(column_name1)\n",
    "    plt.ylabel(\"count\")\n",
    "    plt.title(\"%s per %s distribution\" % (str(column_name1), str(column_name2)))\n",
    "    \n",
    "    if \"AxesSubplot\" not in str(ax):\n",
    "        plt.show()\n",
    "    \n",
    "    return pclass_xt"
   ]
  },
  {
   "cell_type": "code",
   "execution_count": 28,
   "metadata": {},
   "outputs": [],
   "source": [
    "def print_perc_column(df, column_name):\n",
    "    print(\"%s:\" % str(column_name))\n",
    "    tmp_serie = df[column_name].dropna()\n",
    "    counter = Counter(tmp_serie)\n",
    "    sorted_counter = dict(sorted(counter.items(), key=lambda item: item[1], reverse=True))\n",
    "    tot_values = sum(sorted_counter.values())\n",
    "    for k, v in sorted_counter.items():\n",
    "        perc = v / tot_values * 100\n",
    "        print(k, \"%.1f%%\" % perc, sep=\"\\t\")\n",
    "    print()"
   ]
  },
  {
   "cell_type": "code",
   "execution_count": 29,
   "metadata": {},
   "outputs": [],
   "source": [
    "def print_hues_perc_column(df, column_name, hue):\n",
    "    print(\"%s\" % str(column_name) + \" per %s:\" % str(hue))\n",
    "    for genre in df[hue].dropna().unique():\n",
    "        tmp_serie = df[(df[hue] == genre)][column_name].dropna()\n",
    "        counter = dict(Counter(tmp_serie))\n",
    "        for value in df[column_name].dropna().unique():\n",
    "            try:\n",
    "                tmp = counter[value]\n",
    "                continue\n",
    "            except KeyError:\n",
    "                counter[value] = 0\n",
    "        sorted_counter = dict(sorted(counter.items(), key=lambda item: item[1], reverse=True))\n",
    "        tot_values = sum(sorted_counter.values())\n",
    "        first_k = next(iter(sorted_counter.keys()))\n",
    "        first_v = next(iter(sorted_counter.values()))\n",
    "        perc = first_v / tot_values * 100\n",
    "        print(genre, first_k, \"%.1f%%\" % perc, sep=\"\\t\")"
   ]
  },
  {
   "cell_type": "code",
   "execution_count": 30,
   "metadata": {},
   "outputs": [],
   "source": [
    "def print_hues_all_perc_column(df, column_name, hue):\n",
    "    print(\"%s\" % str(column_name) + \" per %s:\" % str(hue))\n",
    "    for genre in df[hue].dropna().unique():\n",
    "        tmp_serie = df[(df[hue] == genre)][column_name].dropna()\n",
    "        counter = dict(Counter(tmp_serie))\n",
    "        for value in df[column_name].dropna().unique():\n",
    "            try:\n",
    "                tmp = counter[value]\n",
    "                continue\n",
    "            except KeyError:\n",
    "                counter[value] = 0\n",
    "        sorted_counter = dict(sorted(counter.items(), key=lambda item: item[1], reverse=True))\n",
    "        tot_values = sum(sorted_counter.values())\n",
    "        for k, v in sorted_counter.items():\n",
    "            perc = v / tot_values * 100\n",
    "            print(genre, k, \"%.1f%%\" % perc, sep=\"\\t\")\n",
    "        print()"
   ]
  },
  {
   "cell_type": "code",
   "execution_count": 31,
   "metadata": {},
   "outputs": [],
   "source": [
    "def genre_zero_frequency_table_insight(frequency_table, df, column_name, hue):\n",
    "    alphabetical_genres = sorted(df[hue].dropna().unique())\n",
    "    \n",
    "    print(\"%s's zero values:\" % str(column_name))\n",
    "    for column_name in frequency_table.columns:\n",
    "        zero_genres = []\n",
    "        for i in range(0, len(alphabetical_genres)):\n",
    "            tmp_list = list(frequency_table[column_name])\n",
    "            if tmp_list[i] == 0:\n",
    "                zero_genres.append(alphabetical_genres[i])\n",
    "        if len(zero_genres) > 0:\n",
    "            print(column_name, zero_genres)"
   ]
  },
  {
   "cell_type": "code",
   "execution_count": 32,
   "metadata": {},
   "outputs": [],
   "source": [
    "def genre_max_frequency_table_insight(frequency_table, df, column_name, hue):\n",
    "    alphabetical_genres = sorted(df[hue].dropna().unique())\n",
    "    \n",
    "    print(\"%s's max values:\" % str(column_name))\n",
    "    num_rows = len(alphabetical_genres)\n",
    "    num_column = len(pclass_xt.columns)\n",
    "    ordered_rows = [[]]*num_rows\n",
    "    ordered_columns = [[]]*num_rows\n",
    "    for i in range(0, len(alphabetical_genres)):\n",
    "        g = alphabetical_genres[i]\n",
    "        g_values = []\n",
    "        g_first_columns = []\n",
    "        for column_name in pclass_xt.columns:\n",
    "            tmp_list = list(pclass_xt[column_name])\n",
    "            value = tmp_list[i]\n",
    "            g_values.append(value)\n",
    "            g_first_columns.append(column_name)\n",
    "        sorted_g_values = []\n",
    "        sorted_g_first_columns = []\n",
    "        for j in range(0, num_column):\n",
    "            max_v = max(g_values)\n",
    "            index = g_values.index(max_v)\n",
    "            sorted_g_values.append(max_v)\n",
    "            sorted_g_first_columns.append(g_first_columns[index])\n",
    "            g_values.pop(index)\n",
    "            g_first_columns.pop(index)\n",
    "\n",
    "        ordered_rows[i] = sorted_g_values\n",
    "        ordered_columns[i] = sorted_g_first_columns\n",
    "        \n",
    "        first_value = sorted_g_values[0]\n",
    "        first_column = sorted_g_first_columns[0]\n",
    "        greates_values = [(first_column, first_value)]\n",
    "        for j in range(1, num_column):\n",
    "            other_value = sorted_g_values[j]\n",
    "            other_column = sorted_g_first_columns[j]\n",
    "            if other_value == first_value:\n",
    "                greates_values.append((other_column, other_value))\n",
    "            else:\n",
    "                break\n",
    "        genre = alphabetical_genres[i]\n",
    "        try:\n",
    "            perc = greates_values[0][1] / df[df[hue] == genre].shape[0] * 100\n",
    "        except ZeroDivisionError:\n",
    "            perc = 0.0\n",
    "        print(genre, greates_values, \"%.1f%%\" % perc, sep=\"\\t\")"
   ]
  },
  {
   "cell_type": "code",
   "execution_count": 33,
   "metadata": {},
   "outputs": [
    {
     "data": {
      "text/plain": [
       "'column_name1 = (\\'album\\', \\'type\\')\\n\\nfor column_name2 in remanining_columns:\\n    fig = plt.subplots(figsize=(20, 5))\\n    fig_dims = (1, 3)\\n\\n    ax = plt.subplot2grid(fig_dims, (0, 0))\\n    sns_countplot(tracks_librosaMeanFeatures, column_name2, ax, False, True)\\n    ax = plt.subplot2grid(fig_dims, (0, 1))\\n    sns_boxplot_ordered_by_mean(tracks_librosaMeanFeatures, column_name1, column_name2, ax, False, False)\\n    ax = plt.subplot2grid(fig_dims, (0, 2))\\n    pclass_xt = draw_reversed_frequency_stacked_bar(tracks_librosaMeanFeatures, column_name1, column_name2, False, True, True, \"\")\\n    plt.show()\\n    # print_perc_column(tracks_librosaMeanFeatures, column_name2)\\n    # print_hues_perc_column(tracks_librosaMeanFeatures, column_name2, column_name1)\\n    # print_hues_all_perc_column(tracks_librosaMeanFeatures, column_name2, column_name1)\\n    # genre_zero_frequency_table_insight(pclass_xt,  tracks_librosaMeanFeatures, column_name2, column_name1)\\n    genre_max_frequency_table_insight(pclass_xt,  tracks_librosaMeanFeatures, column_name2, column_name1)'"
      ]
     },
     "execution_count": 33,
     "metadata": {},
     "output_type": "execute_result"
    }
   ],
   "source": [
    "\"\"\"column_name1 = ('album', 'type')\n",
    "\n",
    "for column_name2 in remanining_columns:\n",
    "    fig = plt.subplots(figsize=(20, 5))\n",
    "    fig_dims = (1, 3)\n",
    "\n",
    "    ax = plt.subplot2grid(fig_dims, (0, 0))\n",
    "    sns_countplot(tracks_librosaMeanFeatures, column_name2, ax, False, True)\n",
    "    ax = plt.subplot2grid(fig_dims, (0, 1))\n",
    "    sns_boxplot_ordered_by_mean(tracks_librosaMeanFeatures, column_name1, column_name2, ax, False, False)\n",
    "    ax = plt.subplot2grid(fig_dims, (0, 2))\n",
    "    pclass_xt = draw_reversed_frequency_stacked_bar(tracks_librosaMeanFeatures, column_name1, column_name2, False, True, True, \"\")\n",
    "    plt.show()\n",
    "    # print_perc_column(tracks_librosaMeanFeatures, column_name2)\n",
    "    # print_hues_perc_column(tracks_librosaMeanFeatures, column_name2, column_name1)\n",
    "    # print_hues_all_perc_column(tracks_librosaMeanFeatures, column_name2, column_name1)\n",
    "    # genre_zero_frequency_table_insight(pclass_xt,  tracks_librosaMeanFeatures, column_name2, column_name1)\n",
    "    genre_max_frequency_table_insight(pclass_xt,  tracks_librosaMeanFeatures, column_name2, column_name1)\"\"\""
   ]
  },
  {
   "cell_type": "markdown",
   "metadata": {},
   "source": [
    "<h2>Saving our final dataset on file</h2>"
   ]
  },
  {
   "cell_type": "code",
   "execution_count": 34,
   "metadata": {},
   "outputs": [],
   "source": [
    "# rename columns\n",
    "new_columns_names = []\n",
    "for column_name in tracks_librosaMeanFeatures.columns:\n",
    "    if \",\" in str(column_name):\n",
    "        tmp = str(column_name).replace(\"(\", \"\").replace(\")\", \"\").replace(\"\\'\", \"\").replace(\" \", \"\")\n",
    "        tmp_list = tmp.split(\",\")\n",
    "        new_name = str(tmp_list[0]) + \"_\" + str(tmp_list[1])\n",
    "        new_columns_names.append(new_name)\n",
    "    else:\n",
    "        new_columns_names.append(column_name)\n",
    "        \n",
    "# assigning new name to columns\n",
    "tracks_librosaMeanFeatures.columns = new_columns_names"
   ]
  },
  {
   "cell_type": "code",
   "execution_count": 35,
   "metadata": {},
   "outputs": [],
   "source": [
    "# saving our dataset of file\n",
    "tracks_librosaMeanFeatures.to_csv('../../data/fma_metadata/group_20_fma.csv', index=True, header=True)"
   ]
  },
  {
   "cell_type": "markdown",
   "metadata": {},
   "source": [
    "<h2> Preparing dataset for classification </h2>\n",
    "\n",
    "We divide the dataset in **trai, validation, train_merged (train + validation) and test** to perform our classification tasks. This division is derived uppon \"set_split\" column, since both class labels show a stratified representation in each fold.\n",
    "\n",
    "We also encode our categorical variables, using:\n",
    "- onehot-encoding for 'track_genre_top';\n",
    "- ordinal-encoding for 'track_date_created_year' and 'track_date_created_season';\n",
    "- binary-encoding for 'album_type'."
   ]
  },
  {
   "cell_type": "code",
   "execution_count": 36,
   "metadata": {},
   "outputs": [],
   "source": [
    "def print_encoding(column_name, encoder_categories):\n",
    "    \"\"\"\n",
    "    Function which prints the encoding undergone\n",
    "    \"\"\"\n",
    "    print(\"%s's values encoded as:\" % column_name)\n",
    "    for i in range(0, len(encoder_categories[0])):\n",
    "        print(\"%s\" % encoder_categories[0][i], \"%d\" % i, sep=\"\\t\")"
   ]
  },
  {
   "cell_type": "code",
   "execution_count": 37,
   "metadata": {},
   "outputs": [],
   "source": [
    "def replace_categorical_feature_with_dummy_ones(df, column_name, categories_list, dummy_features):\n",
    "    \"\"\"\n",
    "    Function which replaces the nominal feature passed by argument with dummy ones, \n",
    "    to convert nominal column's M values in M new binary (dummy) features.\n",
    "    \"\"\"\n",
    "    # retrive nominal feature's index. It is used to know where to insert the new M binary features\n",
    "    index = df.columns.get_loc(column_name)\n",
    "    for i in range(0, dummy_features.shape[1]):\n",
    "        index += 1\n",
    "        df.insert(index, column_name + \"_\" + str(categories_list[i].replace(\" \", \"_\")), \n",
    "                                                              dummy_features[:, i].todense().astype(int), True)\n",
    "    # remove categorical feature\n",
    "    del df[column_name]\n",
    "    \n",
    "    return df"
   ]
  },
  {
   "cell_type": "code",
   "execution_count": 38,
   "metadata": {},
   "outputs": [],
   "source": [
    "def prepare_splits(df):\n",
    "    target_column = 'album_type'\n",
    "    \n",
    "    train = df[df['set_split'] == 'training']\n",
    "    validation = df[df['set_split'] == 'validation']\n",
    "    test = df[df['set_split'] == 'test']\n",
    "    train_merged = df[(df['set_split'] == 'training') | (df['set_split'] == 'validation')]\n",
    "\n",
    "    not_target_columns = list(df.columns) \n",
    "    not_target_columns.remove('set_split')\n",
    "    not_target_columns.remove('album_id')\n",
    "    not_target_columns.remove('artist_id')\n",
    "    not_target_columns.remove(target_column)\n",
    "\n",
    "    X_train = train[not_target_columns]\n",
    "    X_validation = validation[not_target_columns]\n",
    "    X_test = test[not_target_columns]\n",
    "    X_train_merged = train_merged[not_target_columns]    \n",
    "\n",
    "    y_train = train[[target_column]]\n",
    "    y_validation = validation[[target_column]]\n",
    "    y_test = test[[target_column]]\n",
    "    y_train_merged = train_merged[[target_column]] \n",
    "    \n",
    "    if (X_train.shape[0] != y_train.shape[0]) or (X_validation.shape[0] != y_validation.shape[0]) or \\\n",
    "         (X_train_merged.shape[0] != y_train_merged.shape[0]) or (X_test.shape[0] != y_test.shape[0]):\n",
    "        print(\"error in row shapes\")\n",
    "        sys.exit(-1)\n",
    "\n",
    "    return X_train, X_validation, X_test, X_train_merged, y_train, y_validation, y_test, y_train_merged\n",
    "                             \n",
    "def prepare_dataset_for_classification(df, cat_conversion_flag):\n",
    "    X_train, X_validation, X_test, X_train_merged, y_train, y_validation, y_test, y_train_merged = \\\n",
    "                                                                prepare_splits(df)\n",
    "          \n",
    "    target_column = 'album_type'\n",
    "    categorical_columns = ['track_genre_top']\n",
    "    categories_lists = [list(librosa_tracks['track_genre_top'].unique())]\n",
    "\n",
    "    if cat_conversion_flag:\n",
    "        # onehot encoding\n",
    "        for column_name, categories_list in zip(categorical_columns, categories_lists):\n",
    "            encoder = OneHotEncoder(categories=[categories_list])   \n",
    "            dummy_features = encoder.fit_transform(X_train[column_name].values.reshape(-1,1))  \n",
    "            replace_categorical_feature_with_dummy_ones(X_train, column_name, categories_list, dummy_features)\n",
    "\n",
    "            dummy_features = encoder.transform(X_validation[column_name].values.reshape(-1,1))  \n",
    "            replace_categorical_feature_with_dummy_ones(X_validation, column_name, categories_list, dummy_features)\n",
    "\n",
    "            encoder = OneHotEncoder(categories=[categories_list])   \n",
    "            dummy_features = encoder.fit_transform(X_train_merged[column_name].values.reshape(-1,1))  \n",
    "            replace_categorical_feature_with_dummy_ones(X_train_merged, column_name, categories_list, dummy_features)\n",
    "\n",
    "            dummy_features = encoder.transform(X_test[column_name].values.reshape(-1,1))  \n",
    "            replace_categorical_feature_with_dummy_ones(X_test, column_name, categories_list, dummy_features)\n",
    "\n",
    "            print_encoding(column_name, encoder.categories_)\n",
    "            print()\n",
    "            \n",
    "        # ordinal encoding \n",
    "        cleanup_nums = {'track_date_created_season':{\"Spring\": 1, \"Summer\": 2, \"Autumn\": 3, \"Winter\": 4},\n",
    "                       'track_date_created_year':{2008: 1, 2009: 2, 2010: 3, 2011: 4, 2012: 5,\n",
    "                                                  2013: 6, 2014: 7, 2015: 8, 2016: 9, 2017: 10}}        \n",
    "        X_train = X_train.replace(cleanup_nums)\n",
    "        X_validation = X_validation.replace(cleanup_nums)\n",
    "        X_train_merged = X_train_merged.replace(cleanup_nums)\n",
    "        X_test = X_test.replace(cleanup_nums)\n",
    "\n",
    "        # binary encoding\n",
    "        encoder = OrdinalEncoder(categories=[['Studio Recording', 'Live Recording']])  \n",
    "        y_train[target_column] = encoder.fit_transform(y_train[target_column].values.reshape(-1,1))[:,0].astype(int)\n",
    "        y_validation[target_column] = encoder.transform(y_validation[target_column].values.reshape(-1,1))[:,0].astype(int)\n",
    "\n",
    "        y_train_merged[target_column] = encoder.fit_transform(y_train_merged[target_column].values.reshape(-1,1))[:,0].astype(int)\n",
    "        y_test[target_column] = encoder.transform(y_test[target_column].values.reshape(-1,1))[:,0].astype(int)\n",
    "\n",
    "    \n",
    "    return X_train, X_validation, X_test, X_train_merged, y_train, y_validation, y_test, y_train_merged"
   ]
  },
  {
   "cell_type": "code",
   "execution_count": 39,
   "metadata": {},
   "outputs": [
    {
     "data": {
      "text/plain": [
       "(103708, 44)"
      ]
     },
     "execution_count": 39,
     "metadata": {},
     "output_type": "execute_result"
    }
   ],
   "source": [
    "# checking\n",
    "librosa_tracks = pd.read_csv('../../data/fma_metadata/group_20_fma.csv', index_col=0)\n",
    "librosa_tracks.shape"
   ]
  },
  {
   "cell_type": "code",
   "execution_count": 40,
   "metadata": {},
   "outputs": [
    {
     "name": "stdout",
     "output_type": "stream",
     "text": [
      "track_genre_top's values encoded as:\n",
      "Hip-Hop\t0\n",
      "Pop\t1\n",
      "Experimental\t2\n",
      "Folk\t3\n",
      "Jazz\t4\n",
      "Rock\t5\n",
      "Electronic\t6\n",
      "Spoken\t7\n",
      "International\t8\n",
      "Soul-RnB\t9\n",
      "Blues\t10\n",
      "Classical\t11\n",
      "Country\t12\n",
      "Old-Time / Historic\t13\n",
      "Easy Listening\t14\n",
      "Instrumental\t15\n",
      "\n"
     ]
    }
   ],
   "source": [
    "X_train, X_validation, X_test, X_train_merged, y_train, y_validation, y_test, y_train_merged = \\\n",
    "                                                    prepare_dataset_for_classification(librosa_tracks, True)"
   ]
  },
  {
   "cell_type": "code",
   "execution_count": 41,
   "metadata": {},
   "outputs": [],
   "source": [
    "# saving our dataset of file\n",
    "X_train.to_csv('../../data/fma_metadata/X_train.csv', index=True, header=True)\n",
    "X_validation.to_csv('../../data/fma_metadata/X_validation.csv', index=True, header=True)\n",
    "X_train_merged.to_csv('../../data/fma_metadata/X_train_merged.csv', index=True, header=True)\n",
    "X_test.to_csv('../../data/fma_metadata/X_test.csv', index=True, header=True)\n",
    "\n",
    "y_train.to_csv('../../data/fma_metadata/y_train.csv', index=True, header=True)\n",
    "y_validation.to_csv('../../data/fma_metadata/y_validation.csv', index=True, header=True)\n",
    "y_train_merged.to_csv('../../data/fma_metadata/y_train_merged.csv', index=True, header=True)\n",
    "y_test.to_csv('../../data/fma_metadata/y_test.csv', index=True, header=True)"
   ]
  },
  {
   "cell_type": "code",
   "execution_count": 45,
   "metadata": {},
   "outputs": [
    {
     "name": "stdout",
     "output_type": "stream",
     "text": [
      "track_genre_top's values encoded as:\n",
      "Hip-Hop\t0\n",
      "Pop\t1\n",
      "Experimental\t2\n",
      "Folk\t3\n",
      "Jazz\t4\n",
      "Rock\t5\n",
      "Electronic\t6\n",
      "Spoken\t7\n",
      "International\t8\n",
      "Soul-RnB\t9\n",
      "Blues\t10\n",
      "Classical\t11\n",
      "Country\t12\n",
      "Old-Time / Historic\t13\n",
      "Easy Listening\t14\n",
      "Instrumental\t15\n",
      "\n"
     ]
    }
   ],
   "source": [
    "# trasform categorical/ordinal variables also in final dataset\n",
    "numeric_librosa_tracks = librosa_tracks.copy()\n",
    "\n",
    "target_column = 'album_type'\n",
    "categorical_columns = ['track_genre_top']\n",
    "categories_lists = [list(librosa_tracks['track_genre_top'].unique())]\n",
    "\n",
    "# onehot encoding\n",
    "for column_name, categories_list in zip(categorical_columns, categories_lists):\n",
    "    encoder = OneHotEncoder(categories=[categories_list])   \n",
    "    dummy_features = encoder.fit_transform(numeric_librosa_tracks[column_name].values.reshape(-1,1))  \n",
    "    replace_categorical_feature_with_dummy_ones(numeric_librosa_tracks, column_name, categories_list, dummy_features)\n",
    "\n",
    "    print_encoding(column_name, encoder.categories_)\n",
    "    print()\n",
    "\n",
    "# ordinal encoding \n",
    "cleanup_nums = {'track_date_created_season':{\"Spring\": 1, \"Summer\": 2, \"Autumn\": 3, \"Winter\": 4},\n",
    "               'track_date_created_year':{2008: 1, 2009: 2, 2010: 3, 2011: 4, 2012: 5,\n",
    "                                          2013: 6, 2014: 7, 2015: 8, 2016: 9, 2017: 10}}        \n",
    "numeric_librosa_tracks = numeric_librosa_tracks.replace(cleanup_nums)\n",
    "\n",
    "# binary encoding\n",
    "encoder = OrdinalEncoder(categories=[['Studio Recording', 'Live Recording']])  \n",
    "numeric_librosa_tracks[target_column] = encoder.fit_transform(numeric_librosa_tracks[target_column].values.reshape(-1,1))[:,0].astype(int)\n",
    "\n",
    "del numeric_librosa_tracks['album_id']\n",
    "del numeric_librosa_tracks['artist_id']\n",
    "del numeric_librosa_tracks['set_split']"
   ]
  },
  {
   "cell_type": "code",
   "execution_count": 47,
   "metadata": {},
   "outputs": [],
   "source": [
    "# saving our dataset of file\n",
    "numeric_librosa_tracks.to_csv('../../data/fma_metadata/group_20_fma_numeric.csv', index=True, header=True)"
   ]
  },
  {
   "cell_type": "markdown",
   "metadata": {},
   "source": [
    "<h1>VarianceThreshold</h1>\n",
    "\n",
    "Since we have many features, we remove all features whose variance doesn’t meet some threshold. By default, VarianceThreshold removes all zero-variance features, i.e. features that have the same value in all samples.\n",
    "\n",
    "<u>This feature selection algorithm looks only at the features (X), not the desired outputs (y), and can thus be used for unsupervised learning.</u>"
   ]
  },
  {
   "cell_type": "code",
   "execution_count": 92,
   "metadata": {},
   "outputs": [],
   "source": [
    "from sklearn.feature_selection import VarianceThreshold"
   ]
  },
  {
   "cell_type": "code",
   "execution_count": 93,
   "metadata": {},
   "outputs": [],
   "source": [
    "def retrieve_features_from_get_support(X_tr, mask):\n",
    "    new_features = []\n",
    "    for bool, feature in zip(mask, X_tr.columns):\n",
    "        if bool:\n",
    "            new_features.append(feature)\n",
    "    return new_features"
   ]
  },
  {
   "cell_type": "code",
   "execution_count": 94,
   "metadata": {},
   "outputs": [],
   "source": [
    "def variance_threshold_selection(X_tr, threshold, info_flag):\n",
    "    variance_threshold_features = []\n",
    "    selector = VarianceThreshold(threshold)\n",
    "    selector.fit(X_tr)\n",
    "    print(\"Threshold\", threshold)\n",
    "    if info_flag:\n",
    "        print('Number of features used... ', Counter(selector.get_support())[True])\n",
    "        print('Number of features ignored... ', Counter(selector.get_support())[False])\n",
    "    else:\n",
    "        mask = selector.get_support()\n",
    "        variance_threshold_features = retrieve_features_from_get_support(X_tr, mask)\n",
    "        print('Features used...\\n', '\\n'.join(variance_threshold_features))\n",
    "    print()\n",
    "    return selector, variance_threshold_features"
   ]
  },
  {
   "cell_type": "markdown",
   "metadata": {},
   "source": [
    "<h6> X_train </h6>"
   ]
  },
  {
   "cell_type": "code",
   "execution_count": 95,
   "metadata": {},
   "outputs": [
    {
     "name": "stdout",
     "output_type": "stream",
     "text": [
      "Threshold 0.0\n",
      "Number of features used...  55\n",
      "Number of features ignored...  0\n",
      "\n",
      "Threshold 0.01\n",
      "Number of features used...  28\n",
      "Number of features ignored...  27\n",
      "\n",
      "Threshold 0.02\n",
      "Number of features used...  17\n",
      "Number of features ignored...  38\n",
      "\n",
      "Threshold 0.03\n",
      "Number of features used...  15\n",
      "Number of features ignored...  40\n",
      "\n",
      "Threshold 0.04\n",
      "Number of features used...  15\n",
      "Number of features ignored...  40\n",
      "\n",
      "Threshold 0.05\n",
      "Number of features used...  13\n",
      "Number of features ignored...  42\n",
      "\n",
      "Threshold 0.06\n",
      "Number of features used...  11\n",
      "Number of features ignored...  44\n",
      "\n",
      "Threshold 0.07\n",
      "Number of features used...  11\n",
      "Number of features ignored...  44\n",
      "\n",
      "Threshold 0.08\n",
      "Number of features used...  10\n",
      "Number of features ignored...  45\n",
      "\n",
      "Threshold 0.09\n",
      "Number of features used...  10\n",
      "Number of features ignored...  45\n",
      "\n",
      "Threshold 0.1\n",
      "Number of features used...  10\n",
      "Number of features ignored...  45\n",
      "\n",
      "Threshold 0.11\n",
      "Number of features used...  10\n",
      "Number of features ignored...  45\n",
      "\n",
      "Threshold 0.12\n",
      "Number of features used...  10\n",
      "Number of features ignored...  45\n",
      "\n",
      "Threshold 0.13\n",
      "Number of features used...  10\n",
      "Number of features ignored...  45\n",
      "\n",
      "Threshold 0.14\n",
      "Number of features used...  10\n",
      "Number of features ignored...  45\n",
      "\n",
      "Threshold 0.15\n",
      "Number of features used...  9\n",
      "Number of features ignored...  46\n",
      "\n",
      "Threshold 0.16\n",
      "Number of features used...  9\n",
      "Number of features ignored...  46\n",
      "\n",
      "Threshold 0.17\n",
      "Number of features used...  9\n",
      "Number of features ignored...  46\n",
      "\n",
      "Threshold 0.18\n",
      "Number of features used...  7\n",
      "Number of features ignored...  48\n",
      "\n",
      "Threshold 0.19\n",
      "Number of features used...  7\n",
      "Number of features ignored...  48\n",
      "\n",
      "Threshold 0.2\n",
      "Number of features used...  7\n",
      "Number of features ignored...  48\n",
      "\n"
     ]
    }
   ],
   "source": [
    "#Learn the features to filter from train set\n",
    "# thresholds = list(np.linspace(0, 1, 11))\n",
    "thresholds = list(np.linspace(0, 0.2, 21))\n",
    "for t in thresholds:\n",
    "    selector, _ = variance_threshold_selection(X_train, t, True)"
   ]
  },
  {
   "cell_type": "code",
   "execution_count": 96,
   "metadata": {},
   "outputs": [
    {
     "name": "stdout",
     "output_type": "stream",
     "text": [
      "Threshold 0.01\n",
      "Features used...\n",
      " chroma_cens_02\n",
      "chroma_cens_06\n",
      "chroma_cens_07\n",
      "chroma_cens_09\n",
      "chroma_stft_05\n",
      "chroma_stft_08\n",
      "chroma_stft_10\n",
      "chroma_stft_12\n",
      "mfcc_03\n",
      "spectral_contrast_07\n",
      "track_genre_top_Hip-Hop\n",
      "track_genre_top_Pop\n",
      "track_genre_top_Experimental\n",
      "track_genre_top_Folk\n",
      "track_genre_top_Jazz\n",
      "track_genre_top_Rock\n",
      "track_genre_top_Electronic\n",
      "track_genre_top_International\n",
      "track_genre_top_Soul-RnB\n",
      "track_genre_top_Classical\n",
      "track_genre_top_Instrumental\n",
      "track_bit_rate\n",
      "track_duration\n",
      "track_listens\n",
      "track_date_created_year\n",
      "track_date_created_season\n",
      "artist_favorites\n",
      "album_favorites\n",
      "\n"
     ]
    }
   ],
   "source": [
    "selector1, variance_threshold_features1 = variance_threshold_selection(X_train, 0.01, False)"
   ]
  },
  {
   "cell_type": "code",
   "execution_count": 97,
   "metadata": {},
   "outputs": [
    {
     "name": "stdout",
     "output_type": "stream",
     "text": [
      "Threshold 0.02\n",
      "Features used...\n",
      " spectral_contrast_07\n",
      "track_genre_top_Hip-Hop\n",
      "track_genre_top_Pop\n",
      "track_genre_top_Experimental\n",
      "track_genre_top_Folk\n",
      "track_genre_top_Rock\n",
      "track_genre_top_Electronic\n",
      "track_genre_top_International\n",
      "track_genre_top_Classical\n",
      "track_genre_top_Instrumental\n",
      "track_bit_rate\n",
      "track_duration\n",
      "track_listens\n",
      "track_date_created_year\n",
      "track_date_created_season\n",
      "artist_favorites\n",
      "album_favorites\n",
      "\n"
     ]
    }
   ],
   "source": [
    "selector2, variance_threshold_features2 = variance_threshold_selection(X_train, 0.02, False)"
   ]
  },
  {
   "cell_type": "code",
   "execution_count": 98,
   "metadata": {},
   "outputs": [
    {
     "data": {
      "text/plain": [
       "11"
      ]
     },
     "execution_count": 98,
     "metadata": {},
     "output_type": "execute_result"
    }
   ],
   "source": [
    "count = 0\n",
    "for elem in variance_threshold_features1:\n",
    "    if 'track_genre_top_' in elem:\n",
    "        count += 1\n",
    "count"
   ]
  },
  {
   "cell_type": "code",
   "execution_count": 99,
   "metadata": {},
   "outputs": [
    {
     "data": {
      "text/plain": [
       "{'chroma_cens_02',\n",
       " 'chroma_cens_06',\n",
       " 'chroma_cens_07',\n",
       " 'chroma_cens_09',\n",
       " 'chroma_stft_05',\n",
       " 'chroma_stft_08',\n",
       " 'chroma_stft_10',\n",
       " 'chroma_stft_12',\n",
       " 'mfcc_03',\n",
       " 'track_genre_top_Jazz',\n",
       " 'track_genre_top_Soul-RnB'}"
      ]
     },
     "execution_count": 99,
     "metadata": {},
     "output_type": "execute_result"
    }
   ],
   "source": [
    "set(variance_threshold_features1).difference(set(variance_threshold_features2))"
   ]
  },
  {
   "cell_type": "code",
   "execution_count": 100,
   "metadata": {},
   "outputs": [
    {
     "data": {
      "text/plain": [
       "{'track_genre_top_Blues',\n",
       " 'track_genre_top_Country',\n",
       " 'track_genre_top_Easy_Listening',\n",
       " 'track_genre_top_Old-Time_/_Historic',\n",
       " 'track_genre_top_Spoken'}"
      ]
     },
     "execution_count": 100,
     "metadata": {},
     "output_type": "execute_result"
    }
   ],
   "source": [
    "genre_columns = [c for c in X_train.columns if 'track_genre_top' in c]\n",
    "set(genre_columns).difference(set(variance_threshold_features1))"
   ]
  },
  {
   "cell_type": "code",
   "execution_count": 101,
   "metadata": {},
   "outputs": [
    {
     "name": "stdout",
     "output_type": "stream",
     "text": [
      "Threshold 0.01\n",
      "Features used...\n",
      " chroma_cens_02\n",
      "chroma_cens_06\n",
      "chroma_cens_07\n",
      "chroma_cens_09\n",
      "chroma_stft_05\n",
      "chroma_stft_08\n",
      "chroma_stft_10\n",
      "chroma_stft_12\n",
      "mfcc_03\n",
      "spectral_contrast_07\n",
      "track_genre_top_Hip-Hop\n",
      "track_genre_top_Pop\n",
      "track_genre_top_Experimental\n",
      "track_genre_top_Folk\n",
      "track_genre_top_Jazz\n",
      "track_genre_top_Rock\n",
      "track_genre_top_Electronic\n",
      "track_genre_top_International\n",
      "track_genre_top_Soul-RnB\n",
      "track_genre_top_Classical\n",
      "track_genre_top_Instrumental\n",
      "track_bit_rate\n",
      "track_duration\n",
      "track_listens\n",
      "track_date_created_year\n",
      "track_date_created_season\n",
      "artist_favorites\n",
      "album_favorites\n",
      "\n"
     ]
    }
   ],
   "source": [
    "# retrieve choose threshold features\n",
    "selector_trn, variance_threshold_features_trn = variance_threshold_selection(X_train, 0.01, False)"
   ]
  },
  {
   "cell_type": "markdown",
   "metadata": {},
   "source": [
    "Using a variance threshold of 0.02 we get only the features present in \"tracks.csv\" (a part from  spectral_contrast_07). With a threshold of 0.01 we can notice the introduction of some chroma_cens, chroma_stf and mfcc features.\n",
    "\n",
    "However, we can notice that genres having a frequency lower than 1% in the dataset are still missing using 0.01 as variance threshold (Blues, Country, Easy_Listening, Old-Time/Historic, Spoken). The percentage frequency raises to 1.5% with 0.02 as threshold (Soul-RnB, Jazz).\n",
    "\n",
    "This means that infreqeunt genres aren't used as classification traits, so we can dismiss them.\n",
    "\n",
    "To avoid completly cutting out \"features.csv\"'s variables, **we will use a treshold of 0.01 as our first variance threshold selection method**"
   ]
  },
  {
   "cell_type": "markdown",
   "metadata": {},
   "source": [
    "<h6>X_train_merged</h6>"
   ]
  },
  {
   "cell_type": "code",
   "execution_count": 102,
   "metadata": {},
   "outputs": [
    {
     "name": "stdout",
     "output_type": "stream",
     "text": [
      "Threshold 0.0\n",
      "Number of features used...  55\n",
      "Number of features ignored...  0\n",
      "\n",
      "Threshold 0.01\n",
      "Number of features used...  28\n",
      "Number of features ignored...  27\n",
      "\n",
      "Threshold 0.02\n",
      "Number of features used...  17\n",
      "Number of features ignored...  38\n",
      "\n",
      "Threshold 0.03\n",
      "Number of features used...  15\n",
      "Number of features ignored...  40\n",
      "\n",
      "Threshold 0.04\n",
      "Number of features used...  15\n",
      "Number of features ignored...  40\n",
      "\n",
      "Threshold 0.05\n",
      "Number of features used...  13\n",
      "Number of features ignored...  42\n",
      "\n",
      "Threshold 0.06\n",
      "Number of features used...  11\n",
      "Number of features ignored...  44\n",
      "\n",
      "Threshold 0.07\n",
      "Number of features used...  11\n",
      "Number of features ignored...  44\n",
      "\n",
      "Threshold 0.08\n",
      "Number of features used...  10\n",
      "Number of features ignored...  45\n",
      "\n",
      "Threshold 0.09\n",
      "Number of features used...  10\n",
      "Number of features ignored...  45\n",
      "\n",
      "Threshold 0.1\n",
      "Number of features used...  10\n",
      "Number of features ignored...  45\n",
      "\n",
      "Threshold 0.11\n",
      "Number of features used...  10\n",
      "Number of features ignored...  45\n",
      "\n",
      "Threshold 0.12\n",
      "Number of features used...  10\n",
      "Number of features ignored...  45\n",
      "\n",
      "Threshold 0.13\n",
      "Number of features used...  10\n",
      "Number of features ignored...  45\n",
      "\n",
      "Threshold 0.14\n",
      "Number of features used...  10\n",
      "Number of features ignored...  45\n",
      "\n",
      "Threshold 0.15\n",
      "Number of features used...  9\n",
      "Number of features ignored...  46\n",
      "\n",
      "Threshold 0.16\n",
      "Number of features used...  9\n",
      "Number of features ignored...  46\n",
      "\n",
      "Threshold 0.17\n",
      "Number of features used...  9\n",
      "Number of features ignored...  46\n",
      "\n",
      "Threshold 0.18\n",
      "Number of features used...  7\n",
      "Number of features ignored...  48\n",
      "\n",
      "Threshold 0.19\n",
      "Number of features used...  7\n",
      "Number of features ignored...  48\n",
      "\n",
      "Threshold 0.2\n",
      "Number of features used...  7\n",
      "Number of features ignored...  48\n",
      "\n"
     ]
    }
   ],
   "source": [
    "#Learn the features to filter from train set\n",
    "# thresholds = list(np.linspace(0, 1, 11))\n",
    "thresholds = list(np.linspace(0, 0.2, 21))\n",
    "for t in thresholds:\n",
    "    selector, _ = variance_threshold_selection(X_train_merged, t, True)"
   ]
  },
  {
   "cell_type": "code",
   "execution_count": 103,
   "metadata": {},
   "outputs": [
    {
     "name": "stdout",
     "output_type": "stream",
     "text": [
      "Threshold 0.01\n",
      "Features used...\n",
      " chroma_cens_02\n",
      "chroma_cens_06\n",
      "chroma_cens_07\n",
      "chroma_cens_09\n",
      "chroma_stft_05\n",
      "chroma_stft_08\n",
      "chroma_stft_10\n",
      "chroma_stft_12\n",
      "mfcc_03\n",
      "spectral_contrast_07\n",
      "track_genre_top_Hip-Hop\n",
      "track_genre_top_Pop\n",
      "track_genre_top_Experimental\n",
      "track_genre_top_Folk\n",
      "track_genre_top_Jazz\n",
      "track_genre_top_Rock\n",
      "track_genre_top_Electronic\n",
      "track_genre_top_International\n",
      "track_genre_top_Soul-RnB\n",
      "track_genre_top_Classical\n",
      "track_genre_top_Instrumental\n",
      "track_bit_rate\n",
      "track_duration\n",
      "track_listens\n",
      "track_date_created_year\n",
      "track_date_created_season\n",
      "artist_favorites\n",
      "album_favorites\n",
      "\n"
     ]
    }
   ],
   "source": [
    "# retrieve choose threshold features\n",
    "selector_trn_mrg, variance_threshold_features_trn_mrg = variance_threshold_selection(X_train_merged, 0.01, False)"
   ]
  },
  {
   "cell_type": "code",
   "execution_count": 104,
   "metadata": {},
   "outputs": [
    {
     "data": {
      "text/plain": [
       "set()"
      ]
     },
     "execution_count": 104,
     "metadata": {},
     "output_type": "execute_result"
    }
   ],
   "source": [
    "set(variance_threshold_features_trn).difference(set(variance_threshold_features_trn_mrg))"
   ]
  },
  {
   "cell_type": "code",
   "execution_count": 105,
   "metadata": {},
   "outputs": [
    {
     "data": {
      "text/plain": [
       "set()"
      ]
     },
     "execution_count": 105,
     "metadata": {},
     "output_type": "execute_result"
    }
   ],
   "source": [
    "set(variance_threshold_features_trn_mrg).difference(set(variance_threshold_features_trn))"
   ]
  },
  {
   "cell_type": "markdown",
   "metadata": {},
   "source": [
    "The same features filtered using a threshold of 0.01 are still present in the train+validation data."
   ]
  },
  {
   "cell_type": "code",
   "execution_count": 106,
   "metadata": {},
   "outputs": [],
   "source": [
    "X_train_vt = X_train[variance_threshold_features_trn]\n",
    "X_validation_vt = X_validation[variance_threshold_features_trn]\n",
    "X_train_merged_vt = X_train_merged[variance_threshold_features_trn_mrg]\n",
    "X_test_vt = X_test[variance_threshold_features_trn_mrg]"
   ]
  },
  {
   "cell_type": "code",
   "execution_count": 107,
   "metadata": {},
   "outputs": [],
   "source": [
    "# saving our dataset of file\n",
    "X_train_vt.to_csv('../../data/fma_metadata/X_train_vt.csv', index=True, header=True)\n",
    "X_validation_vt.to_csv('../../data/fma_metadata/X_validation_vt.csv', index=True, header=True)\n",
    "X_train_merged_vt.to_csv('../../data/fma_metadata/X_train_merged_vt.csv', index=True, header=True)\n",
    "X_test_vt.to_csv('../../data/fma_metadata/X_test_vt.csv', index=True, header=True)"
   ]
  },
  {
   "cell_type": "markdown",
   "metadata": {},
   "source": [
    "<h6>ANOVA feature selection (filter method)</h6>\n",
    "Importantly, ANOVA is used when one variable is numeric and one is categorical, such as numerical input variables and a classification target variable in a classification task.\n",
    "\n",
    "ANOVA is an acronym for analysis of variance and is a parametric statistical hypothesis test for determining whether the means from two or more samples of data (often three or more) come from the same distribution or not. An F-statistic, or F-test, is a class of statistical tests that calculate the ratio between variances values, such as the variance from two different samples or the explained and unexplained variance by a statistical test, like ANOVA. The ANOVA method is a type of F-statistic referred to here as an ANOVA F-test.\n",
    "\n",
    "The scikit-learn machine library provides an implementation of the ANOVA F-test in the f classif() function. This function can be used in a feature selection strategy, such as selecting the top k most relevant features (largest values) via the SelectKBest class.\n",
    "\n",
    "We cawilln systematically test a range of different numbers of selected features and discover which results in the best performing model. This is called a grid search, where the k argument to the SelectKBest class can be tuned. It is good practice to evaluate model configurations on classification tasks using repeated stratified k-fold cross-validation. We will use 3-fold cross-validation via the StratifiedKFold class.\n",
    "\n",
    "Since both class labels are equally important and we assign equl cost to FN and FP, we will use as GridSearch's scoring metric the f1_weighted measure (we want a trade-off among precision and recall).\n",
    "\n",
    "N.B.\n",
    "\n",
    "f1_macro => unweighted class label\n",
    "f1_weighted => weighted class label"
   ]
  },
  {
   "cell_type": "code",
   "execution_count": 108,
   "metadata": {},
   "outputs": [],
   "source": [
    "from sklearn.feature_selection import SelectKBest, f_classif, mutual_info_classif  # classification\n",
    "from sklearn.feature_selection import SelectKBest, f_regression, mutual_info_regression  # regression"
   ]
  },
  {
   "cell_type": "code",
   "execution_count": 109,
   "metadata": {},
   "outputs": [],
   "source": [
    "n_iter = 10\n",
    "scoring = 'f1_weighted'\n",
    "random_state = 42\n",
    "n_splits = 3\n",
    "\n",
    "color = \"#4C72B0\""
   ]
  },
  {
   "cell_type": "code",
   "execution_count": 110,
   "metadata": {},
   "outputs": [],
   "source": [
    "def get_best_features_grid_cv(X_tr, y_tr, v_or_t_flag, results, key):\n",
    "    best_k = results.best_params_[key]\n",
    "    if key == 'anova__k':\n",
    "        select_k_best = SelectKBest(score_func=f_classif, k=best_k)\n",
    "        fit = select_k_best.fit(X_tr, y_tr.values.ravel())\n",
    "        df_scores = pd.DataFrame(fit.scores_)\n",
    "        df_columns = pd.DataFrame(X_tr.columns)\n",
    "    elif key == 'rfe__n_features_to_select':\n",
    "        estimator = results.best_params_['rfe__estimator']\n",
    "        select_rfe = RFE(estimator=estimator, n_features_to_select=best_k)  # best_k=estimator\n",
    "        fit = select_rfe.fit(X_tr, y_tr.values.ravel())\n",
    "        df_scores = pd.DataFrame(fit.ranking_)\n",
    "    else:\n",
    "        print(\"wrong key=%s\" % key)\n",
    "        sys.exit(-1)\n",
    "  \n",
    "    df_columns = pd.DataFrame(X_tr.columns)\n",
    "    feature_scores = pd.concat([df_columns, df_scores],axis=1) # concatenate dataframes\n",
    "    feature_scores.columns = ['features','scores']  # name output columns\n",
    "    feature_scores = feature_scores[feature_scores['scores'] != 0]  # keeping only non-zero scoring features\n",
    "\n",
    "    # plot feature importance\n",
    "    fig = plt.figure(figsize=(8, 10))\n",
    "    # keeping ongly best_k features, ordered in descending score\n",
    "    ordered_k_feature_scores = feature_scores.sort_values('scores', ascending=False).iloc[:best_k]\n",
    "    sns.barplot(y='features', x='scores', data=feature_scores, color=color,\n",
    "                                                            order=ordered_k_feature_scores.features)\n",
    "    plt.title(\"%s's %s feature importance\" % (key.split('__')[0].upper(), v_or_t_flag))\n",
    "    plt.show()\n",
    "\n",
    "    # retrieve best features \n",
    "    # best_features = [column[0] for column in zip(X_tr.columns, select_k_best.get_support()) if column[1]]\n",
    "    best_features = list(ordered_k_feature_scores.features)\n",
    "    best_features_scores = list(ordered_k_feature_scores.scores)\n",
    "\n",
    "    return best_features, best_features_scores"
   ]
  },
  {
   "cell_type": "code",
   "execution_count": 111,
   "metadata": {},
   "outputs": [],
   "source": [
    "from scipy.stats import boxcox, shapiro, yeojohnson\n",
    "\n",
    "def anova_feature_selection(X_tr, y_tr, v_or_t_flag):\n",
    "    cv = StratifiedKFold(n_splits=n_splits)\n",
    "    anova = SelectKBest(score_func=f_classif)\n",
    "    pipeline = Pipeline(steps=[('anova', anova)])\n",
    "\n",
    "    # define the grid to search:\n",
    "    grid = dict()                          \n",
    "    grid['anova__k'] = [i+1 for i in range(X_tr.shape[1])]\n",
    "\n",
    "    # define the grid search\n",
    "    # search = GridSearchCV(pipeline, grid, scoring='f1_weighted', n_jobs=-1, cv=cv, verbose=2)\n",
    "    search = RandomizedSearchCV(pipeline, grid, scoring=scoring, n_jobs=-1, \n",
    "                                n_iter=n_iter, cv=cv, verbose=2, refit=False, random_state=random_state)\n",
    "\n",
    "    # normalized data\n",
    "    X_tr_norm = X_tr.apply(lambda x: yeojohnson(x)[0])\n",
    "    # perform the search\n",
    "    results = search.fit(X_tr_norm, y_tr.values.ravel())\n",
    "\n",
    "    # summarize best\n",
    "    params = results.best_params_\n",
    "    print('Best Config: %s ' % params)\n",
    "    best_features, best_features_scores = get_best_features_grid_cv(X_tr, y_tr, v_or_t_flag, results, 'anova__k')\n",
    "\n",
    "    return best_features, best_features_scores"
   ]
  },
  {
   "cell_type": "code",
   "execution_count": 112,
   "metadata": {},
   "outputs": [
    {
     "name": "stdout",
     "output_type": "stream",
     "text": [
      "Fitting 3 folds for each of 10 candidates, totalling 30 fits\n"
     ]
    },
    {
     "name": "stderr",
     "output_type": "stream",
     "text": [
      "/home/alexandra/anaconda3/lib/python3.8/site-packages/sklearn/model_selection/_search.py:918: UserWarning: One or more of the test scores are non-finite: [nan nan nan nan nan nan nan nan nan nan]\n",
      "  warnings.warn(\n"
     ]
    },
    {
     "name": "stdout",
     "output_type": "stream",
     "text": [
      "Best Config: {'anova__k': 32} \n"
     ]
    },
    {
     "data": {
      "image/png": "[encoded data removed]",
      "text/plain": [
       "<Figure size 576x720 with 1 Axes>"
      ]
     },
     "metadata": {
      "needs_background": "light"
     },
     "output_type": "display_data"
    }
   ],
   "source": [
    "anova_best_features_val, anova_best_features_scores_val = anova_feature_selection(X_train, y_train, 'VAL')"
   ]
  },
  {
   "cell_type": "code",
   "execution_count": 113,
   "metadata": {},
   "outputs": [
    {
     "name": "stdout",
     "output_type": "stream",
     "text": [
      "Fitting 3 folds for each of 10 candidates, totalling 30 fits\n"
     ]
    },
    {
     "name": "stderr",
     "output_type": "stream",
     "text": [
      "/home/alexandra/anaconda3/lib/python3.8/site-packages/sklearn/model_selection/_search.py:918: UserWarning: One or more of the test scores are non-finite: [nan nan nan nan nan nan nan nan nan nan]\n",
      "  warnings.warn(\n"
     ]
    },
    {
     "name": "stdout",
     "output_type": "stream",
     "text": [
      "Best Config: {'anova__k': 32} \n"
     ]
    },
    {
     "data": {
      "image/png": "[encoded data removed]",
      "text/plain": [
       "<Figure size 576x720 with 1 Axes>"
      ]
     },
     "metadata": {
      "needs_background": "light"
     },
     "output_type": "display_data"
    }
   ],
   "source": [
    "anova_best_features_tst, anova_best_features_scores_tst = anova_feature_selection(X_train_merged, y_train_merged, 'TST')"
   ]
  },
  {
   "cell_type": "code",
   "execution_count": 114,
   "metadata": {},
   "outputs": [
    {
     "data": {
      "text/plain": [
       "set()"
      ]
     },
     "execution_count": 114,
     "metadata": {},
     "output_type": "execute_result"
    }
   ],
   "source": [
    "set(anova_best_features_val).difference(set(anova_best_features_tst))"
   ]
  },
  {
   "cell_type": "code",
   "execution_count": 115,
   "metadata": {},
   "outputs": [
    {
     "name": "stdout",
     "output_type": "stream",
     "text": [
      "5\tmfcc_14\tmfcc_07\n",
      "6\tmfcc_07\tmfcc_14\n",
      "9\ttrack_genre_top_Experimental\ttrack_genre_top_International\n",
      "10\ttrack_genre_top_International\ttrack_genre_top_Experimental\n",
      "12\tmfcc_02\ttrack_duration\n",
      "14\ttrack_duration\tmfcc_02\n",
      "16\tartist_favorites\ttrack_genre_top_Hip-Hop\n",
      "17\ttrack_genre_top_Hip-Hop\tartist_favorites\n",
      "22\ttonnetz_06\ttrack_genre_top_Spoken\n",
      "23\tchroma_cens_11\ttonnetz_06\n",
      "24\ttrack_genre_top_Spoken\tspectral_contrast_01\n",
      "26\tspectral_contrast_01\tchroma_cens_11\n",
      "27\tchroma_cens_04\tchroma_cens_06\n",
      "28\tchroma_cens_06\ttrack_genre_top_Country\n",
      "30\ttonnetz_01\tchroma_cens_04\n",
      "31\ttrack_genre_top_Country\ttonnetz_01\n"
     ]
    }
   ],
   "source": [
    "for c1, c2, i in zip(anova_best_features_val, anova_best_features_tst, range(0, len(anova_best_features_val))):\n",
    "    if c1 != c2:\n",
    "        print(i, c1, c2, sep=\"\\t\")"
   ]
  },
  {
   "cell_type": "code",
   "execution_count": 116,
   "metadata": {},
   "outputs": [],
   "source": [
    "X_train_anova = X_train[anova_best_features_val]\n",
    "X_validation_anova = X_validation[anova_best_features_val]\n",
    "X_train_merged_anova = X_train_merged[anova_best_features_tst]\n",
    "X_test_anova = X_test[anova_best_features_tst]"
   ]
  },
  {
   "cell_type": "code",
   "execution_count": 117,
   "metadata": {},
   "outputs": [],
   "source": [
    "# saving our dataset of file\n",
    "X_train_anova.to_csv('../../data/fma_metadata/X_train_anova.csv', index=True, header=True)\n",
    "X_validation_anova.to_csv('../../data/fma_metadata/X_validation_anova.csv', index=True, header=True)\n",
    "X_train_merged_anova.to_csv('../../data/fma_metadata/X_train_merged_anova.csv', index=True, header=True)\n",
    "X_test_anova.to_csv('../../data/fma_metadata/X_test_anova.csv', index=True, header=True)"
   ]
  },
  {
   "cell_type": "markdown",
   "metadata": {},
   "source": [
    "<h2>RFE (Recursive Feature Elimination) (wrapper method)</h2>\n",
    "\n",
    "The Recursive Feature Elimination (RFE) method works by recursively removing attributes and building a model on those attributes that remain. It uses accuracy metric to rank the feature according to their importance. The RFE method takes the model to be used and the number of required features as input. It then gives the ranking of all the variables, 1 being most important. It also gives its support, True being relevant feature and False being irrelevant feature.\n",
    "\n",
    "RFE **requires a nested algorithm that is used to provide the feature importance scores**, such\n",
    "as a decision tree (**feature_importances_ attribute**) or a linear model(**coef_ attribute**).\n",
    "\n",
    "Feature importance refers to techniques that assign a score to input features based on how\n",
    "useful they are at predicting a target variable:\n",
    "- statistical correlation scores;\n",
    "- coefficients calculated as part of linear models or decision trees;\n",
    "- permutation importance scores.\n",
    "\n",
    "<u> RFECV automatic select best k number of features </h6>"
   ]
  },
  {
   "cell_type": "code",
   "execution_count": 118,
   "metadata": {},
   "outputs": [],
   "source": [
    "from sklearn.feature_selection import RFE"
   ]
  },
  {
   "cell_type": "code",
   "execution_count": 119,
   "metadata": {},
   "outputs": [],
   "source": [
    "n_iter = 10\n",
    "scoring = 'f1_weighted'\n",
    "random_state = 42\n",
    "n_splits = 3\n",
    "\n",
    "color = \"#4C72B0\""
   ]
  },
  {
   "cell_type": "code",
   "execution_count": 120,
   "metadata": {},
   "outputs": [],
   "source": [
    "from sklearn.tree import DecisionTreeClassifier\n",
    "from sklearn.linear_model import LogisticRegression\n",
    "\n",
    "def rfe_feature_selection(X_tr, y_tr, v_or_t_flag):\n",
    "    cv = StratifiedKFold(n_splits=n_splits)\n",
    "    rfe = RFE(estimator=DecisionTreeClassifier())\n",
    "    pipeline = Pipeline(steps=[('rfe', rfe)])\n",
    "\n",
    "    # define the grid to search:\n",
    "    grid = dict()                          \n",
    "    grid['rfe__estimator'] = [DecisionTreeClassifier(), LogisticRegression(max_iter=10000)]\n",
    "    grid['rfe__n_features_to_select'] = [i+1 for i in range(X_tr.shape[1])]\n",
    "\n",
    "    # define the grid search\n",
    "    # search = GridSearchCV(pipeline, grid, scoring='f1_weighted', n_jobs=-1, cv=cv, verbose=2)\n",
    "    search = RandomizedSearchCV(pipeline, grid, scoring=scoring, n_jobs=-1, \n",
    "                                n_iter=n_iter, cv=cv, verbose=2, refit=False, random_state=random_state)\n",
    "    # perform the search\n",
    "    results = search.fit(X_tr, y_tr.values.ravel())\n",
    "\n",
    "    # summarize best\n",
    "    params = results.best_params_\n",
    "    print('Best Config: %s ' % params)\n",
    "    best_features, best_features_scores = get_best_features_grid_cv(X_tr, y_tr, v_or_t_flag, results,\n",
    "                                                                                   'rfe__n_features_to_select')\n",
    "\n",
    "    return best_features, best_features_scores"
   ]
  },
  {
   "cell_type": "code",
   "execution_count": 121,
   "metadata": {},
   "outputs": [
    {
     "name": "stdout",
     "output_type": "stream",
     "text": [
      "Fitting 3 folds for each of 10 candidates, totalling 30 fits\n",
      "Best Config: {'rfe__n_features_to_select': 30, 'rfe__estimator': LogisticRegression(max_iter=10000)} \n"
     ]
    },
    {
     "data": {
      "image/png": "[encoded data removed]",
      "text/plain": [
       "<Figure size 576x720 with 1 Axes>"
      ]
     },
     "metadata": {
      "needs_background": "light"
     },
     "output_type": "display_data"
    }
   ],
   "source": [
    "rfe_best_features_val, rfe_best_features_scores_val = rfe_feature_selection(X_train, y_train, 'VAL')"
   ]
  },
  {
   "cell_type": "code",
   "execution_count": 122,
   "metadata": {},
   "outputs": [
    {
     "name": "stdout",
     "output_type": "stream",
     "text": [
      "Fitting 3 folds for each of 10 candidates, totalling 30 fits\n",
      "Best Config: {'rfe__n_features_to_select': 30, 'rfe__estimator': LogisticRegression(max_iter=10000)} \n"
     ]
    },
    {
     "data": {
      "image/png": "[encoded data removed]",
      "text/plain": [
       "<Figure size 576x720 with 1 Axes>"
      ]
     },
     "metadata": {
      "needs_background": "light"
     },
     "output_type": "display_data"
    }
   ],
   "source": [
    "rfe_best_features_tst, rfe_best_features_scores_tst = rfe_feature_selection(X_train_merged, y_train_merged, 'TST')"
   ]
  },
  {
   "cell_type": "code",
   "execution_count": 123,
   "metadata": {},
   "outputs": [
    {
     "data": {
      "text/plain": [
       "{'chroma_cens_07',\n",
       " 'chroma_cens_11',\n",
       " 'spectral_contrast_05',\n",
       " 'tonnetz_04',\n",
       " 'tonnetz_06',\n",
       " 'track_genre_top_Blues',\n",
       " 'track_genre_top_International'}"
      ]
     },
     "execution_count": 123,
     "metadata": {},
     "output_type": "execute_result"
    }
   ],
   "source": [
    "set(rfe_best_features_val).difference(set(rfe_best_features_tst))"
   ]
  },
  {
   "cell_type": "code",
   "execution_count": 124,
   "metadata": {},
   "outputs": [
    {
     "data": {
      "text/plain": [
       "{'chroma_cens_09',\n",
       " 'chroma_stft_10',\n",
       " 'tonnetz_03',\n",
       " 'tonnetz_05',\n",
       " 'track_genre_top_Electronic',\n",
       " 'track_genre_top_Hip-Hop',\n",
       " 'track_genre_top_Rock'}"
      ]
     },
     "execution_count": 124,
     "metadata": {},
     "output_type": "execute_result"
    }
   ],
   "source": [
    "set(rfe_best_features_tst).difference(set(rfe_best_features_val))"
   ]
  },
  {
   "cell_type": "code",
   "execution_count": 125,
   "metadata": {},
   "outputs": [],
   "source": [
    "X_train_rfe = X_train[rfe_best_features_val]\n",
    "X_validation_rfe = X_validation[rfe_best_features_val]\n",
    "X_train_merged_rfe = X_train_merged[rfe_best_features_tst]\n",
    "X_test_rfe = X_test[rfe_best_features_tst]"
   ]
  },
  {
   "cell_type": "code",
   "execution_count": 126,
   "metadata": {},
   "outputs": [],
   "source": [
    "# saving our dataset of file\n",
    "X_train_rfe.to_csv('../../data/fma_metadata/X_train_rfe.csv', index=True, header=True)\n",
    "X_validation_rfe.to_csv('../../data/fma_metadata/X_validation_rfe.csv', index=True, header=True)\n",
    "X_train_merged_rfe.to_csv('../../data/fma_metadata/X_train_merged_rfe.csv', index=True, header=True)\n",
    "X_test_rfe.to_csv('../../data/fma_metadata/X_test_rfe.csv', index=True, header=True)"
   ]
  },
  {
   "cell_type": "markdown",
   "metadata": {},
   "source": [
    "<h1>Imbalanced problem</h1>\n",
    "\n",
    "Imbalanced datasets are those where there is a severe skew in the class distribution, such as\n",
    "1:100 or 1:1000 examples in the minority class to the majority class. This bias in the training\n",
    "dataset can influence many machine learning algorithms, leading some to ignore the minority\n",
    "class entirely.\n",
    "\n",
    "As it follows TRN1, VAL, TRN2 and TST are imabalanced."
   ]
  },
  {
   "cell_type": "code",
   "execution_count": 127,
   "metadata": {},
   "outputs": [],
   "source": [
    "def sns_countplot(df, column_name, ax, log_flag, horizontal_flag, v_or_t_flag):\n",
    "      \n",
    "    # create a list to collect the plt.patches data\n",
    "    percentages = []\n",
    "    # find the values and append to list\n",
    "    for value in reversed(df[column_name].value_counts().index):\n",
    "        perc = df[df[column_name] == value].shape[0] / df.shape[0]*100\n",
    "        percentages.append(perc)\n",
    "    \n",
    "    if horizontal_flag:\n",
    "        if \"AxesSubplot\" not in str(ax):\n",
    "            ax = sns.countplot(y=column_name, data=df, color=\"#4C72B0\", order=reversed(df[column_name].value_counts().index))\n",
    "        else:\n",
    "            sns.countplot(y=column_name, data=df, color=\"#4C72B0\", ax=ax, order=reversed(df[column_name].value_counts().index))\n",
    "        \n",
    "        if log_flag:\n",
    "            plt.xscale('log')\n",
    "        plt.ylabel(str(column_name))\n",
    "        plt.xlabel(\"count\")\n",
    "            \n",
    "        # set individual bar lables using above list\n",
    "        for i, perc  in zip(ax.patches, percentages):\n",
    "            # get_width pulls left or right; get_y pushes up or down\n",
    "            ax.text(i.get_width()+100, i.get_y()+.18, \"%.1f%%\" % perc)\n",
    "        # invert for largest on top \n",
    "        ax.invert_yaxis()\n",
    "        \n",
    "    else:\n",
    "        if \"AxesSubplot\" not in str(ax):\n",
    "            ax = sns.countplot(x=column_name, data=df, color=\"#4C72B0\", order=reversed(df[column_name].value_counts().index))\n",
    "        else:\n",
    "            sns.countplot(x=column_name, data=df, color=\"#4C72B0\", ax=ax, order=reversed(df[column_name].value_counts().index))\n",
    "            \n",
    "        if log_flag:\n",
    "            plt.yscale('log')\n",
    "        plt.xlabel(str(column_name))\n",
    "        plt.ylabel(\"count\")\n",
    "        plt.xticks(sorted(list(df[column_name].dropna().unique())))\n",
    "        \n",
    "    plt.title(\"%s %s distribution\" % (str(column_name), v_or_t_flag))\n",
    "    if \"AxesSubplot\" not in str(ax):\n",
    "        plt.show()"
   ]
  },
  {
   "cell_type": "code",
   "execution_count": 128,
   "metadata": {},
   "outputs": [
    {
     "data": {
      "image/png": "[encoded data removed]",
      "text/plain": [
       "<Figure size 432x288 with 1 Axes>"
      ]
     },
     "metadata": {
      "needs_background": "light"
     },
     "output_type": "display_data"
    }
   ],
   "source": [
    "column_name = 'album_type'\n",
    "sns_countplot(y_train, column_name, \"\", False, True, 'TRN')"
   ]
  },
  {
   "cell_type": "code",
   "execution_count": 129,
   "metadata": {},
   "outputs": [
    {
     "data": {
      "image/png": "[encoded data removed]",
      "text/plain": [
       "<Figure size 432x288 with 1 Axes>"
      ]
     },
     "metadata": {
      "needs_background": "light"
     },
     "output_type": "display_data"
    }
   ],
   "source": [
    "column_name = 'album_type'\n",
    "sns_countplot(y_validation, column_name, \"\", False, True, 'VAL')"
   ]
  },
  {
   "cell_type": "code",
   "execution_count": 130,
   "metadata": {},
   "outputs": [
    {
     "data": {
      "image/png": "[encoded data removed]",
      "text/plain": [
       "<Figure size 432x288 with 1 Axes>"
      ]
     },
     "metadata": {
      "needs_background": "light"
     },
     "output_type": "display_data"
    }
   ],
   "source": [
    "column_name = 'album_type'\n",
    "sns_countplot(y_train_merged, column_name, \"\", False, True, 'TRN')"
   ]
  },
  {
   "cell_type": "code",
   "execution_count": 131,
   "metadata": {},
   "outputs": [
    {
     "data": {
      "image/png": "[encoded data removed]",
      "text/plain": [
       "<Figure size 432x288 with 1 Axes>"
      ]
     },
     "metadata": {
      "needs_background": "light"
     },
     "output_type": "display_data"
    }
   ],
   "source": [
    "column_name = 'album_type'\n",
    "sns_countplot(y_test, column_name, \"\", False, True, 'TST')"
   ]
  }
 ],
 "metadata": {
  "kernelspec": {
   "display_name": "Python 3",
   "language": "python",
   "name": "python3"
  },
  "language_info": {
   "codemirror_mode": {
    "name": "ipython",
    "version": 3
   },
   "file_extension": ".py",
   "mimetype": "text/x-python",
   "name": "python",
   "nbconvert_exporter": "python",
   "pygments_lexer": "ipython3",
   "version": "3.8.3"
  }
 },
 "nbformat": 4,
 "nbformat_minor": 4
}
